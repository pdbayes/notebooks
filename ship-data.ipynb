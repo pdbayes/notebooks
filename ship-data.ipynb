{
 "cells": [
  {
   "cell_type": "markdown",
   "metadata": {
    "tags": []
   },
   "source": [
    "# Ship data analysis example\n",
    "\n",
    "<img align=\"right\" src=\"https://movingpandas.github.io/movingpandas/assets/img/movingpandas.png\">\n",
    "\n",
    "[![Binder](https://mybinder.org/badge_logo.svg)](https://mybinder.org/v2/gh/movingpandas/movingpandas-examples/main?filepath=2-analysis-examples/ship-data.ipynb)\n",
    "[![IPYNB](https://img.shields.io/badge/view-ipynb-hotpink)](https://github.com/movingpandas/movingpandas-examples/blob/main/2-analysis-examples/ship-data.ipynb)\n",
    "[![HTML](https://img.shields.io/badge/view-html-green)](https://movingpandas.github.io/movingpandas-website/2-analysis-examples/ship-data.html)\n",
    "\n",
    "This tutorial uses AIS data published by the Danish Maritime Authority. The AIS record sample extracted for this tutorial covers vessel traffic on the 5th July 2017 near Gothenburg.\n",
    "\n",
    "This tutorial covers: \n",
    "1. Trajectory data preprocessing\n",
    "   * Loading movement data from common geospatial file formats \n",
    "   * Exploring spatial & non-spatial data distributions \n",
    "   * Applying filters to extract relevant data\n",
    "   * Converting GeoDataFrames into Trajectories describing continuous tracks of moving objects\n",
    "1. Trajectory analysis\n",
    "   * Visualizing trajectories and their properties\n",
    "   * Filtering trajectories by area of interest\n",
    "   * Splitting continuous tracks into individual trips\n",
    "   * Exploring trip properties including: origins, destinations, and attributes "
   ]
  },
  {
   "cell_type": "code",
   "execution_count": 17,
   "metadata": {},
   "outputs": [
    {
     "name": "stdout",
     "output_type": "stream",
     "text": [
      "Requirement already satisfied: movingpandas in /opt/anaconda3/lib/python3.9/site-packages (0.17.2)\n",
      "Requirement already satisfied: matplotlib in /opt/anaconda3/lib/python3.9/site-packages (from movingpandas) (3.8.4)\n",
      "Requirement already satisfied: geopandas in /opt/anaconda3/lib/python3.9/site-packages (from movingpandas) (0.8.1)\n",
      "Requirement already satisfied: fiona in /opt/anaconda3/lib/python3.9/site-packages (from movingpandas) (1.9.4.post1)\n",
      "Requirement already satisfied: rtree in /opt/anaconda3/lib/python3.9/site-packages (from movingpandas) (1.0.1)\n",
      "Requirement already satisfied: geopy in /opt/anaconda3/lib/python3.9/site-packages (from movingpandas) (2.4.1)\n",
      "Requirement already satisfied: attrs>=19.2.0 in /opt/anaconda3/lib/python3.9/site-packages (from fiona->movingpandas) (23.1.0)\n",
      "Requirement already satisfied: certifi in /opt/anaconda3/lib/python3.9/site-packages (from fiona->movingpandas) (2024.2.2)\n",
      "Requirement already satisfied: click~=8.0 in /opt/anaconda3/lib/python3.9/site-packages (from fiona->movingpandas) (8.1.7)\n",
      "Requirement already satisfied: click-plugins>=1.0 in /opt/anaconda3/lib/python3.9/site-packages (from fiona->movingpandas) (1.1.1)\n",
      "Requirement already satisfied: cligj>=0.5 in /opt/anaconda3/lib/python3.9/site-packages (from fiona->movingpandas) (0.7.2)\n",
      "Requirement already satisfied: six in /opt/anaconda3/lib/python3.9/site-packages (from fiona->movingpandas) (1.16.0)\n",
      "Requirement already satisfied: importlib-metadata in /opt/anaconda3/lib/python3.9/site-packages (from fiona->movingpandas) (7.0.1)\n",
      "Requirement already satisfied: pandas>=0.23.0 in /opt/anaconda3/lib/python3.9/site-packages (from geopandas->movingpandas) (2.1.4)\n",
      "Requirement already satisfied: shapely in /opt/anaconda3/lib/python3.9/site-packages (from geopandas->movingpandas) (2.0.1)\n",
      "Requirement already satisfied: pyproj>=2.2.0 in /opt/anaconda3/lib/python3.9/site-packages (from geopandas->movingpandas) (3.6.0)\n",
      "Requirement already satisfied: geographiclib<3,>=1.52 in /opt/anaconda3/lib/python3.9/site-packages (from geopy->movingpandas) (2.0)\n",
      "Requirement already satisfied: contourpy>=1.0.1 in /opt/anaconda3/lib/python3.9/site-packages (from matplotlib->movingpandas) (1.2.0)\n",
      "Requirement already satisfied: cycler>=0.10 in /opt/anaconda3/lib/python3.9/site-packages (from matplotlib->movingpandas) (0.11.0)\n",
      "Requirement already satisfied: fonttools>=4.22.0 in /opt/anaconda3/lib/python3.9/site-packages (from matplotlib->movingpandas) (4.51.0)\n",
      "Requirement already satisfied: kiwisolver>=1.3.1 in /opt/anaconda3/lib/python3.9/site-packages (from matplotlib->movingpandas) (1.4.4)\n",
      "Requirement already satisfied: numpy>=1.21 in /opt/anaconda3/lib/python3.9/site-packages (from matplotlib->movingpandas) (1.24.3)\n",
      "Requirement already satisfied: packaging>=20.0 in /opt/anaconda3/lib/python3.9/site-packages (from matplotlib->movingpandas) (23.2)\n",
      "Requirement already satisfied: pillow>=8 in /opt/anaconda3/lib/python3.9/site-packages (from matplotlib->movingpandas) (10.3.0)\n",
      "Requirement already satisfied: pyparsing>=2.3.1 in /opt/anaconda3/lib/python3.9/site-packages (from matplotlib->movingpandas) (3.0.9)\n",
      "Requirement already satisfied: python-dateutil>=2.7 in /opt/anaconda3/lib/python3.9/site-packages (from matplotlib->movingpandas) (2.9.0.post0)\n",
      "Requirement already satisfied: importlib-resources>=3.2.0 in /opt/anaconda3/lib/python3.9/site-packages (from matplotlib->movingpandas) (6.1.1)\n",
      "Requirement already satisfied: zipp>=3.1.0 in /opt/anaconda3/lib/python3.9/site-packages (from importlib-resources>=3.2.0->matplotlib->movingpandas) (3.17.0)\n",
      "Requirement already satisfied: pytz>=2020.1 in /opt/anaconda3/lib/python3.9/site-packages (from pandas>=0.23.0->geopandas->movingpandas) (2024.1)\n",
      "Requirement already satisfied: tzdata>=2022.1 in /opt/anaconda3/lib/python3.9/site-packages (from pandas>=0.23.0->geopandas->movingpandas) (2023.3)\n",
      "\n",
      "MovingPandas 0.17.2\n",
      "\n",
      "SYSTEM INFO\n",
      "-----------\n",
      "python     : 3.9.18 (main, Sep 11 2023, 08:38:23)  [Clang 14.0.6 ]\n",
      "executable : /opt/anaconda3/bin/python\n",
      "machine    : macOS-10.16-x86_64-i386-64bit\n",
      "\n",
      "GEOS, GDAL, PROJ INFO\n",
      "---------------------\n",
      "GEOS       : None\n",
      "GEOS lib   : None\n",
      "GDAL       : 3.6.4\n",
      "GDAL data dir: /opt/anaconda3/lib/python3.9/site-packages/fiona/gdal_data\n",
      "PROJ       : 9.2.1\n",
      "PROJ data dir: /opt/anaconda3/lib/python3.9/site-packages/pyproj/proj_dir/share/proj\n",
      "\n",
      "PYTHON DEPENDENCIES\n",
      "-------------------\n",
      "geopandas  : 0.8.1\n",
      "pandas     : 2.1.4\n",
      "fiona      : 1.9.4.post1\n",
      "numpy      : 1.24.3\n",
      "shapely    : 2.0.1\n",
      "rtree      : 1.0.1\n",
      "pyproj     : 3.6.0\n",
      "matplotlib : 3.8.4\n",
      "mapclassify: None\n",
      "geopy      : 2.4.1\n",
      "holoviews  : 1.18.3\n",
      "hvplot     : 0.10.0\n",
      "geoviews   : 1.12.0\n",
      "stonesoup  : None\n"
     ]
    }
   ],
   "source": [
    "!pip install movingpandas\n",
    "import numpy as np\n",
    "import pandas as pd\n",
    "import geopandas as gpd\n",
    "import movingpandas as mpd\n",
    "import shapely as shp\n",
    "import hvplot.pandas \n",
    "import matplotlib.pyplot as plt\n",
    "\n",
    "from geopandas import GeoDataFrame, read_file\n",
    "from shapely.geometry import Point, LineString, Polygon\n",
    "from datetime import datetime, timedelta\n",
    "from holoviews import opts, dim\n",
    "from os.path import exists\n",
    "from urllib.request import urlretrieve\n",
    "\n",
    "import warnings\n",
    "warnings.filterwarnings('ignore')\n",
    "\n",
    "plot_defaults = {'linewidth':5, 'capstyle':'round', 'figsize':(9,3), 'legend':True}\n",
    "opts.defaults(opts.Overlay(active_tools=['wheel_zoom'], frame_width=500, frame_height=400))\n",
    "hvplot_defaults = {'tiles':None, 'cmap':'Viridis', 'colorbar':True}\n",
    "\n",
    "mpd.show_versions()"
   ]
  },
  {
   "cell_type": "markdown",
   "metadata": {},
   "source": [
    "## Loading sample AIS data \n"
   ]
  },
  {
   "cell_type": "code",
   "execution_count": 18,
   "metadata": {},
   "outputs": [
    {
     "name": "stdout",
     "output_type": "stream",
     "text": [
      "Finished reading 84702\n",
      "CPU times: user 9.97 s, sys: 113 ms, total: 10.1 s\n",
      "Wall time: 10.1 s\n"
     ]
    }
   ],
   "source": [
    "%%time\n",
    "df = read_file('ais.gpkg')\n",
    "print(f\"Finished reading {len(df)}\")"
   ]
  },
  {
   "cell_type": "markdown",
   "metadata": {},
   "source": [
    "Let's see what the data looks like:"
   ]
  },
  {
   "cell_type": "code",
   "execution_count": 19,
   "metadata": {},
   "outputs": [
    {
     "data": {
      "text/html": [
       "<div>\n",
       "<style scoped>\n",
       "    .dataframe tbody tr th:only-of-type {\n",
       "        vertical-align: middle;\n",
       "    }\n",
       "\n",
       "    .dataframe tbody tr th {\n",
       "        vertical-align: top;\n",
       "    }\n",
       "\n",
       "    .dataframe thead th {\n",
       "        text-align: right;\n",
       "    }\n",
       "</style>\n",
       "<table border=\"1\" class=\"dataframe\">\n",
       "  <thead>\n",
       "    <tr style=\"text-align: right;\">\n",
       "      <th></th>\n",
       "      <th>Timestamp</th>\n",
       "      <th>MMSI</th>\n",
       "      <th>NavStatus</th>\n",
       "      <th>SOG</th>\n",
       "      <th>COG</th>\n",
       "      <th>Name</th>\n",
       "      <th>ShipType</th>\n",
       "      <th>geometry</th>\n",
       "    </tr>\n",
       "  </thead>\n",
       "  <tbody>\n",
       "    <tr>\n",
       "      <th>0</th>\n",
       "      <td>05/07/2017 00:00:03</td>\n",
       "      <td>219632000</td>\n",
       "      <td>Under way using engine</td>\n",
       "      <td>0.0</td>\n",
       "      <td>270.4</td>\n",
       "      <td>NaN</td>\n",
       "      <td>Undefined</td>\n",
       "      <td>POINT (11.85958 57.68817)</td>\n",
       "    </tr>\n",
       "    <tr>\n",
       "      <th>1</th>\n",
       "      <td>05/07/2017 00:00:05</td>\n",
       "      <td>265650970</td>\n",
       "      <td>Under way using engine</td>\n",
       "      <td>0.0</td>\n",
       "      <td>0.5</td>\n",
       "      <td>NaN</td>\n",
       "      <td>Undefined</td>\n",
       "      <td>POINT (11.84175 57.66150)</td>\n",
       "    </tr>\n",
       "    <tr>\n",
       "      <th>2</th>\n",
       "      <td>05/07/2017 00:00:06</td>\n",
       "      <td>265503900</td>\n",
       "      <td>Under way using engine</td>\n",
       "      <td>0.0</td>\n",
       "      <td>0.0</td>\n",
       "      <td>NaN</td>\n",
       "      <td>Undefined</td>\n",
       "      <td>POINT (11.90650 57.69077)</td>\n",
       "    </tr>\n",
       "    <tr>\n",
       "      <th>3</th>\n",
       "      <td>05/07/2017 00:00:14</td>\n",
       "      <td>219632000</td>\n",
       "      <td>Under way using engine</td>\n",
       "      <td>0.0</td>\n",
       "      <td>188.4</td>\n",
       "      <td>NaN</td>\n",
       "      <td>Undefined</td>\n",
       "      <td>POINT (11.85958 57.68817)</td>\n",
       "    </tr>\n",
       "    <tr>\n",
       "      <th>4</th>\n",
       "      <td>05/07/2017 00:00:19</td>\n",
       "      <td>265519650</td>\n",
       "      <td>Under way using engine</td>\n",
       "      <td>0.0</td>\n",
       "      <td>357.2</td>\n",
       "      <td>NaN</td>\n",
       "      <td>Undefined</td>\n",
       "      <td>POINT (11.87192 57.68233)</td>\n",
       "    </tr>\n",
       "  </tbody>\n",
       "</table>\n",
       "</div>"
      ],
      "text/plain": [
       "             Timestamp       MMSI               NavStatus  SOG    COG Name  \\\n",
       "0  05/07/2017 00:00:03  219632000  Under way using engine  0.0  270.4  NaN   \n",
       "1  05/07/2017 00:00:05  265650970  Under way using engine  0.0    0.5  NaN   \n",
       "2  05/07/2017 00:00:06  265503900  Under way using engine  0.0    0.0  NaN   \n",
       "3  05/07/2017 00:00:14  219632000  Under way using engine  0.0  188.4  NaN   \n",
       "4  05/07/2017 00:00:19  265519650  Under way using engine  0.0  357.2  NaN   \n",
       "\n",
       "    ShipType                   geometry  \n",
       "0  Undefined  POINT (11.85958 57.68817)  \n",
       "1  Undefined  POINT (11.84175 57.66150)  \n",
       "2  Undefined  POINT (11.90650 57.69077)  \n",
       "3  Undefined  POINT (11.85958 57.68817)  \n",
       "4  Undefined  POINT (11.87192 57.68233)  "
      ]
     },
     "execution_count": 19,
     "metadata": {},
     "output_type": "execute_result"
    }
   ],
   "source": [
    "df.head()"
   ]
  },
  {
   "cell_type": "code",
   "execution_count": 20,
   "metadata": {},
   "outputs": [
    {
     "data": {
      "text/plain": [
       "<Axes: >"
      ]
     },
     "execution_count": 20,
     "metadata": {},
     "output_type": "execute_result"
    },
    {
     "data": {
      "image/png": "[encoded data removed]",
      "text/plain": [
       "<Figure size 640x480 with 1 Axes>"
      ]
     },
     "metadata": {},
     "output_type": "display_data"
    }
   ],
   "source": [
    "df.plot()"
   ]
  },
  {
   "cell_type": "markdown",
   "metadata": {},
   "source": [
    "If we look at the data distributions, we can see that there are a lot of records with speed over ground (SOG) values of zero in this dataframe:"
   ]
  },
  {
   "cell_type": "code",
   "execution_count": 21,
   "metadata": {},
   "outputs": [
    {
     "data": {
      "text/plain": [
       "<Axes: >"
      ]
     },
     "execution_count": 21,
     "metadata": {},
     "output_type": "execute_result"
    },
    {
     "data": {
      "image/png": "[encoded data removed]",
      "text/plain": [
       "<Figure size 1500x300 with 1 Axes>"
      ]
     },
     "metadata": {},
     "output_type": "display_data"
    }
   ],
   "source": [
    "df['SOG'].hist(bins=100, figsize=(15,3))"
   ]
  },
  {
   "cell_type": "markdown",
   "metadata": {},
   "source": [
    "Let's get rid of these rows with zero SOG:"
   ]
  },
  {
   "cell_type": "code",
   "execution_count": 22,
   "metadata": {},
   "outputs": [
    {
     "name": "stdout",
     "output_type": "stream",
     "text": [
      "Original size: 84702 rows\n",
      "Reduced to 33593 rows after removing 0 speed records\n"
     ]
    },
    {
     "data": {
      "text/plain": [
       "<Axes: >"
      ]
     },
     "execution_count": 22,
     "metadata": {},
     "output_type": "execute_result"
    },
    {
     "data": {
      "image/png": "[encoded data removed]",
      "text/plain": [
       "<Figure size 1500x300 with 1 Axes>"
      ]
     },
     "metadata": {},
     "output_type": "display_data"
    }
   ],
   "source": [
    "print(f\"Original size: {len(df)} rows\")\n",
    "df = df[df.SOG>0]\n",
    "print(f\"Reduced to {len(df)} rows after removing 0 speed records\")\n",
    "df['SOG'].hist(bins=100, figsize=(15,3))"
   ]
  },
  {
   "cell_type": "markdown",
   "metadata": {},
   "source": [
    "Let's see what kind of ships we have in our dataset:"
   ]
  },
  {
   "cell_type": "code",
   "execution_count": 23,
   "metadata": {},
   "outputs": [
    {
     "data": {
      "text/plain": [
       "<Axes: xlabel='ShipType'>"
      ]
     },
     "execution_count": 23,
     "metadata": {},
     "output_type": "execute_result"
    },
    {
     "data": {
      "image/png": "[encoded data removed]",
      "text/plain": [
       "<Figure size 1500x300 with 1 Axes>"
      ]
     },
     "metadata": {},
     "output_type": "display_data"
    }
   ],
   "source": [
    "df['ShipType'].value_counts().plot(kind='bar', figsize=(15,3))"
   ]
  },
  {
   "cell_type": "markdown",
   "metadata": {},
   "source": [
    "Finally, let's create trajectories:"
   ]
  },
  {
   "cell_type": "code",
   "execution_count": 24,
   "metadata": {},
   "outputs": [
    {
     "name": "stdout",
     "output_type": "stream",
     "text": [
      "Finished creating 86 trajectories\n",
      "CPU times: user 2.77 s, sys: 7.89 ms, total: 2.77 s\n",
      "Wall time: 2.78 s\n"
     ]
    }
   ],
   "source": [
    "%%time\n",
    "df['t'] = pd.to_datetime(df['Timestamp'], format='%d/%m/%Y %H:%M:%S')\n",
    "traj_collection = mpd.TrajectoryCollection(df, 'MMSI', t='t', min_length=2)\n",
    "print(f\"Finished creating {len(traj_collection)} trajectories\")"
   ]
  },
  {
   "cell_type": "code",
   "execution_count": 27,
   "metadata": {},
   "outputs": [
    {
     "name": "stdout",
     "output_type": "stream",
     "text": [
      "TrajectoryCollection with 86 trajectories\n"
     ]
    }
   ],
   "source": [
    "traj_collection = mpd.MinTimeDeltaGeneralizer(traj_collection).generalize(tolerance=timedelta(minutes=1))\n",
    "print(traj_collection)"
   ]
  },
  {
   "cell_type": "markdown",
   "metadata": {},
   "source": [
    "## Plotting trajectories\n",
    "\n",
    "Let's give the most common ship types distinct colors. The remaining ones will be just grey:"
   ]
  },
  {
   "cell_type": "code",
   "execution_count": 28,
   "metadata": {},
   "outputs": [
    {
     "ename": "IndexError",
     "evalue": "too many indices for array: array is 0-dimensional, but 2 were indexed",
     "output_type": "error",
     "traceback": [
      "\u001b[0;31m---------------------------------------------------------------------------\u001b[0m",
      "\u001b[0;31mIndexError\u001b[0m                                Traceback (most recent call last)",
      "Cell \u001b[0;32mIn[28], line 4\u001b[0m\n\u001b[1;32m      1\u001b[0m shiptype_to_color \u001b[38;5;241m=\u001b[39m {\u001b[38;5;124m'\u001b[39m\u001b[38;5;124mPassenger\u001b[39m\u001b[38;5;124m'\u001b[39m: \u001b[38;5;124m'\u001b[39m\u001b[38;5;124mblue\u001b[39m\u001b[38;5;124m'\u001b[39m, \u001b[38;5;124m'\u001b[39m\u001b[38;5;124mHSC\u001b[39m\u001b[38;5;124m'\u001b[39m: \u001b[38;5;124m'\u001b[39m\u001b[38;5;124mgreen\u001b[39m\u001b[38;5;124m'\u001b[39m, \u001b[38;5;124m'\u001b[39m\u001b[38;5;124mTanker\u001b[39m\u001b[38;5;124m'\u001b[39m: \u001b[38;5;124m'\u001b[39m\u001b[38;5;124mred\u001b[39m\u001b[38;5;124m'\u001b[39m, \u001b[38;5;124m'\u001b[39m\u001b[38;5;124mCargo\u001b[39m\u001b[38;5;124m'\u001b[39m: \u001b[38;5;124m'\u001b[39m\u001b[38;5;124morange\u001b[39m\u001b[38;5;124m'\u001b[39m, \u001b[38;5;124m'\u001b[39m\u001b[38;5;124mSailing\u001b[39m\u001b[38;5;124m'\u001b[39m: \u001b[38;5;124m'\u001b[39m\u001b[38;5;124mgrey\u001b[39m\u001b[38;5;124m'\u001b[39m, \u001b[38;5;124m'\u001b[39m\u001b[38;5;124mOther\u001b[39m\u001b[38;5;124m'\u001b[39m: \u001b[38;5;124m'\u001b[39m\u001b[38;5;124mgrey\u001b[39m\u001b[38;5;124m'\u001b[39m, \n\u001b[1;32m      2\u001b[0m                      \u001b[38;5;124m'\u001b[39m\u001b[38;5;124mTug\u001b[39m\u001b[38;5;124m'\u001b[39m: \u001b[38;5;124m'\u001b[39m\u001b[38;5;124mgrey\u001b[39m\u001b[38;5;124m'\u001b[39m, \u001b[38;5;124m'\u001b[39m\u001b[38;5;124mSAR\u001b[39m\u001b[38;5;124m'\u001b[39m: \u001b[38;5;124m'\u001b[39m\u001b[38;5;124mgrey\u001b[39m\u001b[38;5;124m'\u001b[39m, \u001b[38;5;124m'\u001b[39m\u001b[38;5;124mUndefined\u001b[39m\u001b[38;5;124m'\u001b[39m: \u001b[38;5;124m'\u001b[39m\u001b[38;5;124mgrey\u001b[39m\u001b[38;5;124m'\u001b[39m, \u001b[38;5;124m'\u001b[39m\u001b[38;5;124mPleasure\u001b[39m\u001b[38;5;124m'\u001b[39m: \u001b[38;5;124m'\u001b[39m\u001b[38;5;124mgrey\u001b[39m\u001b[38;5;124m'\u001b[39m, \u001b[38;5;124m'\u001b[39m\u001b[38;5;124mDredging\u001b[39m\u001b[38;5;124m'\u001b[39m: \u001b[38;5;124m'\u001b[39m\u001b[38;5;124mgrey\u001b[39m\u001b[38;5;124m'\u001b[39m, \u001b[38;5;124m'\u001b[39m\u001b[38;5;124mLaw enforcement\u001b[39m\u001b[38;5;124m'\u001b[39m: \u001b[38;5;124m'\u001b[39m\u001b[38;5;124mgrey\u001b[39m\u001b[38;5;124m'\u001b[39m,\n\u001b[1;32m      3\u001b[0m                     \u001b[38;5;124m'\u001b[39m\u001b[38;5;124mPilot\u001b[39m\u001b[38;5;124m'\u001b[39m: \u001b[38;5;124m'\u001b[39m\u001b[38;5;124mgrey\u001b[39m\u001b[38;5;124m'\u001b[39m, \u001b[38;5;124m'\u001b[39m\u001b[38;5;124mFishing\u001b[39m\u001b[38;5;124m'\u001b[39m: \u001b[38;5;124m'\u001b[39m\u001b[38;5;124mgrey\u001b[39m\u001b[38;5;124m'\u001b[39m, \u001b[38;5;124m'\u001b[39m\u001b[38;5;124mDiving\u001b[39m\u001b[38;5;124m'\u001b[39m:\u001b[38;5;124m'\u001b[39m\u001b[38;5;124mgrey\u001b[39m\u001b[38;5;124m'\u001b[39m, \u001b[38;5;124m'\u001b[39m\u001b[38;5;124mSpare 2\u001b[39m\u001b[38;5;124m'\u001b[39m: \u001b[38;5;124m'\u001b[39m\u001b[38;5;124mgrey\u001b[39m\u001b[38;5;124m'\u001b[39m}\n\u001b[0;32m----> 4\u001b[0m \u001b[43mtraj_collection\u001b[49m\u001b[38;5;241;43m.\u001b[39;49m\u001b[43mplot\u001b[49m\u001b[43m(\u001b[49m\u001b[43mcolumn\u001b[49m\u001b[38;5;241;43m=\u001b[39;49m\u001b[38;5;124;43m'\u001b[39;49m\u001b[38;5;124;43mShipType\u001b[39;49m\u001b[38;5;124;43m'\u001b[39;49m\u001b[43m,\u001b[49m\u001b[43m \u001b[49m\u001b[43mcolumn_to_color\u001b[49m\u001b[38;5;241;43m=\u001b[39;49m\u001b[43mshiptype_to_color\u001b[49m\u001b[43m,\u001b[49m\u001b[43m \u001b[49m\u001b[43mlinewidth\u001b[49m\u001b[38;5;241;43m=\u001b[39;49m\u001b[38;5;241;43m1\u001b[39;49m\u001b[43m,\u001b[49m\u001b[43m \u001b[49m\u001b[43mcapstyle\u001b[49m\u001b[38;5;241;43m=\u001b[39;49m\u001b[38;5;124;43m'\u001b[39;49m\u001b[38;5;124;43mround\u001b[39;49m\u001b[38;5;124;43m'\u001b[39;49m\u001b[43m)\u001b[49m\n",
      "File \u001b[0;32m/opt/anaconda3/lib/python3.9/site-packages/movingpandas/trajectory_collection.py:677\u001b[0m, in \u001b[0;36mTrajectoryCollection.plot\u001b[0;34m(self, *args, **kwargs)\u001b[0m\n\u001b[1;32m    660\u001b[0m \u001b[38;5;28;01mdef\u001b[39;00m \u001b[38;5;21mplot\u001b[39m(\u001b[38;5;28mself\u001b[39m, \u001b[38;5;241m*\u001b[39margs, \u001b[38;5;241m*\u001b[39m\u001b[38;5;241m*\u001b[39mkwargs):\n\u001b[1;32m    661\u001b[0m \u001b[38;5;250m    \u001b[39m\u001b[38;5;124;03m\"\"\"\u001b[39;00m\n\u001b[1;32m    662\u001b[0m \u001b[38;5;124;03m    Generate a plot.\u001b[39;00m\n\u001b[1;32m    663\u001b[0m \n\u001b[0;32m   (...)\u001b[0m\n\u001b[1;32m    675\u001b[0m \u001b[38;5;124;03m    >>> trajectory_collection.plot(column='speed', legend=True, figsize=(9,5))\u001b[39;00m\n\u001b[1;32m    676\u001b[0m \u001b[38;5;124;03m    \"\"\"\u001b[39;00m\n\u001b[0;32m--> 677\u001b[0m     \u001b[38;5;28;01mreturn\u001b[39;00m \u001b[43m_TrajectoryPlotter\u001b[49m\u001b[43m(\u001b[49m\u001b[38;5;28;43mself\u001b[39;49m\u001b[43m,\u001b[49m\u001b[43m \u001b[49m\u001b[38;5;241;43m*\u001b[39;49m\u001b[43margs\u001b[49m\u001b[43m,\u001b[49m\u001b[43m \u001b[49m\u001b[38;5;241;43m*\u001b[39;49m\u001b[38;5;241;43m*\u001b[39;49m\u001b[43mkwargs\u001b[49m\u001b[43m)\u001b[49m\u001b[38;5;241;43m.\u001b[39;49m\u001b[43mplot\u001b[49m\u001b[43m(\u001b[49m\u001b[43m)\u001b[49m\n",
      "File \u001b[0;32m/opt/anaconda3/lib/python3.9/site-packages/movingpandas/trajectory_plotter.py:58\u001b[0m, in \u001b[0;36m_TrajectoryPlotter.plot\u001b[0;34m(self)\u001b[0m\n\u001b[1;32m     56\u001b[0m     \u001b[38;5;28mself\u001b[39m\u001b[38;5;241m.\u001b[39max \u001b[38;5;241m=\u001b[39m plt\u001b[38;5;241m.\u001b[39mfigure(figsize\u001b[38;5;241m=\u001b[39m\u001b[38;5;28mself\u001b[39m\u001b[38;5;241m.\u001b[39mfigsize)\u001b[38;5;241m.\u001b[39madd_subplot(\u001b[38;5;241m1\u001b[39m, \u001b[38;5;241m1\u001b[39m, \u001b[38;5;241m1\u001b[39m)\n\u001b[1;32m     57\u001b[0m tc \u001b[38;5;241m=\u001b[39m \u001b[38;5;28mself\u001b[39m\u001b[38;5;241m.\u001b[39mpreprocess_data()\n\u001b[0;32m---> 58\u001b[0m line_plot \u001b[38;5;241m=\u001b[39m \u001b[38;5;28;43mself\u001b[39;49m\u001b[38;5;241;43m.\u001b[39;49m\u001b[43mplot_lines\u001b[49m\u001b[43m(\u001b[49m\u001b[43mtc\u001b[49m\u001b[43m)\u001b[49m\n\u001b[1;32m     60\u001b[0m to_drop \u001b[38;5;241m=\u001b[39m [x \u001b[38;5;28;01mfor\u001b[39;00m x \u001b[38;5;129;01min\u001b[39;00m tc\u001b[38;5;241m.\u001b[39mget_column_names() \u001b[38;5;28;01mif\u001b[39;00m x \u001b[38;5;129;01mnot\u001b[39;00m \u001b[38;5;129;01min\u001b[39;00m \u001b[38;5;28mself\u001b[39m\u001b[38;5;241m.\u001b[39mcolumn_names]\n\u001b[1;32m     61\u001b[0m tc\u001b[38;5;241m.\u001b[39mdrop(columns\u001b[38;5;241m=\u001b[39mto_drop)\n",
      "File \u001b[0;32m/opt/anaconda3/lib/python3.9/site-packages/movingpandas/trajectory_plotter.py:87\u001b[0m, in \u001b[0;36m_TrajectoryPlotter.plot_lines\u001b[0;34m(self, tc)\u001b[0m\n\u001b[1;32m     85\u001b[0m     line_gdf[\u001b[38;5;124m\"\u001b[39m\u001b[38;5;124mcolor\u001b[39m\u001b[38;5;124m\"\u001b[39m] \u001b[38;5;241m=\u001b[39m \u001b[38;5;124m\"\u001b[39m\u001b[38;5;124mgrey\u001b[39m\u001b[38;5;124m\"\u001b[39m\n\u001b[1;32m     86\u001b[0m     line_gdf[\u001b[38;5;124m\"\u001b[39m\u001b[38;5;124mcolor\u001b[39m\u001b[38;5;124m\"\u001b[39m] \u001b[38;5;241m=\u001b[39m line_gdf[\u001b[38;5;28mself\u001b[39m\u001b[38;5;241m.\u001b[39mcolumn]\u001b[38;5;241m.\u001b[39mapply(\u001b[38;5;28;01mlambda\u001b[39;00m x: \u001b[38;5;28mself\u001b[39m\u001b[38;5;241m.\u001b[39mcolormap[x])\n\u001b[0;32m---> 87\u001b[0m     \u001b[38;5;28;01mreturn\u001b[39;00m \u001b[43mline_gdf\u001b[49m\u001b[38;5;241;43m.\u001b[39;49m\u001b[43mplot\u001b[49m\u001b[43m(\u001b[49m\n\u001b[1;32m     88\u001b[0m \u001b[43m        \u001b[49m\u001b[43max\u001b[49m\u001b[38;5;241;43m=\u001b[39;49m\u001b[38;5;28;43mself\u001b[39;49m\u001b[38;5;241;43m.\u001b[39;49m\u001b[43max\u001b[49m\u001b[43m,\u001b[49m\u001b[43m \u001b[49m\u001b[43mcolor\u001b[49m\u001b[38;5;241;43m=\u001b[39;49m\u001b[43mline_gdf\u001b[49m\u001b[43m[\u001b[49m\u001b[38;5;124;43m\"\u001b[39;49m\u001b[38;5;124;43mcolor\u001b[39;49m\u001b[38;5;124;43m\"\u001b[39;49m\u001b[43m]\u001b[49m\u001b[43m,\u001b[49m\u001b[43m \u001b[49m\u001b[38;5;241;43m*\u001b[39;49m\u001b[38;5;28;43mself\u001b[39;49m\u001b[38;5;241;43m.\u001b[39;49m\u001b[43margs\u001b[49m\u001b[43m,\u001b[49m\u001b[43m \u001b[49m\u001b[38;5;241;43m*\u001b[39;49m\u001b[38;5;241;43m*\u001b[39;49m\u001b[38;5;28;43mself\u001b[39;49m\u001b[38;5;241;43m.\u001b[39;49m\u001b[43mkwargs\u001b[49m\n\u001b[1;32m     89\u001b[0m \u001b[43m    \u001b[49m\u001b[43m)\u001b[49m\n\u001b[1;32m     90\u001b[0m \u001b[38;5;28;01melse\u001b[39;00m:\n\u001b[1;32m     91\u001b[0m     \u001b[38;5;28mself\u001b[39m\u001b[38;5;241m.\u001b[39mkwargs\u001b[38;5;241m.\u001b[39mpop(\u001b[38;5;124m\"\u001b[39m\u001b[38;5;124mvmin\u001b[39m\u001b[38;5;124m\"\u001b[39m, \u001b[38;5;28;01mNone\u001b[39;00m)\n",
      "File \u001b[0;32m/opt/anaconda3/lib/python3.9/site-packages/geopandas/geodataframe.py:921\u001b[0m, in \u001b[0;36mGeoDataFrame.plot\u001b[0;34m(self, *args, **kwargs)\u001b[0m\n\u001b[1;32m    911\u001b[0m \u001b[38;5;28;01mdef\u001b[39;00m \u001b[38;5;21mplot\u001b[39m(\u001b[38;5;28mself\u001b[39m, \u001b[38;5;241m*\u001b[39margs, \u001b[38;5;241m*\u001b[39m\u001b[38;5;241m*\u001b[39mkwargs):\n\u001b[1;32m    912\u001b[0m \u001b[38;5;250m    \u001b[39m\u001b[38;5;124;03m\"\"\"Generate a plot of the geometries in the ``GeoDataFrame``.\u001b[39;00m\n\u001b[1;32m    913\u001b[0m \n\u001b[1;32m    914\u001b[0m \u001b[38;5;124;03m    If the ``column`` parameter is given, colors plot according to values\u001b[39;00m\n\u001b[0;32m   (...)\u001b[0m\n\u001b[1;32m    919\u001b[0m \u001b[38;5;124;03m    from there.\u001b[39;00m\n\u001b[1;32m    920\u001b[0m \u001b[38;5;124;03m    \"\"\"\u001b[39;00m\n\u001b[0;32m--> 921\u001b[0m     \u001b[38;5;28;01mreturn\u001b[39;00m \u001b[43mplot_dataframe\u001b[49m\u001b[43m(\u001b[49m\u001b[38;5;28;43mself\u001b[39;49m\u001b[43m,\u001b[49m\u001b[43m \u001b[49m\u001b[38;5;241;43m*\u001b[39;49m\u001b[43margs\u001b[49m\u001b[43m,\u001b[49m\u001b[43m \u001b[49m\u001b[38;5;241;43m*\u001b[39;49m\u001b[38;5;241;43m*\u001b[39;49m\u001b[43mkwargs\u001b[49m\u001b[43m)\u001b[49m\n",
      "File \u001b[0;32m/opt/anaconda3/lib/python3.9/site-packages/geopandas/plotting.py:615\u001b[0m, in \u001b[0;36mplot_dataframe\u001b[0;34m(df, column, cmap, color, ax, cax, categorical, legend, scheme, k, vmin, vmax, markersize, figsize, legend_kwds, categories, classification_kwds, missing_kwds, aspect, **style_kwds)\u001b[0m\n\u001b[1;32m    612\u001b[0m     markersize \u001b[38;5;241m=\u001b[39m df[markersize]\u001b[38;5;241m.\u001b[39mvalues\n\u001b[1;32m    614\u001b[0m \u001b[38;5;28;01mif\u001b[39;00m column \u001b[38;5;129;01mis\u001b[39;00m \u001b[38;5;28;01mNone\u001b[39;00m:\n\u001b[0;32m--> 615\u001b[0m     \u001b[38;5;28;01mreturn\u001b[39;00m \u001b[43mplot_series\u001b[49m\u001b[43m(\u001b[49m\n\u001b[1;32m    616\u001b[0m \u001b[43m        \u001b[49m\u001b[43mdf\u001b[49m\u001b[38;5;241;43m.\u001b[39;49m\u001b[43mgeometry\u001b[49m\u001b[43m,\u001b[49m\n\u001b[1;32m    617\u001b[0m \u001b[43m        \u001b[49m\u001b[43mcmap\u001b[49m\u001b[38;5;241;43m=\u001b[39;49m\u001b[43mcmap\u001b[49m\u001b[43m,\u001b[49m\n\u001b[1;32m    618\u001b[0m \u001b[43m        \u001b[49m\u001b[43mcolor\u001b[49m\u001b[38;5;241;43m=\u001b[39;49m\u001b[43mcolor\u001b[49m\u001b[43m,\u001b[49m\n\u001b[1;32m    619\u001b[0m \u001b[43m        \u001b[49m\u001b[43max\u001b[49m\u001b[38;5;241;43m=\u001b[39;49m\u001b[43max\u001b[49m\u001b[43m,\u001b[49m\n\u001b[1;32m    620\u001b[0m \u001b[43m        \u001b[49m\u001b[43mfigsize\u001b[49m\u001b[38;5;241;43m=\u001b[39;49m\u001b[43mfigsize\u001b[49m\u001b[43m,\u001b[49m\n\u001b[1;32m    621\u001b[0m \u001b[43m        \u001b[49m\u001b[43mmarkersize\u001b[49m\u001b[38;5;241;43m=\u001b[39;49m\u001b[43mmarkersize\u001b[49m\u001b[43m,\u001b[49m\n\u001b[1;32m    622\u001b[0m \u001b[43m        \u001b[49m\u001b[43maspect\u001b[49m\u001b[38;5;241;43m=\u001b[39;49m\u001b[43maspect\u001b[49m\u001b[43m,\u001b[49m\n\u001b[1;32m    623\u001b[0m \u001b[43m        \u001b[49m\u001b[38;5;241;43m*\u001b[39;49m\u001b[38;5;241;43m*\u001b[39;49m\u001b[43mstyle_kwds\u001b[49m\n\u001b[1;32m    624\u001b[0m \u001b[43m    \u001b[49m\u001b[43m)\u001b[49m\n\u001b[1;32m    626\u001b[0m \u001b[38;5;66;03m# To accept pd.Series and np.arrays as column\u001b[39;00m\n\u001b[1;32m    627\u001b[0m \u001b[38;5;28;01mif\u001b[39;00m \u001b[38;5;28misinstance\u001b[39m(column, (np\u001b[38;5;241m.\u001b[39mndarray, pd\u001b[38;5;241m.\u001b[39mSeries)):\n",
      "File \u001b[0;32m/opt/anaconda3/lib/python3.9/site-packages/geopandas/plotting.py:421\u001b[0m, in \u001b[0;36mplot_series\u001b[0;34m(s, cmap, color, ax, figsize, aspect, **style_kwds)\u001b[0m\n\u001b[1;32m    419\u001b[0m \u001b[38;5;28;01mif\u001b[39;00m \u001b[38;5;129;01mnot\u001b[39;00m lines\u001b[38;5;241m.\u001b[39mempty:\n\u001b[1;32m    420\u001b[0m     values_ \u001b[38;5;241m=\u001b[39m values[line_idx] \u001b[38;5;28;01mif\u001b[39;00m cmap \u001b[38;5;28;01melse\u001b[39;00m \u001b[38;5;28;01mNone\u001b[39;00m\n\u001b[0;32m--> 421\u001b[0m     \u001b[43m_plot_linestring_collection\u001b[49m\u001b[43m(\u001b[49m\n\u001b[1;32m    422\u001b[0m \u001b[43m        \u001b[49m\u001b[43max\u001b[49m\u001b[43m,\u001b[49m\u001b[43m \u001b[49m\u001b[43mlines\u001b[49m\u001b[43m,\u001b[49m\u001b[43m \u001b[49m\u001b[43mvalues_\u001b[49m\u001b[43m,\u001b[49m\u001b[43m \u001b[49m\u001b[43mcolor\u001b[49m\u001b[38;5;241;43m=\u001b[39;49m\u001b[43mcolor\u001b[49m\u001b[43m,\u001b[49m\u001b[43m \u001b[49m\u001b[43mcmap\u001b[49m\u001b[38;5;241;43m=\u001b[39;49m\u001b[43mcmap\u001b[49m\u001b[43m,\u001b[49m\u001b[43m \u001b[49m\u001b[38;5;241;43m*\u001b[39;49m\u001b[38;5;241;43m*\u001b[39;49m\u001b[43mstyle_kwds\u001b[49m\n\u001b[1;32m    423\u001b[0m \u001b[43m    \u001b[49m\u001b[43m)\u001b[49m\n\u001b[1;32m    425\u001b[0m \u001b[38;5;66;03m# plot all Points in the same collection\u001b[39;00m\n\u001b[1;32m    426\u001b[0m points \u001b[38;5;241m=\u001b[39m expl_series[point_idx]\n",
      "File \u001b[0;32m/opt/anaconda3/lib/python3.9/site-packages/geopandas/plotting.py:203\u001b[0m, in \u001b[0;36m_plot_linestring_collection\u001b[0;34m(ax, geoms, values, color, cmap, vmin, vmax, **kwargs)\u001b[0m\n\u001b[1;32m    199\u001b[0m     kwargs[\u001b[38;5;124m\"\u001b[39m\u001b[38;5;124mcolor\u001b[39m\u001b[38;5;124m\"\u001b[39m] \u001b[38;5;241m=\u001b[39m color\n\u001b[1;32m    201\u001b[0m _expand_kwargs(kwargs, multiindex)\n\u001b[0;32m--> 203\u001b[0m segments \u001b[38;5;241m=\u001b[39m [np\u001b[38;5;241m.\u001b[39marray(linestring)[:, :\u001b[38;5;241m2\u001b[39m] \u001b[38;5;28;01mfor\u001b[39;00m linestring \u001b[38;5;129;01min\u001b[39;00m geoms]\n\u001b[1;32m    204\u001b[0m collection \u001b[38;5;241m=\u001b[39m LineCollection(segments, \u001b[38;5;241m*\u001b[39m\u001b[38;5;241m*\u001b[39mkwargs)\n\u001b[1;32m    206\u001b[0m \u001b[38;5;28;01mif\u001b[39;00m values \u001b[38;5;129;01mis\u001b[39;00m \u001b[38;5;129;01mnot\u001b[39;00m \u001b[38;5;28;01mNone\u001b[39;00m:\n",
      "File \u001b[0;32m/opt/anaconda3/lib/python3.9/site-packages/geopandas/plotting.py:203\u001b[0m, in \u001b[0;36m<listcomp>\u001b[0;34m(.0)\u001b[0m\n\u001b[1;32m    199\u001b[0m     kwargs[\u001b[38;5;124m\"\u001b[39m\u001b[38;5;124mcolor\u001b[39m\u001b[38;5;124m\"\u001b[39m] \u001b[38;5;241m=\u001b[39m color\n\u001b[1;32m    201\u001b[0m _expand_kwargs(kwargs, multiindex)\n\u001b[0;32m--> 203\u001b[0m segments \u001b[38;5;241m=\u001b[39m [\u001b[43mnp\u001b[49m\u001b[38;5;241;43m.\u001b[39;49m\u001b[43marray\u001b[49m\u001b[43m(\u001b[49m\u001b[43mlinestring\u001b[49m\u001b[43m)\u001b[49m\u001b[43m[\u001b[49m\u001b[43m:\u001b[49m\u001b[43m,\u001b[49m\u001b[43m \u001b[49m\u001b[43m:\u001b[49m\u001b[38;5;241;43m2\u001b[39;49m\u001b[43m]\u001b[49m \u001b[38;5;28;01mfor\u001b[39;00m linestring \u001b[38;5;129;01min\u001b[39;00m geoms]\n\u001b[1;32m    204\u001b[0m collection \u001b[38;5;241m=\u001b[39m LineCollection(segments, \u001b[38;5;241m*\u001b[39m\u001b[38;5;241m*\u001b[39mkwargs)\n\u001b[1;32m    206\u001b[0m \u001b[38;5;28;01mif\u001b[39;00m values \u001b[38;5;129;01mis\u001b[39;00m \u001b[38;5;129;01mnot\u001b[39;00m \u001b[38;5;28;01mNone\u001b[39;00m:\n",
      "\u001b[0;31mIndexError\u001b[0m: too many indices for array: array is 0-dimensional, but 2 were indexed"
     ]
    },
    {
     "data": {
      "image/png": "[encoded data removed]",
      "text/plain": [
       "<Figure size 640x480 with 1 Axes>"
      ]
     },
     "metadata": {},
     "output_type": "display_data"
    }
   ],
   "source": [
    "shiptype_to_color = {'Passenger': 'blue', 'HSC': 'green', 'Tanker': 'red', 'Cargo': 'orange', 'Sailing': 'grey', 'Other': 'grey', \n",
    "                     'Tug': 'grey', 'SAR': 'grey', 'Undefined': 'grey', 'Pleasure': 'grey', 'Dredging': 'grey', 'Law enforcement': 'grey',\n",
    "                    'Pilot': 'grey', 'Fishing': 'grey', 'Diving':'grey', 'Spare 2': 'grey'}\n",
    "traj_collection.plot(column='ShipType', column_to_color=shiptype_to_color, linewidth=1, capstyle='round')"
   ]
  },
  {
   "cell_type": "code",
   "execution_count": 29,
   "metadata": {},
   "outputs": [
    {
     "name": "stdout",
     "output_type": "stream",
     "text": [
      "Requirement already satisfied: cartopy in /opt/anaconda3/lib/python3.9/site-packages (0.23.0)\n",
      "Requirement already satisfied: numpy>=1.21 in /opt/anaconda3/lib/python3.9/site-packages (from cartopy) (1.24.3)\n",
      "Requirement already satisfied: matplotlib>=3.5 in /opt/anaconda3/lib/python3.9/site-packages (from cartopy) (3.8.4)\n",
      "Requirement already satisfied: shapely>=1.7 in /opt/anaconda3/lib/python3.9/site-packages (from cartopy) (2.0.1)\n",
      "Requirement already satisfied: packaging>=20 in /opt/anaconda3/lib/python3.9/site-packages (from cartopy) (23.2)\n",
      "Requirement already satisfied: pyshp>=2.3 in /opt/anaconda3/lib/python3.9/site-packages (from cartopy) (2.3.1)\n",
      "Requirement already satisfied: pyproj>=3.3.1 in /opt/anaconda3/lib/python3.9/site-packages (from cartopy) (3.6.0)\n",
      "Requirement already satisfied: contourpy>=1.0.1 in /opt/anaconda3/lib/python3.9/site-packages (from matplotlib>=3.5->cartopy) (1.2.0)\n",
      "Requirement already satisfied: cycler>=0.10 in /opt/anaconda3/lib/python3.9/site-packages (from matplotlib>=3.5->cartopy) (0.11.0)\n",
      "Requirement already satisfied: fonttools>=4.22.0 in /opt/anaconda3/lib/python3.9/site-packages (from matplotlib>=3.5->cartopy) (4.51.0)\n",
      "Requirement already satisfied: kiwisolver>=1.3.1 in /opt/anaconda3/lib/python3.9/site-packages (from matplotlib>=3.5->cartopy) (1.4.4)\n",
      "Requirement already satisfied: pillow>=8 in /opt/anaconda3/lib/python3.9/site-packages (from matplotlib>=3.5->cartopy) (10.3.0)\n",
      "Requirement already satisfied: pyparsing>=2.3.1 in /opt/anaconda3/lib/python3.9/site-packages (from matplotlib>=3.5->cartopy) (3.0.9)\n",
      "Requirement already satisfied: python-dateutil>=2.7 in /opt/anaconda3/lib/python3.9/site-packages (from matplotlib>=3.5->cartopy) (2.9.0.post0)\n",
      "Requirement already satisfied: importlib-resources>=3.2.0 in /opt/anaconda3/lib/python3.9/site-packages (from matplotlib>=3.5->cartopy) (6.1.1)\n",
      "Requirement already satisfied: certifi in /opt/anaconda3/lib/python3.9/site-packages (from pyproj>=3.3.1->cartopy) (2024.2.2)\n",
      "Requirement already satisfied: zipp>=3.1.0 in /opt/anaconda3/lib/python3.9/site-packages (from importlib-resources>=3.2.0->matplotlib>=3.5->cartopy) (3.17.0)\n",
      "Requirement already satisfied: six>=1.5 in /opt/anaconda3/lib/python3.9/site-packages (from python-dateutil>=2.7->matplotlib>=3.5->cartopy) (1.16.0)\n",
      "Requirement already satisfied: geoviews in /opt/anaconda3/lib/python3.9/site-packages (1.12.0)\n",
      "Requirement already satisfied: bokeh<3.5.0,>=3.4.0 in /opt/anaconda3/lib/python3.9/site-packages (from geoviews) (3.4.0)\n",
      "Requirement already satisfied: cartopy>=0.18.0 in /opt/anaconda3/lib/python3.9/site-packages (from geoviews) (0.23.0)\n",
      "Requirement already satisfied: holoviews>=1.16.0 in /opt/anaconda3/lib/python3.9/site-packages (from geoviews) (1.18.3)\n",
      "Requirement already satisfied: packaging in /opt/anaconda3/lib/python3.9/site-packages (from geoviews) (23.2)\n",
      "Requirement already satisfied: numpy in /opt/anaconda3/lib/python3.9/site-packages (from geoviews) (1.24.3)\n",
      "Requirement already satisfied: shapely in /opt/anaconda3/lib/python3.9/site-packages (from geoviews) (2.0.1)\n",
      "Requirement already satisfied: param in /opt/anaconda3/lib/python3.9/site-packages (from geoviews) (2.1.0)\n",
      "Requirement already satisfied: panel>=1.0.0 in /opt/anaconda3/lib/python3.9/site-packages (from geoviews) (1.4.2)\n",
      "Requirement already satisfied: pyproj in /opt/anaconda3/lib/python3.9/site-packages (from geoviews) (3.6.0)\n",
      "Requirement already satisfied: xyzservices in /opt/anaconda3/lib/python3.9/site-packages (from geoviews) (2022.9.0)\n",
      "Requirement already satisfied: Jinja2>=2.9 in /opt/anaconda3/lib/python3.9/site-packages (from bokeh<3.5.0,>=3.4.0->geoviews) (3.1.4)\n",
      "Requirement already satisfied: contourpy>=1.2 in /opt/anaconda3/lib/python3.9/site-packages (from bokeh<3.5.0,>=3.4.0->geoviews) (1.2.0)\n",
      "Requirement already satisfied: pandas>=1.2 in /opt/anaconda3/lib/python3.9/site-packages (from bokeh<3.5.0,>=3.4.0->geoviews) (2.1.4)\n",
      "Requirement already satisfied: pillow>=7.1.0 in /opt/anaconda3/lib/python3.9/site-packages (from bokeh<3.5.0,>=3.4.0->geoviews) (10.3.0)\n",
      "Requirement already satisfied: PyYAML>=3.10 in /opt/anaconda3/lib/python3.9/site-packages (from bokeh<3.5.0,>=3.4.0->geoviews) (6.0.1)\n",
      "Requirement already satisfied: tornado>=6.2 in /opt/anaconda3/lib/python3.9/site-packages (from bokeh<3.5.0,>=3.4.0->geoviews) (6.3.3)\n",
      "Requirement already satisfied: matplotlib>=3.5 in /opt/anaconda3/lib/python3.9/site-packages (from cartopy>=0.18.0->geoviews) (3.8.4)\n",
      "Requirement already satisfied: pyshp>=2.3 in /opt/anaconda3/lib/python3.9/site-packages (from cartopy>=0.18.0->geoviews) (2.3.1)\n",
      "Requirement already satisfied: pyviz-comms>=0.7.4 in /opt/anaconda3/lib/python3.9/site-packages (from holoviews>=1.16.0->geoviews) (3.0.2)\n",
      "Requirement already satisfied: colorcet in /opt/anaconda3/lib/python3.9/site-packages (from holoviews>=1.16.0->geoviews) (3.1.0)\n",
      "Requirement already satisfied: markdown in /opt/anaconda3/lib/python3.9/site-packages (from panel>=1.0.0->geoviews) (3.4.1)\n",
      "Requirement already satisfied: markdown-it-py in /opt/anaconda3/lib/python3.9/site-packages (from panel>=1.0.0->geoviews) (2.2.0)\n",
      "Requirement already satisfied: linkify-it-py in /opt/anaconda3/lib/python3.9/site-packages (from panel>=1.0.0->geoviews) (2.0.0)\n",
      "Requirement already satisfied: mdit-py-plugins in /opt/anaconda3/lib/python3.9/site-packages (from panel>=1.0.0->geoviews) (0.3.0)\n",
      "Requirement already satisfied: requests in /opt/anaconda3/lib/python3.9/site-packages (from panel>=1.0.0->geoviews) (2.32.2)\n",
      "Requirement already satisfied: tqdm>=4.48.0 in /opt/anaconda3/lib/python3.9/site-packages (from panel>=1.0.0->geoviews) (4.66.4)\n",
      "Requirement already satisfied: bleach in /opt/anaconda3/lib/python3.9/site-packages (from panel>=1.0.0->geoviews) (4.1.0)\n",
      "Requirement already satisfied: typing-extensions in /opt/anaconda3/lib/python3.9/site-packages (from panel>=1.0.0->geoviews) (4.11.0)\n",
      "Requirement already satisfied: certifi in /opt/anaconda3/lib/python3.9/site-packages (from pyproj->geoviews) (2024.2.2)\n",
      "Requirement already satisfied: MarkupSafe>=2.0 in /opt/anaconda3/lib/python3.9/site-packages (from Jinja2>=2.9->bokeh<3.5.0,>=3.4.0->geoviews) (2.1.3)\n",
      "Requirement already satisfied: cycler>=0.10 in /opt/anaconda3/lib/python3.9/site-packages (from matplotlib>=3.5->cartopy>=0.18.0->geoviews) (0.11.0)\n",
      "Requirement already satisfied: fonttools>=4.22.0 in /opt/anaconda3/lib/python3.9/site-packages (from matplotlib>=3.5->cartopy>=0.18.0->geoviews) (4.51.0)\n",
      "Requirement already satisfied: kiwisolver>=1.3.1 in /opt/anaconda3/lib/python3.9/site-packages (from matplotlib>=3.5->cartopy>=0.18.0->geoviews) (1.4.4)\n",
      "Requirement already satisfied: pyparsing>=2.3.1 in /opt/anaconda3/lib/python3.9/site-packages (from matplotlib>=3.5->cartopy>=0.18.0->geoviews) (3.0.9)\n",
      "Requirement already satisfied: python-dateutil>=2.7 in /opt/anaconda3/lib/python3.9/site-packages (from matplotlib>=3.5->cartopy>=0.18.0->geoviews) (2.9.0.post0)\n",
      "Requirement already satisfied: importlib-resources>=3.2.0 in /opt/anaconda3/lib/python3.9/site-packages (from matplotlib>=3.5->cartopy>=0.18.0->geoviews) (6.1.1)\n",
      "Requirement already satisfied: pytz>=2020.1 in /opt/anaconda3/lib/python3.9/site-packages (from pandas>=1.2->bokeh<3.5.0,>=3.4.0->geoviews) (2024.1)\n",
      "Requirement already satisfied: tzdata>=2022.1 in /opt/anaconda3/lib/python3.9/site-packages (from pandas>=1.2->bokeh<3.5.0,>=3.4.0->geoviews) (2023.3)\n",
      "Requirement already satisfied: six>=1.9.0 in /opt/anaconda3/lib/python3.9/site-packages (from bleach->panel>=1.0.0->geoviews) (1.16.0)\n",
      "Requirement already satisfied: webencodings in /opt/anaconda3/lib/python3.9/site-packages (from bleach->panel>=1.0.0->geoviews) (0.5.1)\n",
      "Requirement already satisfied: uc-micro-py in /opt/anaconda3/lib/python3.9/site-packages (from linkify-it-py->panel>=1.0.0->geoviews) (1.0.1)\n",
      "Requirement already satisfied: importlib-metadata>=4.4 in /opt/anaconda3/lib/python3.9/site-packages (from markdown->panel>=1.0.0->geoviews) (7.0.1)\n",
      "Requirement already satisfied: mdurl~=0.1 in /opt/anaconda3/lib/python3.9/site-packages (from markdown-it-py->panel>=1.0.0->geoviews) (0.1.0)\n",
      "Requirement already satisfied: charset-normalizer<4,>=2 in /opt/anaconda3/lib/python3.9/site-packages (from requests->panel>=1.0.0->geoviews) (2.0.4)\n",
      "Requirement already satisfied: idna<4,>=2.5 in /opt/anaconda3/lib/python3.9/site-packages (from requests->panel>=1.0.0->geoviews) (3.7)\n",
      "Requirement already satisfied: urllib3<3,>=1.21.1 in /opt/anaconda3/lib/python3.9/site-packages (from requests->panel>=1.0.0->geoviews) (1.26.18)\n",
      "Requirement already satisfied: zipp>=0.5 in /opt/anaconda3/lib/python3.9/site-packages (from importlib-metadata>=4.4->markdown->panel>=1.0.0->geoviews) (3.17.0)\n",
      "\n",
      "MovingPandas 0.17.2\n",
      "\n",
      "SYSTEM INFO\n",
      "-----------\n",
      "python     : 3.9.18 (main, Sep 11 2023, 08:38:23)  [Clang 14.0.6 ]\n",
      "executable : /opt/anaconda3/bin/python\n",
      "machine    : macOS-10.16-x86_64-i386-64bit\n",
      "\n",
      "GEOS, GDAL, PROJ INFO\n",
      "---------------------\n",
      "GEOS       : None\n",
      "GEOS lib   : None\n",
      "GDAL       : 3.6.4\n",
      "GDAL data dir: /opt/anaconda3/lib/python3.9/site-packages/fiona/gdal_data\n",
      "PROJ       : 9.2.1\n",
      "PROJ data dir: /opt/anaconda3/lib/python3.9/site-packages/pyproj/proj_dir/share/proj\n",
      "\n",
      "PYTHON DEPENDENCIES\n",
      "-------------------\n",
      "geopandas  : 0.8.1\n",
      "pandas     : 2.1.4\n",
      "fiona      : 1.9.4.post1\n",
      "numpy      : 1.24.3\n",
      "shapely    : 2.0.1\n",
      "rtree      : 1.0.1\n",
      "pyproj     : 3.6.0\n",
      "matplotlib : 3.8.4\n",
      "mapclassify: None\n",
      "geopy      : 2.4.1\n",
      "holoviews  : 1.18.3\n",
      "hvplot     : 0.10.0\n",
      "geoviews   : 1.12.0\n",
      "stonesoup  : None\n"
     ]
    }
   ],
   "source": [
    "!pip install cartopy\n",
    "!pip install geoviews\n",
    "import cartopy, geoviews\n",
    "passenger = traj_collection.filter('ShipType', 'Passenger')\n",
    "passenger.hvplot(title='Passenger ferries', line_width=2, frame_width=700, frame_height=500)\n",
    "mpd.show_versions()"
   ]
  },
  {
   "cell_type": "markdown",
   "metadata": {},
   "source": [
    "## Visualizing trajectory properties"
   ]
  },
  {
   "cell_type": "markdown",
   "metadata": {},
   "source": [
    "We can also plot individual trajectories to better visualize their properties, such as the changes in NavStatus:"
   ]
  },
  {
   "cell_type": "code",
   "execution_count": 30,
   "metadata": {},
   "outputs": [
    {
     "data": {
      "text/html": [
       "<div>\n",
       "<style scoped>\n",
       "    .dataframe tbody tr th:only-of-type {\n",
       "        vertical-align: middle;\n",
       "    }\n",
       "\n",
       "    .dataframe tbody tr th {\n",
       "        vertical-align: top;\n",
       "    }\n",
       "\n",
       "    .dataframe thead th {\n",
       "        text-align: right;\n",
       "    }\n",
       "</style>\n",
       "<table border=\"1\" class=\"dataframe\">\n",
       "  <thead>\n",
       "    <tr style=\"text-align: right;\">\n",
       "      <th></th>\n",
       "      <th>Timestamp</th>\n",
       "      <th>MMSI</th>\n",
       "      <th>NavStatus</th>\n",
       "      <th>SOG</th>\n",
       "      <th>COG</th>\n",
       "      <th>Name</th>\n",
       "      <th>ShipType</th>\n",
       "      <th>geometry</th>\n",
       "    </tr>\n",
       "    <tr>\n",
       "      <th>t</th>\n",
       "      <th></th>\n",
       "      <th></th>\n",
       "      <th></th>\n",
       "      <th></th>\n",
       "      <th></th>\n",
       "      <th></th>\n",
       "      <th></th>\n",
       "      <th></th>\n",
       "    </tr>\n",
       "  </thead>\n",
       "  <tbody>\n",
       "    <tr>\n",
       "      <th>2017-07-05 17:32:18</th>\n",
       "      <td>05/07/2017 17:32:18</td>\n",
       "      <td>210035000</td>\n",
       "      <td>Under way using engine</td>\n",
       "      <td>9.8</td>\n",
       "      <td>52.8</td>\n",
       "      <td>NORDIC HAMBURG</td>\n",
       "      <td>Cargo</td>\n",
       "      <td>POINT (11.80462 57.67612)</td>\n",
       "    </tr>\n",
       "    <tr>\n",
       "      <th>2017-07-05 17:33:18</th>\n",
       "      <td>05/07/2017 17:33:18</td>\n",
       "      <td>210035000</td>\n",
       "      <td>Under way using engine</td>\n",
       "      <td>9.5</td>\n",
       "      <td>58.9</td>\n",
       "      <td>NORDIC HAMBURG</td>\n",
       "      <td>Cargo</td>\n",
       "      <td>POINT (11.80875 57.67773)</td>\n",
       "    </tr>\n",
       "    <tr>\n",
       "      <th>2017-07-05 17:34:18</th>\n",
       "      <td>05/07/2017 17:34:18</td>\n",
       "      <td>210035000</td>\n",
       "      <td>Under way using engine</td>\n",
       "      <td>9.3</td>\n",
       "      <td>70.5</td>\n",
       "      <td>NORDIC HAMBURG</td>\n",
       "      <td>Cargo</td>\n",
       "      <td>POINT (11.81311 57.67879)</td>\n",
       "    </tr>\n",
       "    <tr>\n",
       "      <th>2017-07-05 17:35:28</th>\n",
       "      <td>05/07/2017 17:35:28</td>\n",
       "      <td>210035000</td>\n",
       "      <td>Under way using engine</td>\n",
       "      <td>9.5</td>\n",
       "      <td>71.1</td>\n",
       "      <td>NORDIC HAMBURG</td>\n",
       "      <td>Cargo</td>\n",
       "      <td>POINT (11.81855 57.67968)</td>\n",
       "    </tr>\n",
       "    <tr>\n",
       "      <th>2017-07-05 17:36:28</th>\n",
       "      <td>05/07/2017 17:36:28</td>\n",
       "      <td>210035000</td>\n",
       "      <td>Under way using engine</td>\n",
       "      <td>9.4</td>\n",
       "      <td>71.3</td>\n",
       "      <td>NORDIC HAMBURG</td>\n",
       "      <td>Cargo</td>\n",
       "      <td>POINT (11.82334 57.68044)</td>\n",
       "    </tr>\n",
       "  </tbody>\n",
       "</table>\n",
       "</div>"
      ],
      "text/plain": [
       "                               Timestamp       MMSI               NavStatus  \\\n",
       "t                                                                             \n",
       "2017-07-05 17:32:18  05/07/2017 17:32:18  210035000  Under way using engine   \n",
       "2017-07-05 17:33:18  05/07/2017 17:33:18  210035000  Under way using engine   \n",
       "2017-07-05 17:34:18  05/07/2017 17:34:18  210035000  Under way using engine   \n",
       "2017-07-05 17:35:28  05/07/2017 17:35:28  210035000  Under way using engine   \n",
       "2017-07-05 17:36:28  05/07/2017 17:36:28  210035000  Under way using engine   \n",
       "\n",
       "                     SOG   COG            Name ShipType  \\\n",
       "t                                                         \n",
       "2017-07-05 17:32:18  9.8  52.8  NORDIC HAMBURG    Cargo   \n",
       "2017-07-05 17:33:18  9.5  58.9  NORDIC HAMBURG    Cargo   \n",
       "2017-07-05 17:34:18  9.3  70.5  NORDIC HAMBURG    Cargo   \n",
       "2017-07-05 17:35:28  9.5  71.1  NORDIC HAMBURG    Cargo   \n",
       "2017-07-05 17:36:28  9.4  71.3  NORDIC HAMBURG    Cargo   \n",
       "\n",
       "                                      geometry  \n",
       "t                                               \n",
       "2017-07-05 17:32:18  POINT (11.80462 57.67612)  \n",
       "2017-07-05 17:33:18  POINT (11.80875 57.67773)  \n",
       "2017-07-05 17:34:18  POINT (11.81311 57.67879)  \n",
       "2017-07-05 17:35:28  POINT (11.81855 57.67968)  \n",
       "2017-07-05 17:36:28  POINT (11.82334 57.68044)  "
      ]
     },
     "execution_count": 30,
     "metadata": {},
     "output_type": "execute_result"
    }
   ],
   "source": [
    "my_traj = traj_collection.trajectories[0]\n",
    "my_traj.df.head()"
   ]
  },
  {
   "cell_type": "code",
   "execution_count": 31,
   "metadata": {},
   "outputs": [
    {
     "data": {
      "text/html": [
       "<div>\n",
       "<style scoped>\n",
       "    .dataframe tbody tr th:only-of-type {\n",
       "        vertical-align: middle;\n",
       "    }\n",
       "\n",
       "    .dataframe tbody tr th {\n",
       "        vertical-align: top;\n",
       "    }\n",
       "\n",
       "    .dataframe thead th {\n",
       "        text-align: right;\n",
       "    }\n",
       "</style>\n",
       "<table border=\"1\" class=\"dataframe\">\n",
       "  <thead>\n",
       "    <tr style=\"text-align: right;\">\n",
       "      <th></th>\n",
       "      <th>Timestamp</th>\n",
       "      <th>MMSI</th>\n",
       "      <th>NavStatus</th>\n",
       "      <th>SOG</th>\n",
       "      <th>COG</th>\n",
       "      <th>Name</th>\n",
       "      <th>ShipType</th>\n",
       "      <th>geometry</th>\n",
       "    </tr>\n",
       "    <tr>\n",
       "      <th>t</th>\n",
       "      <th></th>\n",
       "      <th></th>\n",
       "      <th></th>\n",
       "      <th></th>\n",
       "      <th></th>\n",
       "      <th></th>\n",
       "      <th></th>\n",
       "      <th></th>\n",
       "    </tr>\n",
       "  </thead>\n",
       "  <tbody>\n",
       "    <tr>\n",
       "      <th>2017-07-05 22:47:34</th>\n",
       "      <td>05/07/2017 22:47:34</td>\n",
       "      <td>210035000</td>\n",
       "      <td>Moored</td>\n",
       "      <td>0.1</td>\n",
       "      <td>276.0</td>\n",
       "      <td>NORDIC HAMBURG</td>\n",
       "      <td>Cargo</td>\n",
       "      <td>POINT (11.84571 57.68958)</td>\n",
       "    </tr>\n",
       "    <tr>\n",
       "      <th>2017-07-05 23:08:44</th>\n",
       "      <td>05/07/2017 23:08:44</td>\n",
       "      <td>210035000</td>\n",
       "      <td>Moored</td>\n",
       "      <td>0.1</td>\n",
       "      <td>96.0</td>\n",
       "      <td>NORDIC HAMBURG</td>\n",
       "      <td>Cargo</td>\n",
       "      <td>POINT (11.84571 57.68958)</td>\n",
       "    </tr>\n",
       "    <tr>\n",
       "      <th>2017-07-05 23:09:54</th>\n",
       "      <td>05/07/2017 23:09:54</td>\n",
       "      <td>210035000</td>\n",
       "      <td>Moored</td>\n",
       "      <td>0.1</td>\n",
       "      <td>96.0</td>\n",
       "      <td>NORDIC HAMBURG</td>\n",
       "      <td>Cargo</td>\n",
       "      <td>POINT (11.84571 57.68958)</td>\n",
       "    </tr>\n",
       "    <tr>\n",
       "      <th>2017-07-05 23:11:45</th>\n",
       "      <td>05/07/2017 23:11:45</td>\n",
       "      <td>210035000</td>\n",
       "      <td>Moored</td>\n",
       "      <td>0.1</td>\n",
       "      <td>96.0</td>\n",
       "      <td>NORDIC HAMBURG</td>\n",
       "      <td>Cargo</td>\n",
       "      <td>POINT (11.84571 57.68958)</td>\n",
       "    </tr>\n",
       "    <tr>\n",
       "      <th>2017-07-05 23:35:58</th>\n",
       "      <td>05/07/2017 23:35:58</td>\n",
       "      <td>210035000</td>\n",
       "      <td>Moored</td>\n",
       "      <td>0.1</td>\n",
       "      <td>276.0</td>\n",
       "      <td>NORDIC HAMBURG</td>\n",
       "      <td>Cargo</td>\n",
       "      <td>POINT (11.84571 57.68958)</td>\n",
       "    </tr>\n",
       "  </tbody>\n",
       "</table>\n",
       "</div>"
      ],
      "text/plain": [
       "                               Timestamp       MMSI NavStatus  SOG    COG  \\\n",
       "t                                                                           \n",
       "2017-07-05 22:47:34  05/07/2017 22:47:34  210035000    Moored  0.1  276.0   \n",
       "2017-07-05 23:08:44  05/07/2017 23:08:44  210035000    Moored  0.1   96.0   \n",
       "2017-07-05 23:09:54  05/07/2017 23:09:54  210035000    Moored  0.1   96.0   \n",
       "2017-07-05 23:11:45  05/07/2017 23:11:45  210035000    Moored  0.1   96.0   \n",
       "2017-07-05 23:35:58  05/07/2017 23:35:58  210035000    Moored  0.1  276.0   \n",
       "\n",
       "                               Name ShipType                   geometry  \n",
       "t                                                                        \n",
       "2017-07-05 22:47:34  NORDIC HAMBURG    Cargo  POINT (11.84571 57.68958)  \n",
       "2017-07-05 23:08:44  NORDIC HAMBURG    Cargo  POINT (11.84571 57.68958)  \n",
       "2017-07-05 23:09:54  NORDIC HAMBURG    Cargo  POINT (11.84571 57.68958)  \n",
       "2017-07-05 23:11:45  NORDIC HAMBURG    Cargo  POINT (11.84571 57.68958)  \n",
       "2017-07-05 23:35:58  NORDIC HAMBURG    Cargo  POINT (11.84571 57.68958)  "
      ]
     },
     "execution_count": 31,
     "metadata": {},
     "output_type": "execute_result"
    }
   ],
   "source": [
    "my_traj.df.tail()"
   ]
  },
  {
   "cell_type": "code",
   "execution_count": 33,
   "metadata": {},
   "outputs": [
    {
     "data": {},
     "metadata": {},
     "output_type": "display_data"
    },
    {
     "data": {
      "application/vnd.holoviews_exec.v0+json": "",
      "text/html": [
       "<div id='p1245'>\n",
       "  <div id=\"f7aed408-a546-43b7-b585-e7462947959b\" data-root-id=\"p1245\" style=\"display: contents;\"></div>\n",
       "</div>\n",
       "<script type=\"application/javascript\">(function(root) {\n",
       "  var docs_json = {\"c3c19e7d-87a1-4ebd-966b-7b0cb417a0b8\":{\"version\":\"3.4.0\",\"title\":\"Bokeh Application\",\"roots\":[{\"type\":\"object\",\"name\":\"Row\",\"id\":\"p1245\",\"attributes\":{\"name\":\"Row08712\",\"tags\":[\"embedded\"],\"stylesheets\":[\"\\n:host(.pn-loading):before, .pn-loading:before {\\n  background-color: #c3c3c3;\\n  mask-size: auto calc(min(50%, 400px));\\n  -webkit-mask-size: auto calc(min(50%, 400px));\\n}\",{\"type\":\"object\",\"name\":\"ImportedStyleSheet\",\"id\":\"p1248\",\"attributes\":{\"url\":\"https://cdn.holoviz.org/panel/1.4.2/dist/css/loading.css\"}},{\"type\":\"object\",\"name\":\"ImportedStyleSheet\",\"id\":\"p1364\",\"attributes\":{\"url\":\"https://cdn.holoviz.org/panel/1.4.2/dist/css/listpanel.css\"}},{\"type\":\"object\",\"name\":\"ImportedStyleSheet\",\"id\":\"p1246\",\"attributes\":{\"url\":\"https://cdn.holoviz.org/panel/1.4.2/dist/bundled/theme/default.css\"}},{\"type\":\"object\",\"name\":\"ImportedStyleSheet\",\"id\":\"p1247\",\"attributes\":{\"url\":\"https://cdn.holoviz.org/panel/1.4.2/dist/bundled/theme/native.css\"}}],\"margin\":0,\"sizing_mode\":\"stretch_width\",\"align\":\"start\",\"children\":[{\"type\":\"object\",\"name\":\"Spacer\",\"id\":\"p1249\",\"attributes\":{\"name\":\"HSpacer08718\",\"stylesheets\":[\"\\n:host(.pn-loading):before, .pn-loading:before {\\n  background-color: #c3c3c3;\\n  mask-size: auto calc(min(50%, 400px));\\n  -webkit-mask-size: auto calc(min(50%, 400px));\\n}\",{\"id\":\"p1248\"},{\"id\":\"p1246\"},{\"id\":\"p1247\"}],\"margin\":0,\"sizing_mode\":\"stretch_width\",\"align\":\"start\"}},{\"type\":\"object\",\"name\":\"Figure\",\"id\":\"p1289\",\"attributes\":{\"width\":null,\"height\":null,\"margin\":[5,10],\"sizing_mode\":\"fixed\",\"align\":\"start\",\"x_range\":{\"type\":\"object\",\"name\":\"Range1d\",\"id\":\"p1262\",\"attributes\":{\"tags\":[[[\"Longitude\",\"Longitude\",null]],[]],\"start\":1313718.44249172,\"end\":1319024.807911813,\"reset_start\":1313718.44249172,\"reset_end\":1319024.807911813,\"min_interval\":5}},\"y_range\":{\"type\":\"object\",\"name\":\"Range1d\",\"id\":\"p1263\",\"attributes\":{\"tags\":[[[\"Latitude\",\"Latitude\",null]],{\"type\":\"map\",\"entries\":[[\"invert_yaxis\",false],[\"autorange\",false]]}],\"start\":7898868.782398794,\"end\":7903113.874734867,\"reset_start\":7898868.782398794,\"reset_end\":7903113.874734867,\"min_interval\":5}},\"x_scale\":{\"type\":\"object\",\"name\":\"LinearScale\",\"id\":\"p1299\"},\"y_scale\":{\"type\":\"object\",\"name\":\"LinearScale\",\"id\":\"p1300\"},\"title\":{\"type\":\"object\",\"name\":\"Title\",\"id\":\"p1292\",\"attributes\":{\"text\":\"Trajectory 210035000\",\"text_color\":\"black\",\"text_font_size\":\"12pt\"}},\"renderers\":[{\"type\":\"object\",\"name\":\"TileRenderer\",\"id\":\"p1322\",\"attributes\":{\"level\":\"underlay\",\"tile_source\":{\"type\":\"object\",\"name\":\"WMTSTileSource\",\"id\":\"p1318\",\"attributes\":{\"url\":\"https://c.tile.openstreetmap.org/{Z}/{X}/{Y}.png\",\"attribution\":\"&copy; <a href=\\\"https://www.openstreetmap.org/copyright\\\">OpenStreetMap</a> contributors\"}}}},{\"type\":\"object\",\"name\":\"GlyphRenderer\",\"id\":\"p1336\",\"attributes\":{\"name\":\"color\",\"data_source\":{\"type\":\"object\",\"name\":\"ColumnDataSource\",\"id\":\"p1327\",\"attributes\":{\"selected\":{\"type\":\"object\",\"name\":\"Selection\",\"id\":\"p1328\",\"attributes\":{\"indices\":[],\"line_indices\":[]}},\"selection_policy\":{\"type\":\"object\",\"name\":\"UnionRenderers\",\"id\":\"p1329\"},\"data\":{\"type\":\"map\",\"entries\":[[\"xs\",[{\"type\":\"ndarray\",\"array\":{\"type\":\"bytes\",\"data\":\"vpOTSSQNNEH7TvSz7w40QQ==\"},\"shape\":[2],\"dtype\":\"float64\",\"order\":\"little\"},{\"type\":\"ndarray\",\"array\":{\"type\":\"bytes\",\"data\":\"+070s+8ONEF0odAq1RA0QQ==\"},\"shape\":[2],\"dtype\":\"float64\",\"order\":\"little\"},{\"type\":\"ndarray\",\"array\":{\"type\":\"bytes\",\"data\":\"dKHQKtUQNEEyZsq+MhM0QQ==\"},\"shape\":[2],\"dtype\":\"float64\",\"order\":\"little\"},{\"type\":\"ndarray\",\"array\":{\"type\":\"bytes\",\"data\":\"MmbKvjITNEF3ibTaRxU0QQ==\"},\"shape\":[2],\"dtype\":\"float64\",\"order\":\"little\"},{\"type\":\"ndarray\",\"array\":{\"type\":\"bytes\",\"data\":\"d4m02kcVNEHWMCmIKBc0QQ==\"},\"shape\":[2],\"dtype\":\"float64\",\"order\":\"little\"},{\"type\":\"ndarray\",\"array\":{\"type\":\"bytes\",\"data\":\"1jApiCgXNEFRS3W8Rxg0QQ==\"},\"shape\":[2],\"dtype\":\"float64\",\"order\":\"little\"},{\"type\":\"ndarray\",\"array\":{\"type\":\"bytes\",\"data\":\"UUt1vEcYNEGtQbe/ZBo0QQ==\"},\"shape\":[2],\"dtype\":\"float64\",\"order\":\"little\"},{\"type\":\"ndarray\",\"array\":{\"type\":\"bytes\",\"data\":\"rUG3v2QaNEFDG2NMihs0QQ==\"},\"shape\":[2],\"dtype\":\"float64\",\"order\":\"little\"},{\"type\":\"ndarray\",\"array\":{\"type\":\"bytes\",\"data\":\"QxtjTIobNEHeY4IjmRw0QQ==\"},\"shape\":[2],\"dtype\":\"float64\",\"order\":\"little\"},{\"type\":\"ndarray\",\"array\":{\"type\":\"bytes\",\"data\":\"3mOCI5kcNEETLbe/ox00QQ==\"},\"shape\":[2],\"dtype\":\"float64\",\"order\":\"little\"},{\"type\":\"ndarray\",\"array\":{\"type\":\"bytes\",\"data\":\"Ey23v6MdNEH9oUKVOB40QQ==\"},\"shape\":[2],\"dtype\":\"float64\",\"order\":\"little\"},{\"type\":\"ndarray\",\"array\":{\"type\":\"bytes\",\"data\":\"/aFClTgeNEHs60seaR40QQ==\"},\"shape\":[2],\"dtype\":\"float64\",\"order\":\"little\"},{\"type\":\"ndarray\",\"array\":{\"type\":\"bytes\",\"data\":\"7OtLHmkeNEHNx/RCeh40QQ==\"},\"shape\":[2],\"dtype\":\"float64\",\"order\":\"little\"},{\"type\":\"ndarray\",\"array\":{\"type\":\"bytes\",\"data\":\"zcf0QnoeNEFosaafiR40QQ==\"},\"shape\":[2],\"dtype\":\"float64\",\"order\":\"little\"},{\"type\":\"ndarray\",\"array\":{\"type\":\"bytes\",\"data\":\"aLGmn4keNEGbJeqIlR40QQ==\"},\"shape\":[2],\"dtype\":\"float64\",\"order\":\"little\"},{\"type\":\"ndarray\",\"array\":{\"type\":\"bytes\",\"data\":\"myXqiJUeNEHkYgmSqB40QQ==\"},\"shape\":[2],\"dtype\":\"float64\",\"order\":\"little\"},{\"type\":\"ndarray\",\"array\":{\"type\":\"bytes\",\"data\":\"5GIJkqgeNEECbZErwB40QQ==\"},\"shape\":[2],\"dtype\":\"float64\",\"order\":\"little\"},{\"type\":\"ndarray\",\"array\":{\"type\":\"bytes\",\"data\":\"Am2RK8AeNEGywP7Xwx40QQ==\"},\"shape\":[2],\"dtype\":\"float64\",\"order\":\"little\"},{\"type\":\"ndarray\",\"array\":{\"type\":\"bytes\",\"data\":\"ssD+18MeNEEjYyE21h40QQ==\"},\"shape\":[2],\"dtype\":\"float64\",\"order\":\"little\"},{\"type\":\"ndarray\",\"array\":{\"type\":\"bytes\",\"data\":\"I2MhNtYeNEEtfN2R4x40QQ==\"},\"shape\":[2],\"dtype\":\"float64\",\"order\":\"little\"},{\"type\":\"ndarray\",\"array\":{\"type\":\"bytes\",\"data\":\"LXzdkeMeNEE5LP1V3R40QQ==\"},\"shape\":[2],\"dtype\":\"float64\",\"order\":\"little\"},{\"type\":\"ndarray\",\"array\":{\"type\":\"bytes\",\"data\":\"OSz9Vd0eNEF+HvQd3x40QQ==\"},\"shape\":[2],\"dtype\":\"float64\",\"order\":\"little\"},{\"type\":\"ndarray\",\"array\":{\"type\":\"bytes\",\"data\":\"fh70Hd8eNEHrde464B40QQ==\"},\"shape\":[2],\"dtype\":\"float64\",\"order\":\"little\"},{\"type\":\"ndarray\",\"array\":{\"type\":\"bytes\",\"data\":\"63XuOuAeNEGNjFSC/h40QQ==\"},\"shape\":[2],\"dtype\":\"float64\",\"order\":\"little\"},{\"type\":\"ndarray\",\"array\":{\"type\":\"bytes\",\"data\":\"jYxUgv4eNEHegJ2C/h40QQ==\"},\"shape\":[2],\"dtype\":\"float64\",\"order\":\"little\"},{\"type\":\"ndarray\",\"array\":{\"type\":\"bytes\",\"data\":\"jYxUgv4eNEGHtESgAR80QQ==\"},\"shape\":[2],\"dtype\":\"float64\",\"order\":\"little\"},{\"type\":\"ndarray\",\"array\":{\"type\":\"bytes\",\"data\":\"h7REoAEfNEHYqI2gAR80QQ==\"},\"shape\":[2],\"dtype\":\"float64\",\"order\":\"little\"},{\"type\":\"ndarray\",\"array\":{\"type\":\"bytes\",\"data\":\"h7REoAEfNEGHtESgAR80QQ==\"},\"shape\":[2],\"dtype\":\"float64\",\"order\":\"little\"},{\"type\":\"ndarray\",\"array\":{\"type\":\"bytes\",\"data\":\"h7REoAEfNEHYqI2gAR80QQ==\"},\"shape\":[2],\"dtype\":\"float64\",\"order\":\"little\"},{\"type\":\"ndarray\",\"array\":{\"type\":\"bytes\",\"data\":\"h7REoAEfNEHYqI2gAR80QQ==\"},\"shape\":[2],\"dtype\":\"float64\",\"order\":\"little\"},{\"type\":\"ndarray\",\"array\":{\"type\":\"bytes\",\"data\":\"h7REoAEfNEFkO0m8AB80QQ==\"},\"shape\":[2],\"dtype\":\"float64\",\"order\":\"little\"},{\"type\":\"ndarray\",\"array\":{\"type\":\"bytes\",\"data\":\"ZDtJvAAfNEG1L5K8AB80QQ==\"},\"shape\":[2],\"dtype\":\"float64\",\"order\":\"little\"},{\"type\":\"ndarray\",\"array\":{\"type\":\"bytes\",\"data\":\"ZDtJvAAfNEE94MEuAh80QQ==\"},\"shape\":[2],\"dtype\":\"float64\",\"order\":\"little\"},{\"type\":\"ndarray\",\"array\":{\"type\":\"bytes\",\"data\":\"PeDBLgIfNEGO1AovAh80QQ==\"},\"shape\":[2],\"dtype\":\"float64\",\"order\":\"little\"},{\"type\":\"ndarray\",\"array\":{\"type\":\"bytes\",\"data\":\"PeDBLgIfNEGHtESgAR80QQ==\"},\"shape\":[2],\"dtype\":\"float64\",\"order\":\"little\"},{\"type\":\"ndarray\",\"array\":{\"type\":\"bytes\",\"data\":\"h7REoAEfNEGHvsBnAh80QQ==\"},\"shape\":[2],\"dtype\":\"float64\",\"order\":\"little\"},{\"type\":\"ndarray\",\"array\":{\"type\":\"bytes\",\"data\":\"h77AZwIfNEHTiMcRAR80QQ==\"},\"shape\":[2],\"dtype\":\"float64\",\"order\":\"little\"},{\"type\":\"ndarray\",\"array\":{\"type\":\"bytes\",\"data\":\"04jHEQEfNEEjfRASAR80QQ==\"},\"shape\":[2],\"dtype\":\"float64\",\"order\":\"little\"},{\"type\":\"ndarray\",\"array\":{\"type\":\"bytes\",\"data\":\"04jHEQEfNEGuGUj1AB80QQ==\"},\"shape\":[2],\"dtype\":\"float64\",\"order\":\"little\"},{\"type\":\"ndarray\",\"array\":{\"type\":\"bytes\",\"data\":\"rhlI9QAfNEHTiMcRAR80QQ==\"},\"shape\":[2],\"dtype\":\"float64\",\"order\":\"little\"},{\"type\":\"ndarray\",\"array\":{\"type\":\"bytes\",\"data\":\"04jHEQEfNEEjfRASAR80QQ==\"},\"shape\":[2],\"dtype\":\"float64\",\"order\":\"little\"},{\"type\":\"ndarray\",\"array\":{\"type\":\"bytes\",\"data\":\"04jHEQEfNEFjRcWDAR80QQ==\"},\"shape\":[2],\"dtype\":\"float64\",\"order\":\"little\"},{\"type\":\"ndarray\",\"array\":{\"type\":\"bytes\",\"data\":\"Y0XFgwEfNEGHvsBnAh80QQ==\"},\"shape\":[2],\"dtype\":\"float64\",\"order\":\"little\"},{\"type\":\"ndarray\",\"array\":{\"type\":\"bytes\",\"data\":\"h77AZwIfNEE86j32Ah80QQ==\"},\"shape\":[2],\"dtype\":\"float64\",\"order\":\"little\"},{\"type\":\"ndarray\",\"array\":{\"type\":\"bytes\",\"data\":\"POo99gIfNEGM3ob2Ah80QQ==\"},\"shape\":[2],\"dtype\":\"float64\",\"order\":\"little\"},{\"type\":\"ndarray\",\"array\":{\"type\":\"bytes\",\"data\":\"POo99gIfNEGM3ob2Ah80QQ==\"},\"shape\":[2],\"dtype\":\"float64\",\"order\":\"little\"},{\"type\":\"ndarray\",\"array\":{\"type\":\"bytes\",\"data\":\"POo99gIfNEE86j32Ah80QQ==\"},\"shape\":[2],\"dtype\":\"float64\",\"order\":\"little\"},{\"type\":\"ndarray\",\"array\":{\"type\":\"bytes\",\"data\":\"POo99gIfNEEcXUqDAB80QQ==\"},\"shape\":[2],\"dtype\":\"float64\",\"order\":\"little\"},{\"type\":\"ndarray\",\"array\":{\"type\":\"bytes\",\"data\":\"HF1KgwAfNEFtUZODAB80QQ==\"},\"shape\":[2],\"dtype\":\"float64\",\"order\":\"little\"},{\"type\":\"ndarray\",\"array\":{\"type\":\"bytes\",\"data\":\"HF1KgwAfNEHQnL+gAh80QQ==\"},\"shape\":[2],\"dtype\":\"float64\",\"order\":\"little\"},{\"type\":\"ndarray\",\"array\":{\"type\":\"bytes\",\"data\":\"0Jy/oAIfNEE94MEuAh80QQ==\"},\"shape\":[2],\"dtype\":\"float64\",\"order\":\"little\"},{\"type\":\"ndarray\",\"array\":{\"type\":\"bytes\",\"data\":\"PeDBLgIfNEE94MEuAh80QQ==\"},\"shape\":[2],\"dtype\":\"float64\",\"order\":\"little\"},{\"type\":\"ndarray\",\"array\":{\"type\":\"bytes\",\"data\":\"PeDBLgIfNEGO1AovAh80QQ==\"},\"shape\":[2],\"dtype\":\"float64\",\"order\":\"little\"},{\"type\":\"ndarray\",\"array\":{\"type\":\"bytes\",\"data\":\"PeDBLgIfNEHRkkPZAR80QQ==\"},\"shape\":[2],\"dtype\":\"float64\",\"order\":\"little\"},{\"type\":\"ndarray\",\"array\":{\"type\":\"bytes\",\"data\":\"0ZJD2QEfNEH0Cz+9Ah80QQ==\"},\"shape\":[2],\"dtype\":\"float64\",\"order\":\"little\"}]],[\"ys\",[{\"type\":\"ndarray\",\"array\":{\"type\":\"bytes\",\"data\":\"aOexwnAiXkFDEqwxxCJeQQ==\"},\"shape\":[2],\"dtype\":\"float64\",\"order\":\"little\"},{\"type\":\"ndarray\",\"array\":{\"type\":\"bytes\",\"data\":\"QxKsMcQiXkHkZa54+yJeQQ==\"},\"shape\":[2],\"dtype\":\"float64\",\"order\":\"little\"},{\"type\":\"ndarray\",\"array\":{\"type\":\"bytes\",\"data\":\"5GWuePsiXkEb6CHMKSNeQQ==\"},\"shape\":[2],\"dtype\":\"float64\",\"order\":\"little\"},{\"type\":\"ndarray\",\"array\":{\"type\":\"bytes\",\"data\":\"G+ghzCkjXkGWoy92USNeQQ==\"},\"shape\":[2],\"dtype\":\"float64\",\"order\":\"little\"},{\"type\":\"ndarray\",\"array\":{\"type\":\"bytes\",\"data\":\"lqMvdlEjXkEL4gV2dyNeQQ==\"},\"shape\":[2],\"dtype\":\"float64\",\"order\":\"little\"},{\"type\":\"ndarray\",\"array\":{\"type\":\"bytes\",\"data\":\"C+IFdncjXkFjwIOoiyNeQQ==\"},\"shape\":[2],\"dtype\":\"float64\",\"order\":\"little\"},{\"type\":\"ndarray\",\"array\":{\"type\":\"bytes\",\"data\":\"Y8CDqIsjXkFavQR0rCNeQQ==\"},\"shape\":[2],\"dtype\":\"float64\",\"order\":\"little\"},{\"type\":\"ndarray\",\"array\":{\"type\":\"bytes\",\"data\":\"Wr0EdKwjXkF67fD3tiNeQQ==\"},\"shape\":[2],\"dtype\":\"float64\",\"order\":\"little\"},{\"type\":\"ndarray\",\"array\":{\"type\":\"bytes\",\"data\":\"eu3w97YjXkFmKdXlxiNeQQ==\"},\"shape\":[2],\"dtype\":\"float64\",\"order\":\"little\"},{\"type\":\"ndarray\",\"array\":{\"type\":\"bytes\",\"data\":\"ZinV5cYjXkFPD5WX4iNeQQ==\"},\"shape\":[2],\"dtype\":\"float64\",\"order\":\"little\"},{\"type\":\"ndarray\",\"array\":{\"type\":\"bytes\",\"data\":\"Tw+Vl+IjXkEi/6xcDyReQQ==\"},\"shape\":[2],\"dtype\":\"float64\",\"order\":\"little\"},{\"type\":\"ndarray\",\"array\":{\"type\":\"bytes\",\"data\":\"Iv+sXA8kXkHm40O7SCReQQ==\"},\"shape\":[2],\"dtype\":\"float64\",\"order\":\"little\"},{\"type\":\"ndarray\",\"array\":{\"type\":\"bytes\",\"data\":\"5uNDu0gkXkG/qkEGdiReQQ==\"},\"shape\":[2],\"dtype\":\"float64\",\"order\":\"little\"},{\"type\":\"ndarray\",\"array\":{\"type\":\"bytes\",\"data\":\"v6pBBnYkXkGK5Ga6miReQQ==\"},\"shape\":[2],\"dtype\":\"float64\",\"order\":\"little\"},{\"type\":\"ndarray\",\"array\":{\"type\":\"bytes\",\"data\":\"iuRmupokXkF+VITMuiReQQ==\"},\"shape\":[2],\"dtype\":\"float64\",\"order\":\"little\"},{\"type\":\"ndarray\",\"array\":{\"type\":\"bytes\",\"data\":\"flSEzLokXkHEfoo81iReQQ==\"},\"shape\":[2],\"dtype\":\"float64\",\"order\":\"little\"},{\"type\":\"ndarray\",\"array\":{\"type\":\"bytes\",\"data\":\"xH6KPNYkXkGKGnCH8CReQQ==\"},\"shape\":[2],\"dtype\":\"float64\",\"order\":\"little\"},{\"type\":\"ndarray\",\"array\":{\"type\":\"bytes\",\"data\":\"ihpwh/AkXkGuAbTlAyVeQQ==\"},\"shape\":[2],\"dtype\":\"float64\",\"order\":\"little\"},{\"type\":\"ndarray\",\"array\":{\"type\":\"bytes\",\"data\":\"rgG05QMlXkHydiLRGSVeQQ==\"},\"shape\":[2],\"dtype\":\"float64\",\"order\":\"little\"},{\"type\":\"ndarray\",\"array\":{\"type\":\"bytes\",\"data\":\"8nYi0RklXkFRe31iKSVeQQ==\"},\"shape\":[2],\"dtype\":\"float64\",\"order\":\"little\"},{\"type\":\"ndarray\",\"array\":{\"type\":\"bytes\",\"data\":\"UXt9YiklXkHy113nLiVeQQ==\"},\"shape\":[2],\"dtype\":\"float64\",\"order\":\"little\"},{\"type\":\"ndarray\",\"array\":{\"type\":\"bytes\",\"data\":\"8tdd5y4lXkFhOOpMLCVeQQ==\"},\"shape\":[2],\"dtype\":\"float64\",\"order\":\"little\"},{\"type\":\"ndarray\",\"array\":{\"type\":\"bytes\",\"data\":\"YTjqTCwlXkFd1/D8KyVeQQ==\"},\"shape\":[2],\"dtype\":\"float64\",\"order\":\"little\"},{\"type\":\"ndarray\",\"array\":{\"type\":\"bytes\",\"data\":\"Xdfw/CslXkHLoXH3LSVeQQ==\"},\"shape\":[2],\"dtype\":\"float64\",\"order\":\"little\"},{\"type\":\"ndarray\",\"array\":{\"type\":\"bytes\",\"data\":\"y6Fx9y0lXkEdwZP3LSVeQQ==\"},\"shape\":[2],\"dtype\":\"float64\",\"order\":\"little\"},{\"type\":\"ndarray\",\"array\":{\"type\":\"bytes\",\"data\":\"y6Fx9y0lXkHLoXH3LSVeQQ==\"},\"shape\":[2],\"dtype\":\"float64\",\"order\":\"little\"},{\"type\":\"ndarray\",\"array\":{\"type\":\"bytes\",\"data\":\"y6Fx9y0lXkEdwZP3LSVeQQ==\"},\"shape\":[2],\"dtype\":\"float64\",\"order\":\"little\"},{\"type\":\"ndarray\",\"array\":{\"type\":\"bytes\",\"data\":\"y6Fx9y0lXkF8KsncLSVeQQ==\"},\"shape\":[2],\"dtype\":\"float64\",\"order\":\"little\"},{\"type\":\"ndarray\",\"array\":{\"type\":\"bytes\",\"data\":\"fCrJ3C0lXkHMSevcLSVeQQ==\"},\"shape\":[2],\"dtype\":\"float64\",\"order\":\"little\"},{\"type\":\"ndarray\",\"array\":{\"type\":\"bytes\",\"data\":\"fCrJ3C0lXkHMSevcLSVeQQ==\"},\"shape\":[2],\"dtype\":\"float64\",\"order\":\"little\"},{\"type\":\"ndarray\",\"array\":{\"type\":\"bytes\",\"data\":\"fCrJ3C0lXkHLoXH3LSVeQQ==\"},\"shape\":[2],\"dtype\":\"float64\",\"order\":\"little\"},{\"type\":\"ndarray\",\"array\":{\"type\":\"bytes\",\"data\":\"y6Fx9y0lXkEdwZP3LSVeQQ==\"},\"shape\":[2],\"dtype\":\"float64\",\"order\":\"little\"},{\"type\":\"ndarray\",\"array\":{\"type\":\"bytes\",\"data\":\"y6Fx9y0lXkGzd8y0LSVeQQ==\"},\"shape\":[2],\"dtype\":\"float64\",\"order\":\"little\"},{\"type\":\"ndarray\",\"array\":{\"type\":\"bytes\",\"data\":\"s3fMtC0lXkEFl+60LSVeQQ==\"},\"shape\":[2],\"dtype\":\"float64\",\"order\":\"little\"},{\"type\":\"ndarray\",\"array\":{\"type\":\"bytes\",\"data\":\"s3fMtC0lXkGiACSaLSVeQQ==\"},\"shape\":[2],\"dtype\":\"float64\",\"order\":\"little\"},{\"type\":\"ndarray\",\"array\":{\"type\":\"bytes\",\"data\":\"ogAkmi0lXkFQJYIvLSVeQQ==\"},\"shape\":[2],\"dtype\":\"float64\",\"order\":\"little\"},{\"type\":\"ndarray\",\"array\":{\"type\":\"bytes\",\"data\":\"UCWCLy0lXkFg135XLSVeQQ==\"},\"shape\":[2],\"dtype\":\"float64\",\"order\":\"little\"},{\"type\":\"ndarray\",\"array\":{\"type\":\"bytes\",\"data\":\"YNd+Vy0lXkGv9qBXLSVeQQ==\"},\"shape\":[2],\"dtype\":\"float64\",\"order\":\"little\"},{\"type\":\"ndarray\",\"array\":{\"type\":\"bytes\",\"data\":\"YNd+Vy0lXkHd7nTPLSVeQQ==\"},\"shape\":[2],\"dtype\":\"float64\",\"order\":\"little\"},{\"type\":\"ndarray\",\"array\":{\"type\":\"bytes\",\"data\":\"3e50zy0lXkFg135XLSVeQQ==\"},\"shape\":[2],\"dtype\":\"float64\",\"order\":\"little\"},{\"type\":\"ndarray\",\"array\":{\"type\":\"bytes\",\"data\":\"YNd+Vy0lXkGv9qBXLSVeQQ==\"},\"shape\":[2],\"dtype\":\"float64\",\"order\":\"little\"},{\"type\":\"ndarray\",\"array\":{\"type\":\"bytes\",\"data\":\"YNd+Vy0lXkEgxc+MLSVeQQ==\"},\"shape\":[2],\"dtype\":\"float64\",\"order\":\"little\"},{\"type\":\"ndarray\",\"array\":{\"type\":\"bytes\",\"data\":\"IMXPjC0lXkGzd8y0LSVeQQ==\"},\"shape\":[2],\"dtype\":\"float64\",\"order\":\"little\"},{\"type\":\"ndarray\",\"array\":{\"type\":\"bytes\",\"data\":\"s3fMtC0lXkHd7nTPLSVeQQ==\"},\"shape\":[2],\"dtype\":\"float64\",\"order\":\"little\"},{\"type\":\"ndarray\",\"array\":{\"type\":\"bytes\",\"data\":\"3e50zy0lXkEvDpfPLSVeQQ==\"},\"shape\":[2],\"dtype\":\"float64\",\"order\":\"little\"},{\"type\":\"ndarray\",\"array\":{\"type\":\"bytes\",\"data\":\"3e50zy0lXkEvDpfPLSVeQQ==\"},\"shape\":[2],\"dtype\":\"float64\",\"order\":\"little\"},{\"type\":\"ndarray\",\"array\":{\"type\":\"bytes\",\"data\":\"3e50zy0lXkFQJYIvLSVeQQ==\"},\"shape\":[2],\"dtype\":\"float64\",\"order\":\"little\"},{\"type\":\"ndarray\",\"array\":{\"type\":\"bytes\",\"data\":\"UCWCLy0lXkF2c4UHLSVeQQ==\"},\"shape\":[2],\"dtype\":\"float64\",\"order\":\"little\"},{\"type\":\"ndarray\",\"array\":{\"type\":\"bytes\",\"data\":\"dnOFBy0lXkHHkqcHLSVeQQ==\"},\"shape\":[2],\"dtype\":\"float64\",\"order\":\"little\"},{\"type\":\"ndarray\",\"array\":{\"type\":\"bytes\",\"data\":\"dnOFBy0lXkH/mypKLSVeQQ==\"},\"shape\":[2],\"dtype\":\"float64\",\"order\":\"little\"},{\"type\":\"ndarray\",\"array\":{\"type\":\"bytes\",\"data\":\"/5sqSi0lXkFQJYIvLSVeQQ==\"},\"shape\":[2],\"dtype\":\"float64\",\"order\":\"little\"},{\"type\":\"ndarray\",\"array\":{\"type\":\"bytes\",\"data\":\"UCWCLy0lXkG3rtkULSVeQQ==\"},\"shape\":[2],\"dtype\":\"float64\",\"order\":\"little\"},{\"type\":\"ndarray\",\"array\":{\"type\":\"bytes\",\"data\":\"t67ZFC0lXkEJzvsULSVeQQ==\"},\"shape\":[2],\"dtype\":\"float64\",\"order\":\"little\"},{\"type\":\"ndarray\",\"array\":{\"type\":\"bytes\",\"data\":\"t67ZFC0lXkH/mypKLSVeQQ==\"},\"shape\":[2],\"dtype\":\"float64\",\"order\":\"little\"},{\"type\":\"ndarray\",\"array\":{\"type\":\"bytes\",\"data\":\"/5sqSi0lXkFg135XLSVeQQ==\"},\"shape\":[2],\"dtype\":\"float64\",\"order\":\"little\"}]],[\"NavStatus\",[\"Under way using engine\",\"Under way using engine\",\"Under way using engine\",\"Under way using engine\",\"Under way using engine\",\"Under way using engine\",\"Under way using engine\",\"Under way using engine\",\"Under way using engine\",\"Under way using engine\",\"Under way using engine\",\"Under way using engine\",\"Under way using engine\",\"Under way using engine\",\"Under way using engine\",\"Under way using engine\",\"Under way using engine\",\"Under way using engine\",\"Moored\",\"Moored\",\"Moored\",\"Moored\",\"Moored\",\"Moored\",\"Moored\",\"Moored\",\"Moored\",\"Moored\",\"Moored\",\"Moored\",\"Moored\",\"Moored\",\"Moored\",\"Moored\",\"Moored\",\"Moored\",\"Moored\",\"Moored\",\"Moored\",\"Moored\",\"Moored\",\"Moored\",\"Moored\",\"Moored\",\"Moored\",\"Moored\",\"Moored\",\"Moored\",\"Moored\",\"Moored\",\"Moored\",\"Moored\",\"Moored\",\"Moored\",\"Moored\"]],[\"color\",[\"Under way using engine\",\"Under way using engine\",\"Under way using engine\",\"Under way using engine\",\"Under way using engine\",\"Under way using engine\",\"Under way using engine\",\"Under way using engine\",\"Under way using engine\",\"Under way using engine\",\"Under way using engine\",\"Under way using engine\",\"Under way using engine\",\"Under way using engine\",\"Under way using engine\",\"Under way using engine\",\"Under way using engine\",\"Under way using engine\",\"Moored\",\"Moored\",\"Moored\",\"Moored\",\"Moored\",\"Moored\",\"Moored\",\"Moored\",\"Moored\",\"Moored\",\"Moored\",\"Moored\",\"Moored\",\"Moored\",\"Moored\",\"Moored\",\"Moored\",\"Moored\",\"Moored\",\"Moored\",\"Moored\",\"Moored\",\"Moored\",\"Moored\",\"Moored\",\"Moored\",\"Moored\",\"Moored\",\"Moored\",\"Moored\",\"Moored\",\"Moored\",\"Moored\",\"Moored\",\"Moored\",\"Moored\",\"Moored\"]]]}}},\"view\":{\"type\":\"object\",\"name\":\"CDSView\",\"id\":\"p1337\",\"attributes\":{\"filter\":{\"type\":\"object\",\"name\":\"AllIndices\",\"id\":\"p1338\"}}},\"glyph\":{\"type\":\"object\",\"name\":\"MultiLine\",\"id\":\"p1333\",\"attributes\":{\"tags\":[\"apply_ranges\"],\"xs\":{\"type\":\"field\",\"field\":\"xs\"},\"ys\":{\"type\":\"field\",\"field\":\"ys\"},\"line_color\":{\"type\":\"field\",\"field\":\"color\",\"transform\":{\"type\":\"object\",\"name\":\"CategoricalColorMapper\",\"id\":\"p1326\",\"attributes\":{\"palette\":[\"#1b9e77\",\"#d95f02\"],\"factors\":[\"Under way using engine\",\"Moored\"]}}},\"line_width\":{\"type\":\"value\",\"value\":5.0}}},\"selection_glyph\":{\"type\":\"object\",\"name\":\"MultiLine\",\"id\":\"p1343\",\"attributes\":{\"tags\":[\"apply_ranges\"],\"xs\":{\"type\":\"field\",\"field\":\"xs\"},\"ys\":{\"type\":\"field\",\"field\":\"ys\"},\"line_color\":{\"type\":\"field\",\"field\":\"color\",\"transform\":{\"id\":\"p1326\"}},\"line_alpha\":{\"type\":\"value\",\"value\":1.0},\"line_width\":{\"type\":\"value\",\"value\":5.0},\"line_join\":{\"type\":\"value\",\"value\":\"bevel\"},\"line_cap\":{\"type\":\"value\",\"value\":\"butt\"},\"line_dash\":{\"type\":\"value\",\"value\":[]},\"line_dash_offset\":{\"type\":\"value\",\"value\":0}}},\"nonselection_glyph\":{\"type\":\"object\",\"name\":\"MultiLine\",\"id\":\"p1334\",\"attributes\":{\"tags\":[\"apply_ranges\"],\"xs\":{\"type\":\"field\",\"field\":\"xs\"},\"ys\":{\"type\":\"field\",\"field\":\"ys\"},\"line_color\":{\"type\":\"field\",\"field\":\"color\",\"transform\":{\"id\":\"p1326\"}},\"line_alpha\":{\"type\":\"value\",\"value\":0.1},\"line_width\":{\"type\":\"value\",\"value\":5.0}}},\"muted_glyph\":{\"type\":\"object\",\"name\":\"MultiLine\",\"id\":\"p1335\",\"attributes\":{\"tags\":[\"apply_ranges\"],\"xs\":{\"type\":\"field\",\"field\":\"xs\"},\"ys\":{\"type\":\"field\",\"field\":\"ys\"},\"line_color\":{\"type\":\"field\",\"field\":\"color\",\"transform\":{\"id\":\"p1326\"}},\"line_alpha\":{\"type\":\"value\",\"value\":0.2},\"line_width\":{\"type\":\"value\",\"value\":5.0}}}}},{\"type\":\"object\",\"name\":\"GlyphRenderer\",\"id\":\"p1356\",\"attributes\":{\"name\":\"color\",\"data_source\":{\"type\":\"object\",\"name\":\"ColumnDataSource\",\"id\":\"p1345\",\"attributes\":{\"selected\":{\"type\":\"object\",\"name\":\"Selection\",\"id\":\"p1346\",\"attributes\":{\"indices\":[],\"line_indices\":[]}},\"selection_policy\":{\"type\":\"object\",\"name\":\"UnionRenderers\",\"id\":\"p1347\"},\"data\":{\"type\":\"map\",\"entries\":[[\"Longitude\",{\"type\":\"ndarray\",\"array\":{\"type\":\"bytes\",\"data\":\"9As/vQIfNEE=\"},\"shape\":[1],\"dtype\":\"float64\",\"order\":\"little\"}],[\"Latitude\",{\"type\":\"ndarray\",\"array\":{\"type\":\"bytes\",\"data\":\"YNd+Vy0lXkE=\"},\"shape\":[1],\"dtype\":\"float64\",\"order\":\"little\"}],[\"NavStatus\",[\"Moored\"]],[\"triangle_angle\",{\"type\":\"ndarray\",\"array\":{\"type\":\"bytes\",\"data\":\"WBpLmpY1U8A=\"},\"shape\":[1],\"dtype\":\"float64\",\"order\":\"little\"}],[\"color\",[\"Moored\"]]]}}},\"view\":{\"type\":\"object\",\"name\":\"CDSView\",\"id\":\"p1357\",\"attributes\":{\"filter\":{\"type\":\"object\",\"name\":\"AllIndices\",\"id\":\"p1358\"}}},\"glyph\":{\"type\":\"object\",\"name\":\"Scatter\",\"id\":\"p1351\",\"attributes\":{\"tags\":[\"apply_ranges\"],\"x\":{\"type\":\"field\",\"field\":\"Longitude\"},\"y\":{\"type\":\"field\",\"field\":\"Latitude\"},\"size\":{\"type\":\"value\",\"value\":14.142135623730951},\"angle\":{\"type\":\"value\",\"value\":-1.3410641710930817},\"line_color\":{\"type\":\"field\",\"field\":\"color\",\"transform\":{\"type\":\"object\",\"name\":\"CategoricalColorMapper\",\"id\":\"p1344\",\"attributes\":{\"palette\":[\"#1b9e77\"],\"factors\":[\"Moored\"]}}},\"fill_color\":{\"type\":\"field\",\"field\":\"color\",\"transform\":{\"id\":\"p1344\"}},\"hatch_color\":{\"type\":\"field\",\"field\":\"color\",\"transform\":{\"id\":\"p1344\"}},\"marker\":{\"type\":\"value\",\"value\":\"triangle\"}}},\"selection_glyph\":{\"type\":\"object\",\"name\":\"Scatter\",\"id\":\"p1353\",\"attributes\":{\"tags\":[\"apply_ranges\"],\"x\":{\"type\":\"field\",\"field\":\"Longitude\"},\"y\":{\"type\":\"field\",\"field\":\"Latitude\"},\"size\":{\"type\":\"value\",\"value\":14.142135623730951},\"angle\":{\"type\":\"value\",\"value\":-1.3410641710930817},\"line_color\":{\"type\":\"field\",\"field\":\"color\",\"transform\":{\"id\":\"p1344\"}},\"fill_color\":{\"type\":\"field\",\"field\":\"color\",\"transform\":{\"id\":\"p1344\"}},\"hatch_color\":{\"type\":\"field\",\"field\":\"color\",\"transform\":{\"id\":\"p1344\"}},\"marker\":{\"type\":\"value\",\"value\":\"triangle\"}}},\"nonselection_glyph\":{\"type\":\"object\",\"name\":\"Scatter\",\"id\":\"p1352\",\"attributes\":{\"tags\":[\"apply_ranges\"],\"x\":{\"type\":\"field\",\"field\":\"Longitude\"},\"y\":{\"type\":\"field\",\"field\":\"Latitude\"},\"size\":{\"type\":\"value\",\"value\":14.142135623730951},\"angle\":{\"type\":\"value\",\"value\":-1.3410641710930817},\"line_color\":{\"type\":\"field\",\"field\":\"color\",\"transform\":{\"id\":\"p1344\"}},\"line_alpha\":{\"type\":\"value\",\"value\":0.1},\"fill_color\":{\"type\":\"field\",\"field\":\"color\",\"transform\":{\"id\":\"p1344\"}},\"fill_alpha\":{\"type\":\"value\",\"value\":0.1},\"hatch_color\":{\"type\":\"field\",\"field\":\"color\",\"transform\":{\"id\":\"p1344\"}},\"hatch_alpha\":{\"type\":\"value\",\"value\":0.1},\"marker\":{\"type\":\"value\",\"value\":\"triangle\"}}},\"hover_glyph\":{\"type\":\"object\",\"name\":\"Scatter\",\"id\":\"p1354\",\"attributes\":{\"tags\":[\"apply_ranges\"],\"x\":{\"type\":\"field\",\"field\":\"Longitude\"},\"y\":{\"type\":\"field\",\"field\":\"Latitude\"},\"size\":{\"type\":\"value\",\"value\":14.142135623730951},\"angle\":{\"type\":\"value\",\"value\":-1.3410641710930817},\"line_color\":{\"type\":\"field\",\"field\":\"color\",\"transform\":{\"id\":\"p1344\"}},\"fill_color\":{\"type\":\"field\",\"field\":\"color\",\"transform\":{\"id\":\"p1344\"}},\"hatch_color\":{\"type\":\"field\",\"field\":\"color\",\"transform\":{\"id\":\"p1344\"}},\"marker\":{\"type\":\"value\",\"value\":\"triangle\"}}},\"muted_glyph\":{\"type\":\"object\",\"name\":\"Scatter\",\"id\":\"p1355\",\"attributes\":{\"tags\":[\"apply_ranges\"],\"x\":{\"type\":\"field\",\"field\":\"Longitude\"},\"y\":{\"type\":\"field\",\"field\":\"Latitude\"},\"size\":{\"type\":\"value\",\"value\":14.142135623730951},\"angle\":{\"type\":\"value\",\"value\":-1.3410641710930817},\"line_color\":{\"type\":\"field\",\"field\":\"color\",\"transform\":{\"id\":\"p1344\"}},\"line_alpha\":{\"type\":\"value\",\"value\":0.2},\"fill_color\":{\"type\":\"field\",\"field\":\"color\",\"transform\":{\"id\":\"p1344\"}},\"fill_alpha\":{\"type\":\"value\",\"value\":0.2},\"hatch_color\":{\"type\":\"field\",\"field\":\"color\",\"transform\":{\"id\":\"p1344\"}},\"hatch_alpha\":{\"type\":\"value\",\"value\":0.2},\"marker\":{\"type\":\"value\",\"value\":\"triangle\"}}}}}],\"toolbar\":{\"type\":\"object\",\"name\":\"Toolbar\",\"id\":\"p1298\",\"attributes\":{\"tools\":[{\"type\":\"object\",\"name\":\"WheelZoomTool\",\"id\":\"p1266\",\"attributes\":{\"renderers\":\"auto\",\"zoom_on_axis\":false}},{\"type\":\"object\",\"name\":\"BoxZoomTool\",\"id\":\"p1267\",\"attributes\":{\"overlay\":{\"type\":\"object\",\"name\":\"BoxAnnotation\",\"id\":\"p1004\",\"attributes\":{\"syncable\":false,\"level\":\"overlay\",\"visible\":false,\"left\":{\"type\":\"number\",\"value\":\"nan\"},\"right\":{\"type\":\"number\",\"value\":\"nan\"},\"top\":{\"type\":\"number\",\"value\":\"nan\"},\"bottom\":{\"type\":\"number\",\"value\":\"nan\"},\"left_units\":\"canvas\",\"right_units\":\"canvas\",\"top_units\":\"canvas\",\"bottom_units\":\"canvas\",\"line_color\":\"black\",\"line_alpha\":1.0,\"line_width\":2,\"line_dash\":[4,4],\"fill_color\":\"lightgrey\",\"fill_alpha\":0.5}},\"match_aspect\":true}},{\"type\":\"object\",\"name\":\"HoverTool\",\"id\":\"p1280\",\"attributes\":{\"tags\":[\"hv_created\"],\"renderers\":[{\"id\":\"p1336\"}],\"tooltips\":[[\"NavStatus\",\"@{NavStatus}\"]]}},{\"type\":\"object\",\"name\":\"HoverTool\",\"id\":\"p1288\",\"attributes\":{\"tags\":[\"hv_created\"],\"renderers\":[{\"id\":\"p1356\"}],\"tooltips\":[[\"Longitude\",\"@{Longitude}\"],[\"Latitude\",\"@{Latitude}\"],[\"NavStatus\",\"@{NavStatus}\"],[\"triangle_angle\",\"@{triangle_angle}\"]]}},{\"type\":\"object\",\"name\":\"PanTool\",\"id\":\"p1312\"},{\"type\":\"object\",\"name\":\"ResetTool\",\"id\":\"p1313\"}],\"active_scroll\":{\"id\":\"p1266\"}}},\"left\":[{\"type\":\"object\",\"name\":\"LinearAxis\",\"id\":\"p1306\",\"attributes\":{\"ticker\":{\"type\":\"object\",\"name\":\"MercatorTicker\",\"id\":\"p1316\",\"attributes\":{\"mantissas\":[1,2,5],\"dimension\":\"lat\"}},\"formatter\":{\"type\":\"object\",\"name\":\"MercatorTickFormatter\",\"id\":\"p1317\",\"attributes\":{\"dimension\":\"lat\"}},\"axis_label\":\"Latitude\",\"major_label_policy\":{\"type\":\"object\",\"name\":\"AllLabels\",\"id\":\"p1309\"}}}],\"right\":[{\"type\":\"object\",\"name\":\"Legend\",\"id\":\"p1339\",\"attributes\":{\"location\":[0,0],\"click_policy\":\"mute\",\"items\":[{\"type\":\"object\",\"name\":\"LegendItem\",\"id\":\"p1340\",\"attributes\":{\"label\":{\"type\":\"field\",\"field\":\"color\"},\"renderers\":[{\"id\":\"p1336\"},{\"id\":\"p1356\"}]}}]}}],\"below\":[{\"type\":\"object\",\"name\":\"LinearAxis\",\"id\":\"p1301\",\"attributes\":{\"ticker\":{\"type\":\"object\",\"name\":\"MercatorTicker\",\"id\":\"p1314\",\"attributes\":{\"mantissas\":[1,2,5],\"dimension\":\"lon\"}},\"formatter\":{\"type\":\"object\",\"name\":\"MercatorTickFormatter\",\"id\":\"p1315\",\"attributes\":{\"dimension\":\"lon\"}},\"axis_label\":\"Longitude\",\"major_label_policy\":{\"type\":\"object\",\"name\":\"AllLabels\",\"id\":\"p1304\"}}}],\"center\":[{\"type\":\"object\",\"name\":\"Grid\",\"id\":\"p1305\",\"attributes\":{\"axis\":{\"id\":\"p1301\"},\"grid_line_color\":null}},{\"type\":\"object\",\"name\":\"Grid\",\"id\":\"p1310\",\"attributes\":{\"dimension\":1,\"axis\":{\"id\":\"p1306\"},\"grid_line_color\":null}}],\"frame_width\":500,\"frame_height\":400,\"min_border_top\":10,\"min_border_bottom\":10,\"min_border_left\":10,\"min_border_right\":10,\"output_backend\":\"webgl\",\"match_aspect\":true}},{\"type\":\"object\",\"name\":\"Spacer\",\"id\":\"p1362\",\"attributes\":{\"name\":\"HSpacer08719\",\"stylesheets\":[\"\\n:host(.pn-loading):before, .pn-loading:before {\\n  background-color: #c3c3c3;\\n  mask-size: auto calc(min(50%, 400px));\\n  -webkit-mask-size: auto calc(min(50%, 400px));\\n}\",{\"id\":\"p1248\"},{\"id\":\"p1246\"},{\"id\":\"p1247\"}],\"margin\":0,\"sizing_mode\":\"stretch_width\",\"align\":\"start\"}}]}}],\"defs\":[{\"type\":\"model\",\"name\":\"ReactiveHTML1\"},{\"type\":\"model\",\"name\":\"FlexBox1\",\"properties\":[{\"name\":\"align_content\",\"kind\":\"Any\",\"default\":\"flex-start\"},{\"name\":\"align_items\",\"kind\":\"Any\",\"default\":\"flex-start\"},{\"name\":\"flex_direction\",\"kind\":\"Any\",\"default\":\"row\"},{\"name\":\"flex_wrap\",\"kind\":\"Any\",\"default\":\"wrap\"},{\"name\":\"gap\",\"kind\":\"Any\",\"default\":\"\"},{\"name\":\"justify_content\",\"kind\":\"Any\",\"default\":\"flex-start\"}]},{\"type\":\"model\",\"name\":\"FloatPanel1\",\"properties\":[{\"name\":\"config\",\"kind\":\"Any\",\"default\":{\"type\":\"map\"}},{\"name\":\"contained\",\"kind\":\"Any\",\"default\":true},{\"name\":\"position\",\"kind\":\"Any\",\"default\":\"right-top\"},{\"name\":\"offsetx\",\"kind\":\"Any\",\"default\":null},{\"name\":\"offsety\",\"kind\":\"Any\",\"default\":null},{\"name\":\"theme\",\"kind\":\"Any\",\"default\":\"primary\"},{\"name\":\"status\",\"kind\":\"Any\",\"default\":\"normalized\"}]},{\"type\":\"model\",\"name\":\"GridStack1\",\"properties\":[{\"name\":\"mode\",\"kind\":\"Any\",\"default\":\"warn\"},{\"name\":\"ncols\",\"kind\":\"Any\",\"default\":null},{\"name\":\"nrows\",\"kind\":\"Any\",\"default\":null},{\"name\":\"allow_resize\",\"kind\":\"Any\",\"default\":true},{\"name\":\"allow_drag\",\"kind\":\"Any\",\"default\":true},{\"name\":\"state\",\"kind\":\"Any\",\"default\":[]}]},{\"type\":\"model\",\"name\":\"drag1\",\"properties\":[{\"name\":\"slider_width\",\"kind\":\"Any\",\"default\":5},{\"name\":\"slider_color\",\"kind\":\"Any\",\"default\":\"black\"},{\"name\":\"value\",\"kind\":\"Any\",\"default\":50}]},{\"type\":\"model\",\"name\":\"click1\",\"properties\":[{\"name\":\"terminal_output\",\"kind\":\"Any\",\"default\":\"\"},{\"name\":\"debug_name\",\"kind\":\"Any\",\"default\":\"\"},{\"name\":\"clears\",\"kind\":\"Any\",\"default\":0}]},{\"type\":\"model\",\"name\":\"FastWrapper1\",\"properties\":[{\"name\":\"object\",\"kind\":\"Any\",\"default\":null},{\"name\":\"style\",\"kind\":\"Any\",\"default\":null}]},{\"type\":\"model\",\"name\":\"NotificationAreaBase1\",\"properties\":[{\"name\":\"js_events\",\"kind\":\"Any\",\"default\":{\"type\":\"map\"}},{\"name\":\"position\",\"kind\":\"Any\",\"default\":\"bottom-right\"},{\"name\":\"_clear\",\"kind\":\"Any\",\"default\":0}]},{\"type\":\"model\",\"name\":\"NotificationArea1\",\"properties\":[{\"name\":\"js_events\",\"kind\":\"Any\",\"default\":{\"type\":\"map\"}},{\"name\":\"notifications\",\"kind\":\"Any\",\"default\":[]},{\"name\":\"position\",\"kind\":\"Any\",\"default\":\"bottom-right\"},{\"name\":\"_clear\",\"kind\":\"Any\",\"default\":0},{\"name\":\"types\",\"kind\":\"Any\",\"default\":[{\"type\":\"map\",\"entries\":[[\"type\",\"warning\"],[\"background\",\"#ffc107\"],[\"icon\",{\"type\":\"map\",\"entries\":[[\"className\",\"fas fa-exclamation-triangle\"],[\"tagName\",\"i\"],[\"color\",\"white\"]]}]]},{\"type\":\"map\",\"entries\":[[\"type\",\"info\"],[\"background\",\"#007bff\"],[\"icon\",{\"type\":\"map\",\"entries\":[[\"className\",\"fas fa-info-circle\"],[\"tagName\",\"i\"],[\"color\",\"white\"]]}]]}]}]},{\"type\":\"model\",\"name\":\"Notification\",\"properties\":[{\"name\":\"background\",\"kind\":\"Any\",\"default\":null},{\"name\":\"duration\",\"kind\":\"Any\",\"default\":3000},{\"name\":\"icon\",\"kind\":\"Any\",\"default\":null},{\"name\":\"message\",\"kind\":\"Any\",\"default\":\"\"},{\"name\":\"notification_type\",\"kind\":\"Any\",\"default\":null},{\"name\":\"_destroyed\",\"kind\":\"Any\",\"default\":false}]},{\"type\":\"model\",\"name\":\"TemplateActions1\",\"properties\":[{\"name\":\"open_modal\",\"kind\":\"Any\",\"default\":0},{\"name\":\"close_modal\",\"kind\":\"Any\",\"default\":0}]},{\"type\":\"model\",\"name\":\"BootstrapTemplateActions1\",\"properties\":[{\"name\":\"open_modal\",\"kind\":\"Any\",\"default\":0},{\"name\":\"close_modal\",\"kind\":\"Any\",\"default\":0}]},{\"type\":\"model\",\"name\":\"TemplateEditor1\",\"properties\":[{\"name\":\"layout\",\"kind\":\"Any\",\"default\":[]}]},{\"type\":\"model\",\"name\":\"MaterialTemplateActions1\",\"properties\":[{\"name\":\"open_modal\",\"kind\":\"Any\",\"default\":0},{\"name\":\"close_modal\",\"kind\":\"Any\",\"default\":0}]},{\"type\":\"model\",\"name\":\"copy_to_clipboard1\",\"properties\":[{\"name\":\"fill\",\"kind\":\"Any\",\"default\":\"none\"},{\"name\":\"value\",\"kind\":\"Any\",\"default\":null}]}]}};\n",
       "  var render_items = [{\"docid\":\"c3c19e7d-87a1-4ebd-966b-7b0cb417a0b8\",\"roots\":{\"p1245\":\"f7aed408-a546-43b7-b585-e7462947959b\"},\"root_ids\":[\"p1245\"]}];\n",
       "  var docs = Object.values(docs_json)\n",
       "  if (!docs) {\n",
       "    return\n",
       "  }\n",
       "  const py_version = docs[0].version.replace('rc', '-rc.').replace('.dev', '-dev.')\n",
       "  function embed_document(root) {\n",
       "    var Bokeh = get_bokeh(root)\n",
       "    Bokeh.embed.embed_items_notebook(docs_json, render_items);\n",
       "    for (const render_item of render_items) {\n",
       "      for (const root_id of render_item.root_ids) {\n",
       "\tconst id_el = document.getElementById(root_id)\n",
       "\tif (id_el.children.length && (id_el.children[0].className === 'bk-root')) {\n",
       "\t  const root_el = id_el.children[0]\n",
       "\t  root_el.id = root_el.id + '-rendered'\n",
       "\t}\n",
       "      }\n",
       "    }\n",
       "  }\n",
       "  function get_bokeh(root) {\n",
       "    if (root.Bokeh === undefined) {\n",
       "      return null\n",
       "    } else if (root.Bokeh.version !== py_version) {\n",
       "      if (root.Bokeh.versions === undefined || !root.Bokeh.versions.has(py_version)) {\n",
       "\treturn null\n",
       "      }\n",
       "      return root.Bokeh.versions.get(py_version);\n",
       "    } else if (root.Bokeh.version === py_version) {\n",
       "      return root.Bokeh\n",
       "    }\n",
       "    return null\n",
       "  }\n",
       "  function is_loaded(root) {\n",
       "    var Bokeh = get_bokeh(root)\n",
       "    return (Bokeh != null && Bokeh.Panel !== undefined)\n",
       "  }\n",
       "  if (is_loaded(root)) {\n",
       "    embed_document(root);\n",
       "  } else {\n",
       "    var attempts = 0;\n",
       "    var timer = setInterval(function(root) {\n",
       "      if (is_loaded(root)) {\n",
       "        clearInterval(timer);\n",
       "        embed_document(root);\n",
       "      } else if (document.readyState == \"complete\") {\n",
       "        attempts++;\n",
       "        if (attempts > 200) {\n",
       "          clearInterval(timer);\n",
       "\t  var Bokeh = get_bokeh(root)\n",
       "\t  if (Bokeh == null || Bokeh.Panel == null) {\n",
       "            console.warn(\"Panel: ERROR: Unable to run Panel code because Bokeh or Panel library is missing\");\n",
       "\t  } else {\n",
       "\t    console.warn(\"Panel: WARNING: Attempting to render but not all required libraries could be resolved.\")\n",
       "\t    embed_document(root)\n",
       "\t  }\n",
       "        }\n",
       "      }\n",
       "    }, 25, root)\n",
       "  }\n",
       "})(window);</script>"
      ],
      "text/plain": [
       ":Overlay\n",
       "   .WMTS.I   :WMTS   [Longitude,Latitude]\n",
       "   .Path.I   :Path   [Longitude,Latitude]   (NavStatus)\n",
       "   .Points.I :Points   [Longitude,Latitude]   (NavStatus,triangle_angle)"
      ]
     },
     "execution_count": 33,
     "metadata": {
      "application/vnd.holoviews_exec.v0+json": {
       "id": "p1245"
      }
     },
     "output_type": "execute_result"
    }
   ],
   "source": [
    "my_traj.hvplot(title=f'Trajectory {my_traj.id}', frame_width=800, frame_height=500, line_width=5.0, c='NavStatus', cmap='Dark2') "
   ]
  },
  {
   "cell_type": "markdown",
   "metadata": {},
   "source": [
    "## Finding ships passing under Älvsborgsbron bridge\n",
    "We can find ships passing under the bridge based on trajectory intersections with the bridge area."
   ]
  },
  {
   "cell_type": "code",
   "execution_count": null,
   "metadata": {},
   "outputs": [],
   "source": [
    "area_of_interest = Polygon([(11.89935, 57.69270), (11.90161, 57.68902), (11.90334, 57.68967), (11.90104, 57.69354), (11.89935, 57.69270)])"
   ]
  },
  {
   "cell_type": "code",
   "execution_count": null,
   "metadata": {},
   "outputs": [],
   "source": [
    "intersecting = traj_collection.get_intersecting(area_of_interest)\n",
    "print(f\"Found {len(intersecting)} intersections\")"
   ]
  },
  {
   "cell_type": "code",
   "execution_count": null,
   "metadata": {},
   "outputs": [],
   "source": [
    "bridge_traj = intersecting.trajectories[0]\n",
    "bridge_traj.hvplot(title=f'Trajectory {bridge_traj.id}', frame_width=700, frame_height=500, line_width=5.0, c='NavStatus', cmap='Dark2') "
   ]
  },
  {
   "cell_type": "code",
   "execution_count": null,
   "metadata": {},
   "outputs": [],
   "source": [
    "bridge_traj.df.head()"
   ]
  },
  {
   "cell_type": "markdown",
   "metadata": {},
   "source": [
    "## Identifying trip origins and destinations"
   ]
  },
  {
   "cell_type": "markdown",
   "metadata": {},
   "source": [
    "Since AIS records with a speed over ground (SOG) value of zero have been removed from the dataset, we can use the `split_by_observation_gap()` function to split the continuous observations into individual trips:"
   ]
  },
  {
   "cell_type": "code",
   "execution_count": null,
   "metadata": {},
   "outputs": [],
   "source": [
    "trips = mpd.ObservationGapSplitter(passenger).split(gap=timedelta(minutes=5))\n",
    "print(f\"Extracted {len(trips)} individual trips from {len(passenger)} continuous vessel tracks\")"
   ]
  },
  {
   "cell_type": "markdown",
   "metadata": {},
   "source": [
    "Let's plot the resulting trips!"
   ]
  },
  {
   "cell_type": "code",
   "execution_count": null,
   "metadata": {},
   "outputs": [],
   "source": [
    "trips.hvplot(title='Passenger ferry trips', line_width=2, frame_width=700, frame_height=500)"
   ]
  },
  {
   "cell_type": "markdown",
   "metadata": {},
   "source": [
    "Compared to plotting the original continuous observations, this visualization is much cleaner because there are no artifacts at the border of the area of interest. "
   ]
  },
  {
   "cell_type": "markdown",
   "metadata": {},
   "source": [
    "Next, let's get the trip origins:"
   ]
  },
  {
   "cell_type": "code",
   "execution_count": null,
   "metadata": {},
   "outputs": [],
   "source": [
    "origins = trips.get_start_locations()\n",
    "origins.hvplot(title='Trip origins by ship type', c='Name', geo=True, tiles='OSM', frame_width=700, frame_height=500)"
   ]
  },
  {
   "cell_type": "markdown",
   "metadata": {},
   "source": [
    "In our data sample, trip origins can be:\n",
    "- When a ship departs its anchoring location and the speed changes from 0 to >0\n",
    "- When a ship trajectory first enters the observation area"
   ]
  },
  {
   "cell_type": "code",
   "execution_count": null,
   "metadata": {},
   "outputs": [],
   "source": [
    "origins.hvplot(title='Origins by speed', c='SOG', geo=True, tiles='OSM', frame_width=700, frame_height=500)"
   ]
  },
  {
   "cell_type": "markdown",
   "metadata": {},
   "source": [
    "## Finding ships that depart from Sjöfartsverket (Maritime Administration)"
   ]
  },
  {
   "cell_type": "code",
   "execution_count": null,
   "metadata": {},
   "outputs": [],
   "source": [
    "trips = mpd.ObservationGapSplitter(traj_collection).split(gap=timedelta(minutes=5))\n",
    "area_of_interest = Polygon([(11.86815, 57.68273), (11.86992, 57.68047), (11.87419, 57.68140), (11.87288, 57.68348), (11.86815, 57.68273)])"
   ]
  },
  {
   "cell_type": "markdown",
   "metadata": {},
   "source": [
    "We can identify vessels that start their trip within a given area of interest by intersecting trip starting locations with our area of interest:"
   ]
  },
  {
   "cell_type": "code",
   "execution_count": null,
   "metadata": {},
   "outputs": [],
   "source": [
    "departures = [traj for traj in trips if traj.get_start_location().intersects(area_of_interest) and traj.get_length() > 100]       \n",
    "print(f\"Found {len(departures)} departures\")"
   ]
  },
  {
   "cell_type": "code",
   "execution_count": null,
   "metadata": {},
   "outputs": [],
   "source": [
    "tc = mpd.TrajectoryCollection(departures)\n",
    "tc.hvplot(title=f'Ships departing from Sjöfartsverket', line_width=3, frame_width=700, frame_height=500, hover_cols=['Name']) "
   ]
  },
  {
   "cell_type": "markdown",
   "metadata": {},
   "source": [
    "Let's see what kind of ships depart from here:"
   ]
  },
  {
   "cell_type": "code",
   "execution_count": null,
   "metadata": {},
   "outputs": [],
   "source": [
    "for traj in departures:\n",
    "    print(f\"{traj.df['ShipType'].iloc[0]} vessel '{traj.df['Name'].iloc[0]}' departed at {traj.get_start_time()}\")"
   ]
  },
  {
   "cell_type": "markdown",
   "metadata": {},
   "source": [
    "Of course, the same works for arrivals:"
   ]
  },
  {
   "cell_type": "code",
   "execution_count": null,
   "metadata": {},
   "outputs": [],
   "source": [
    "arrivals = [traj for traj in trips if traj.get_end_location().intersects(area_of_interest) and traj.get_length() > 100]\n",
    "print(f\"Found {len(arrivals)} arrivals\")\n",
    "\n",
    "for traj in arrivals:\n",
    "    print(f\"{traj.df['ShipType'].iloc[0]} vessel '{traj.df['Name'].iloc[0]}' arrived at {traj.get_end_time()}\")"
   ]
  },
  {
   "cell_type": "code",
   "execution_count": null,
   "metadata": {},
   "outputs": [],
   "source": [
    "tc = mpd.TrajectoryCollection(arrivals)\n",
    "tc.hvplot(title=f'Ships arriving in Sjöfartsverket', line_width=3, frame_width=700, frame_height=500, hover_cols=['Name']) "
   ]
  },
  {
   "cell_type": "markdown",
   "metadata": {},
   "source": [
    "## Clustering origins\n",
    "\n",
    "To run this section, you need to have the scikit-learn package installed. "
   ]
  },
  {
   "cell_type": "code",
   "execution_count": null,
   "metadata": {},
   "outputs": [],
   "source": [
    "from sklearn.cluster import DBSCAN\n",
    "from geopy.distance import great_circle\n",
    "from shapely.geometry import MultiPoint"
   ]
  },
  {
   "cell_type": "code",
   "execution_count": null,
   "metadata": {},
   "outputs": [],
   "source": [
    "origins = trips.get_start_locations()\n",
    "origins['lat'] = origins.geometry.y\n",
    "origins['lon'] = origins.geometry.x\n",
    "matrix = origins[['lat','lon']].values"
   ]
  },
  {
   "cell_type": "code",
   "execution_count": null,
   "metadata": {},
   "outputs": [],
   "source": [
    "kms_per_radian = 6371.0088\n",
    "epsilon = 0.1 / kms_per_radian"
   ]
  },
  {
   "cell_type": "code",
   "execution_count": null,
   "metadata": {},
   "outputs": [],
   "source": [
    "db = DBSCAN(eps=epsilon, min_samples=1, algorithm='ball_tree', metric='haversine').fit(np.radians(matrix))\n",
    "cluster_labels = db.labels_\n",
    "num_clusters = len(set(cluster_labels))\n",
    "clusters = pd.Series([matrix[cluster_labels == n] for n in range(num_clusters)])\n",
    "print(f'Number of clusters: {num_clusters}')"
   ]
  },
  {
   "cell_type": "code",
   "execution_count": null,
   "metadata": {},
   "outputs": [],
   "source": [
    "origins['cluster'] = cluster_labels"
   ]
  },
  {
   "cell_type": "code",
   "execution_count": null,
   "metadata": {},
   "outputs": [],
   "source": [
    "def get_centermost_point(cluster):\n",
    "    centroid = (MultiPoint(cluster).centroid.x, MultiPoint(cluster).centroid.y)\n",
    "    centermost_point = min(cluster, key=lambda point: great_circle(point, centroid).m)\n",
    "    return Point(tuple(centermost_point)[1], tuple(centermost_point)[0])\n",
    "centermost_points = clusters.map(get_centermost_point)"
   ]
  },
  {
   "cell_type": "code",
   "execution_count": null,
   "metadata": {},
   "outputs": [],
   "source": [
    "origins.hvplot(title='Clustered origins', c='cluster', geo=True, tiles='OSM', cmap='glasbey_dark', frame_width=700, frame_height=500)"
   ]
  },
  {
   "cell_type": "code",
   "execution_count": null,
   "metadata": {},
   "outputs": [],
   "source": [
    "origins_by_cluster = pd.DataFrame(origins).groupby(['cluster'])\n",
    "summary = origins_by_cluster['ShipType'].unique().to_frame(name='types')\n",
    "summary['n'] = origins_by_cluster.size()\n",
    "summary['sog'] = origins_by_cluster['SOG'].mean()\n",
    "summary['geometry'] = centermost_points\n",
    "summary = summary[summary['n']>1].sort_values(by='n', ascending=False)\n",
    "summary.head()"
   ]
  },
  {
   "cell_type": "code",
   "execution_count": null,
   "metadata": {},
   "outputs": [],
   "source": [
    "cluster_of_interest_id = 28\n",
    "origins[origins['cluster']==cluster_of_interest_id].hvplot(\n",
    "    title=f'Cluster {cluster_of_interest_id}', c='ShipType', geo=True, tiles='OSM', frame_width=700, frame_height=500)"
   ]
  },
  {
   "cell_type": "code",
   "execution_count": null,
   "metadata": {},
   "outputs": [],
   "source": [
    "( trips.hvplot(title='Origin clusters by speed', color='gray', line_width=1, frame_width=700, frame_height=500) *\n",
    "  GeoDataFrame(summary, crs=4326).hvplot(c='sog', size=np.sqrt(dim('n'))*3, geo=True,  cmap='RdYlGn')\n",
    ")"
   ]
  },
  {
   "cell_type": "markdown",
   "metadata": {},
   "source": [
    "## Continue exploring MovingPandas\n",
    "\n",
    "1. [Bird migration analysis](bird-migration.ipynb)\n",
    "1. [Ship data analysis](ship-data.ipynb)\n",
    "1. [Horse collar data exploration](horse-collar.ipynb)\n",
    "1. [OSM traces](osm-traces.ipynb)\n",
    "1. [Soccer game](soccer-game.ipynb)\n",
    "1. [Mars rover & heli](mars-rover.ipynb)"
   ]
  },
  {
   "cell_type": "code",
   "execution_count": null,
   "metadata": {},
   "outputs": [],
   "source": []
  }
 ],
 "metadata": {
  "kernelspec": {
   "display_name": "Python 3 (ipykernel)",
   "language": "python",
   "name": "python3"
  },
  "language_info": {
   "codemirror_mode": {
    "name": "ipython",
    "version": 3
   },
   "file_extension": ".py",
   "mimetype": "text/x-python",
   "name": "python",
   "nbconvert_exporter": "python",
   "pygments_lexer": "ipython3",
   "version": "3.9.18"
  }
 },
 "nbformat": 4,
 "nbformat_minor": 4
}
