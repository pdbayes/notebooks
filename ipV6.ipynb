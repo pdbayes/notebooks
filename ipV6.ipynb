{
 "cells": [
  {
   "cell_type": "code",
   "execution_count": 1,
   "id": "15f151dd",
   "metadata": {},
   "outputs": [],
   "source": [
    "import ipaddress"
   ]
  },
  {
   "cell_type": "code",
   "execution_count": 2,
   "id": "95c5811b",
   "metadata": {},
   "outputs": [
    {
     "data": {
      "text/plain": [
       "IPv6Address('2001:db8::1')"
      ]
     },
     "execution_count": 2,
     "metadata": {},
     "output_type": "execute_result"
    }
   ],
   "source": [
    "ipaddress.ip_address('2001:DB8::1')"
   ]
  },
  {
   "cell_type": "code",
   "execution_count": 3,
   "id": "105f9e05",
   "metadata": {},
   "outputs": [
    {
     "data": {
      "text/plain": [
       "IPv6Address('2001:db8::1')"
      ]
     },
     "execution_count": 3,
     "metadata": {},
     "output_type": "execute_result"
    }
   ],
   "source": [
    "ipaddress.ip_address(42540766411282592856903984951653826561)"
   ]
  },
  {
   "cell_type": "code",
   "execution_count": 4,
   "id": "273bfe3a",
   "metadata": {},
   "outputs": [
    {
     "data": {
      "text/plain": [
       "IPv6Address('::1')"
      ]
     },
     "execution_count": 4,
     "metadata": {},
     "output_type": "execute_result"
    }
   ],
   "source": [
    "ipaddress.IPv6Address(1)"
   ]
  },
  {
   "cell_type": "code",
   "execution_count": 5,
   "id": "f360cf25",
   "metadata": {},
   "outputs": [
    {
     "data": {
      "text/plain": [
       "IPv6Network('2001:db8::/96')"
      ]
     },
     "execution_count": 5,
     "metadata": {},
     "output_type": "execute_result"
    }
   ],
   "source": [
    "ipaddress.ip_network('2001:db8::0/96')"
   ]
  },
  {
   "cell_type": "code",
   "execution_count": 6,
   "id": "9b15e497",
   "metadata": {},
   "outputs": [
    {
     "data": {
      "text/plain": [
       "IPv6Network('2001:db8::/128')"
      ]
     },
     "execution_count": 6,
     "metadata": {},
     "output_type": "execute_result"
    }
   ],
   "source": [
    "ipaddress.ip_network(42540766411282592856903984951653826560)"
   ]
  },
  {
   "cell_type": "code",
   "execution_count": 7,
   "id": "2f9c7661",
   "metadata": {},
   "outputs": [
    {
     "data": {
      "text/plain": [
       "IPv6Interface('2001:db8::1/96')"
      ]
     },
     "execution_count": 7,
     "metadata": {},
     "output_type": "execute_result"
    }
   ],
   "source": [
    "ipaddress.ip_interface('2001:db8::1/96')"
   ]
  },
  {
   "cell_type": "code",
   "execution_count": 8,
   "id": "cb024f63",
   "metadata": {},
   "outputs": [
    {
     "data": {
      "text/plain": [
       "6"
      ]
     },
     "execution_count": 8,
     "metadata": {},
     "output_type": "execute_result"
    }
   ],
   "source": [
    "addr6 = ipaddress.ip_address('2001:db8::1')\n",
    "\n",
    "addr6.version"
   ]
  },
  {
   "cell_type": "code",
   "execution_count": 9,
   "id": "34ec60a9",
   "metadata": {},
   "outputs": [
    {
     "data": {
      "text/plain": [
       "IPv6Network('2001:db8::/96')"
      ]
     },
     "execution_count": 9,
     "metadata": {},
     "output_type": "execute_result"
    }
   ],
   "source": [
    "host6 = ipaddress.ip_interface('2001:db8::1/96')\n",
    "host6.network"
   ]
  },
  {
   "cell_type": "code",
   "execution_count": 10,
   "id": "d7eb11e8",
   "metadata": {},
   "outputs": [
    {
     "data": {
      "text/plain": [
       "4294967296"
      ]
     },
     "execution_count": 10,
     "metadata": {},
     "output_type": "execute_result"
    }
   ],
   "source": [
    "net6 = ipaddress.ip_network('2001:db8::0/96')\n",
    "net6.num_addresses"
   ]
  },
  {
   "cell_type": "code",
   "execution_count": 14,
   "id": "d1caefad",
   "metadata": {},
   "outputs": [
    {
     "name": "stdout",
     "output_type": "stream",
     "text": [
      "2001:db8::1\n",
      "2001:db8::2\n",
      "2001:db8::3\n",
      "2001:db8::4\n",
      "2001:db8::5\n",
      "2001:db8::6\n",
      "2001:db8::7\n",
      "2001:db8::8\n",
      "2001:db8::9\n",
      "2001:db8::a\n",
      "2001:db8::b\n"
     ]
    }
   ],
   "source": [
    "net6 = ipaddress.ip_network('2001:db8::/96')\n",
    "i=0\n",
    "for x in net6.hosts():\n",
    "    if(i>10):\n",
    "        break\n",
    "    i = i + 1\n",
    "    print(x)  "
   ]
  },
  {
   "cell_type": "code",
   "execution_count": 15,
   "id": "4864853f",
   "metadata": {},
   "outputs": [
    {
     "data": {
      "text/plain": [
       "IPv6Address('ffff:ffff:ffff:ffff:ffff:ffff::')"
      ]
     },
     "execution_count": 15,
     "metadata": {},
     "output_type": "execute_result"
    }
   ],
   "source": [
    "net6 = ipaddress.ip_network('2001:db8::0/96')\n",
    "net6.netmask"
   ]
  },
  {
   "cell_type": "code",
   "execution_count": 16,
   "id": "fbd1a012",
   "metadata": {},
   "outputs": [
    {
     "data": {
      "text/plain": [
       "IPv6Address('::ffff:ffff')"
      ]
     },
     "execution_count": 16,
     "metadata": {},
     "output_type": "execute_result"
    }
   ],
   "source": [
    "net6.hostmask"
   ]
  },
  {
   "cell_type": "code",
   "execution_count": 17,
   "id": "190124b2",
   "metadata": {},
   "outputs": [
    {
     "data": {
      "text/plain": [
       "'2001:0db8:0000:0000:0000:0000:0000:0001'"
      ]
     },
     "execution_count": 17,
     "metadata": {},
     "output_type": "execute_result"
    }
   ],
   "source": [
    "addr6.exploded"
   ]
  },
  {
   "cell_type": "code",
   "execution_count": 18,
   "id": "972e5f50",
   "metadata": {},
   "outputs": [
    {
     "data": {
      "text/plain": [
       "'2001:db8::1'"
      ]
     },
     "execution_count": 18,
     "metadata": {},
     "output_type": "execute_result"
    }
   ],
   "source": [
    "addr6.compressed"
   ]
  },
  {
   "cell_type": "code",
   "execution_count": 19,
   "id": "b306919d",
   "metadata": {},
   "outputs": [
    {
     "data": {
      "text/plain": [
       "IPv6Address('2001:db8::1')"
      ]
     },
     "execution_count": 19,
     "metadata": {},
     "output_type": "execute_result"
    }
   ],
   "source": [
    "net6[1]"
   ]
  },
  {
   "cell_type": "code",
   "execution_count": 20,
   "id": "7e70c120",
   "metadata": {},
   "outputs": [
    {
     "data": {
      "text/plain": [
       "IPv6Address('2001:db8::ffff:ffff')"
      ]
     },
     "execution_count": 20,
     "metadata": {},
     "output_type": "execute_result"
    }
   ],
   "source": [
    "net6[-1]"
   ]
  },
  {
   "cell_type": "code",
   "execution_count": 22,
   "id": "36397168",
   "metadata": {},
   "outputs": [
    {
     "name": "stdout",
     "output_type": "stream",
     "text": [
      "2001:db8::1 is in network 2001:db8::/96\n"
     ]
    }
   ],
   "source": [
    "if addr6 in net6:\n",
    "    print(str(addr6) +\" is in network \" + str(net6))"
   ]
  },
  {
   "cell_type": "code",
   "execution_count": 29,
   "id": "dbae31e8",
   "metadata": {},
   "outputs": [
    {
     "name": "stdout",
     "output_type": "stream",
     "text": [
      "42540766411282592856903984951653826561 \n",
      " 0b100000000000010000110110111000000000000000000000000000000000000000000000000000000000000000000000000000000000000000000000000001 \n",
      " 0x20010db8000000000000000000000001\n"
     ]
    }
   ],
   "source": [
    "addr6_dec = int(addr6)\n",
    "addr6_bin = bin(addr6_dec)\n",
    "addr6_hex = hex(addr6_dec)\n",
    "print(addr6_dec,'\\n',addr6_bin,'\\n',addr6_hex)"
   ]
  },
  {
   "cell_type": "code",
   "execution_count": 136,
   "id": "654146c8",
   "metadata": {},
   "outputs": [],
   "source": [
    "def mac_to_ipv6_linklocal (mac):\n",
    "    # Remove the most common delimiters; dots, dashes, etc.\n",
    "    mac_value = int(mac.replace(\":\",\"\"),16)\n",
    "    print(bin(mac_value))\n",
    "    # Split out the bytes that slot into the IPv6 address\n",
    "    # XOR the most significant byte with 0x02, inverting the\n",
    "    # Universal / Local bit\n",
    "    high2 = mac_value >> 32 & 0xffff ^ 0x0200\n",
    "    high1 = mac_value >> 24 & 0xff\n",
    "    low1 = mac_value >> 16 & 0xff\n",
    "    low2 = mac_value & 0xffff\n",
    "    print(high2, high1, low1, low2)\n",
    "    return 'fe80::{:04x}:{:02x}ff:fe{:02x}:{:04x}'.format (\n",
    "        high2, high1, low1, low2)"
   ]
  },
  {
   "cell_type": "code",
   "execution_count": 347,
   "id": "aed9124a",
   "metadata": {},
   "outputs": [],
   "source": [
    "def ipv6_to_mac(ipv6):\n",
    "    try:\n",
    "        # create an IP address object\n",
    "        ip_obj = ipaddress.ip_address(ipv6)\n",
    "        # check if the address is IPv6\n",
    "        if ip_obj.version == 6:\n",
    "            # check if the address is link local\n",
    "            if ip_obj.is_link_local is True:\n",
    "                # get the binary representation of the IP address\n",
    "                ip_bin = ip_obj.packed\n",
    "                print(ip_bin)\n",
    "                # extract the MAC address from the IP address\n",
    "                mac = ip_bin\n",
    "                print(mac)\n",
    "                # modify the MAC address to match the original format\n",
    "                mac =  bytes([mac[8] ^ 2]) + mac[9:11] + mac[13:]\n",
    "                print(mac)\n",
    "                # convert the MAC address to hexadecimal format\n",
    "                mac = \":\".join([\"%02x\" % b for b in mac])\n",
    "                return mac\n",
    "            else:\n",
    "                return \"The IPv6 address is not using SLAAC\"\n",
    "        else:\n",
    "            return \"The IP address is not IPv6\"\n",
    "    except ValueError:\n",
    "        # invalid IP address\n",
    "        return \"The IP address is not valid\"\n"
   ]
  },
  {
   "cell_type": "code",
   "execution_count": 352,
   "id": "05db0f4b",
   "metadata": {},
   "outputs": [
    {
     "name": "stdout",
     "output_type": "stream",
     "text": [
      "0b11110001010100100010111111111111111100010001\n",
      "3349 34 255 65297\n",
      "fe80::0d15:22ff:feff:ff11\n"
     ]
    }
   ],
   "source": [
    "slaac_ip = mac_to_ipv6_linklocal('0f:15:22:ff:ff:11')\n",
    "print(slaac_ip)"
   ]
  },
  {
   "cell_type": "code",
   "execution_count": 353,
   "id": "fc26024e",
   "metadata": {},
   "outputs": [
    {
     "name": "stdout",
     "output_type": "stream",
     "text": [
      "b'\\xfe\\x80\\x00\\x00\\x00\\x00\\x00\\x00\\r\\x15\"\\xff\\xfe\\xff\\xff\\x11'\n",
      "b'\\xfe\\x80\\x00\\x00\\x00\\x00\\x00\\x00\\r\\x15\"\\xff\\xfe\\xff\\xff\\x11'\n",
      "b'\\x0f\\x15\"\\xff\\xff\\x11'\n"
     ]
    },
    {
     "data": {
      "text/plain": [
       "'0f:15:22:ff:ff:11'"
      ]
     },
     "execution_count": 353,
     "metadata": {},
     "output_type": "execute_result"
    }
   ],
   "source": [
    "ipv6_to_mac(slaac_ip)"
   ]
  },
  {
   "cell_type": "code",
   "execution_count": null,
   "id": "68bcc048",
   "metadata": {},
   "outputs": [],
   "source": []
  },
  {
   "cell_type": "code",
   "execution_count": null,
   "id": "be09eca7",
   "metadata": {},
   "outputs": [],
   "source": []
  }
 ],
 "metadata": {
  "kernelspec": {
   "display_name": "Python 3 (ipykernel)",
   "language": "python",
   "name": "python3"
  },
  "language_info": {
   "codemirror_mode": {
    "name": "ipython",
    "version": 3
   },
   "file_extension": ".py",
   "mimetype": "text/x-python",
   "name": "python",
   "nbconvert_exporter": "python",
   "pygments_lexer": "ipython3",
   "version": "3.9.18"
  }
 },
 "nbformat": 4,
 "nbformat_minor": 5
}
