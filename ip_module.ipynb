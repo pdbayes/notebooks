{
 "cells": [
  {
   "cell_type": "markdown",
   "id": "1a089c2a",
   "metadata": {},
   "source": [
    "# This document aims to provide a gentle introduction to the ipaddress module. It is aimed primarily at users that aren’t already familiar with IP networking terminology, but may also be useful to network engineers wanting an overview of how ipaddress represents IP network addressing concepts.\n",
    "\n",
    "Creating Address/Network/Interface objects\n",
    "Since ipaddress is a module for inspecting and manipulating IP addresses, the first thing you’ll want to do is create some objects. You can use ipaddress to create objects from strings and integers.\n",
    "\n",
    "A Note on IP Versions\n",
    "For readers that aren’t particularly familiar with IP addressing, it’s important to know that the Internet Protocol (IP) is currently in the process of moving from version 4 of the protocol to version 6. This transition is occurring largely because version 4 of the protocol doesn’t provide enough addresses to handle the needs of the whole world, especially given the increasing number of devices with direct connections to the internet.\n",
    "\n",
    "Explaining the details of the differences between the two versions of the protocol is beyond the scope of this introduction, but readers need to at least be aware that these two versions exist, and it will sometimes be necessary to force the use of one version or the other.\n",
    "\n",
    "IP Host Addresses\n",
    "Addresses, often referred to as “host addresses” are the most basic unit when working with IP addressing. The simplest way to create addresses is to use the ipaddress.ip_address() factory function, which automatically determines whether to create an IPv4 or IPv6 address based on the passed in value:"
   ]
  },
  {
   "cell_type": "code",
   "execution_count": 5,
   "id": "0eef9254",
   "metadata": {},
   "outputs": [],
   "source": [
    "import ipaddress"
   ]
  },
  {
   "cell_type": "code",
   "execution_count": 9,
   "id": "29bbf26c",
   "metadata": {},
   "outputs": [
    {
     "data": {
      "text/plain": [
       "IPv4Address('192.0.2.1')"
      ]
     },
     "execution_count": 9,
     "metadata": {},
     "output_type": "execute_result"
    }
   ],
   "source": [
    "ipaddress.ip_address('192.0.2.1')"
   ]
  },
  {
   "cell_type": "code",
   "execution_count": 10,
   "id": "cd35c1a5",
   "metadata": {},
   "outputs": [
    {
     "data": {
      "text/plain": [
       "IPv6Address('2001:db8::1')"
      ]
     },
     "execution_count": 10,
     "metadata": {},
     "output_type": "execute_result"
    }
   ],
   "source": [
    "ipaddress.ip_address('2001:DB8::1')"
   ]
  },
  {
   "cell_type": "markdown",
   "id": "9bdad187",
   "metadata": {},
   "source": [
    "Addresses can also be created directly from integers. Values that will fit within 32 bits are assumed to be IPv4 addresses:"
   ]
  },
  {
   "cell_type": "code",
   "execution_count": 11,
   "id": "5c3b5210",
   "metadata": {},
   "outputs": [
    {
     "data": {
      "text/plain": [
       "IPv4Address('192.0.2.1')"
      ]
     },
     "execution_count": 11,
     "metadata": {},
     "output_type": "execute_result"
    }
   ],
   "source": [
    "ipaddress.ip_address(3221225985)"
   ]
  },
  {
   "cell_type": "code",
   "execution_count": 12,
   "id": "72751803",
   "metadata": {},
   "outputs": [
    {
     "data": {
      "text/plain": [
       "IPv6Address('2001:db8::1')"
      ]
     },
     "execution_count": 12,
     "metadata": {},
     "output_type": "execute_result"
    }
   ],
   "source": [
    "ipaddress.ip_address(42540766411282592856903984951653826561)"
   ]
  },
  {
   "cell_type": "markdown",
   "id": "c85e0f63",
   "metadata": {},
   "source": [
    "To force the use of IPv4 or IPv6 addresses, the relevant classes can be invoked directly. This is particularly useful to force creation of IPv6 addresses for small integers:"
   ]
  },
  {
   "cell_type": "code",
   "execution_count": 13,
   "id": "595455c1",
   "metadata": {},
   "outputs": [
    {
     "data": {
      "text/plain": [
       "IPv4Address('0.0.0.1')"
      ]
     },
     "execution_count": 13,
     "metadata": {},
     "output_type": "execute_result"
    }
   ],
   "source": [
    "ipaddress.ip_address(1)"
   ]
  },
  {
   "cell_type": "code",
   "execution_count": 14,
   "id": "1d467108",
   "metadata": {},
   "outputs": [
    {
     "data": {
      "text/plain": [
       "IPv4Address('0.0.0.1')"
      ]
     },
     "execution_count": 14,
     "metadata": {},
     "output_type": "execute_result"
    }
   ],
   "source": [
    "ipaddress.IPv4Address(1)"
   ]
  },
  {
   "cell_type": "code",
   "execution_count": 15,
   "id": "6de13ad0",
   "metadata": {},
   "outputs": [
    {
     "data": {
      "text/plain": [
       "IPv6Address('::1')"
      ]
     },
     "execution_count": 15,
     "metadata": {},
     "output_type": "execute_result"
    }
   ],
   "source": [
    "ipaddress.IPv6Address(1)"
   ]
  },
  {
   "cell_type": "markdown",
   "id": "cb206090",
   "metadata": {},
   "source": [
    "Defining Networks\n",
    "Host addresses are usually grouped together into IP networks, so ipaddress provides a way to create, inspect and manipulate network definitions. IP network objects are constructed from strings that define the range of host addresses that are part of that network. The simplest form for that information is a “network address/network prefix” pair, where the prefix defines the number of leading bits that are compared to determine whether or not an address is part of the network and the network address defines the expected value of those bits.\n",
    "As for addresses, a factory function is provided that determines the correct IP version automatically:"
   ]
  },
  {
   "cell_type": "code",
   "execution_count": 16,
   "id": "753790ad",
   "metadata": {},
   "outputs": [
    {
     "data": {
      "text/plain": [
       "IPv4Network('192.0.2.0/24')"
      ]
     },
     "execution_count": 16,
     "metadata": {},
     "output_type": "execute_result"
    }
   ],
   "source": [
    "ipaddress.ip_network('192.0.2.0/24')"
   ]
  },
  {
   "cell_type": "code",
   "execution_count": 17,
   "id": "570db59f",
   "metadata": {},
   "outputs": [
    {
     "data": {
      "text/plain": [
       "IPv6Network('2001:db8::/96')"
      ]
     },
     "execution_count": 17,
     "metadata": {},
     "output_type": "execute_result"
    }
   ],
   "source": [
    "ipaddress.ip_network('2001:db8::0/96')"
   ]
  },
  {
   "cell_type": "code",
   "execution_count": null,
   "id": "d26cc2f5",
   "metadata": {},
   "outputs": [],
   "source": [
    "Network objects cannot have any host bits set. The practical effect of this is that 192.0.2.1/24 does not describe a network. Such definitions are referred to as interface objects since the ip-on-a-network notation is commonly used to describe network interfaces of a computer on a given network and are described further in the next section.\n",
    "\n",
    "By default, attempting to create a network object with host bits set will result in ValueError being raised. To request that the additional bits instead be coerced to zero, the flag strict=False can be passed to the constructor:"
   ]
  },
  {
   "cell_type": "code",
   "execution_count": 59,
   "id": "464c6fc3",
   "metadata": {},
   "outputs": [
    {
     "ename": "ValueError",
     "evalue": "192.0.2.1/24 has host bits set",
     "output_type": "error",
     "traceback": [
      "\u001b[0;31m---------------------------------------------------------------------------\u001b[0m",
      "\u001b[0;31mValueError\u001b[0m                                Traceback (most recent call last)",
      "Cell \u001b[0;32mIn[59], line 1\u001b[0m\n\u001b[0;32m----> 1\u001b[0m \u001b[43mipaddress\u001b[49m\u001b[38;5;241;43m.\u001b[39;49m\u001b[43mip_network\u001b[49m\u001b[43m(\u001b[49m\u001b[38;5;124;43m'\u001b[39;49m\u001b[38;5;124;43m192.0.2.1/24\u001b[39;49m\u001b[38;5;124;43m'\u001b[39;49m\u001b[43m)\u001b[49m\n",
      "File \u001b[0;32m/opt/anaconda3/lib/python3.9/ipaddress.py:73\u001b[0m, in \u001b[0;36mip_network\u001b[0;34m(address, strict)\u001b[0m\n\u001b[1;32m     57\u001b[0m \u001b[38;5;250m\u001b[39m\u001b[38;5;124;03m\"\"\"Take an IP string/int and return an object of the correct type.\u001b[39;00m\n\u001b[1;32m     58\u001b[0m \n\u001b[1;32m     59\u001b[0m \u001b[38;5;124;03mArgs:\u001b[39;00m\n\u001b[0;32m   (...)\u001b[0m\n\u001b[1;32m     70\u001b[0m \n\u001b[1;32m     71\u001b[0m \u001b[38;5;124;03m\"\"\"\u001b[39;00m\n\u001b[1;32m     72\u001b[0m \u001b[38;5;28;01mtry\u001b[39;00m:\n\u001b[0;32m---> 73\u001b[0m     \u001b[38;5;28;01mreturn\u001b[39;00m \u001b[43mIPv4Network\u001b[49m\u001b[43m(\u001b[49m\u001b[43maddress\u001b[49m\u001b[43m,\u001b[49m\u001b[43m \u001b[49m\u001b[43mstrict\u001b[49m\u001b[43m)\u001b[49m\n\u001b[1;32m     74\u001b[0m \u001b[38;5;28;01mexcept\u001b[39;00m (AddressValueError, NetmaskValueError):\n\u001b[1;32m     75\u001b[0m     \u001b[38;5;28;01mpass\u001b[39;00m\n",
      "File \u001b[0;32m/opt/anaconda3/lib/python3.9/ipaddress.py:1506\u001b[0m, in \u001b[0;36mIPv4Network.__init__\u001b[0;34m(self, address, strict)\u001b[0m\n\u001b[1;32m   1504\u001b[0m \u001b[38;5;28;01mif\u001b[39;00m packed \u001b[38;5;241m&\u001b[39m \u001b[38;5;28mint\u001b[39m(\u001b[38;5;28mself\u001b[39m\u001b[38;5;241m.\u001b[39mnetmask) \u001b[38;5;241m!=\u001b[39m packed:\n\u001b[1;32m   1505\u001b[0m     \u001b[38;5;28;01mif\u001b[39;00m strict:\n\u001b[0;32m-> 1506\u001b[0m         \u001b[38;5;28;01mraise\u001b[39;00m \u001b[38;5;167;01mValueError\u001b[39;00m(\u001b[38;5;124m'\u001b[39m\u001b[38;5;132;01m%s\u001b[39;00m\u001b[38;5;124m has host bits set\u001b[39m\u001b[38;5;124m'\u001b[39m \u001b[38;5;241m%\u001b[39m \u001b[38;5;28mself\u001b[39m)\n\u001b[1;32m   1507\u001b[0m     \u001b[38;5;28;01melse\u001b[39;00m:\n\u001b[1;32m   1508\u001b[0m         \u001b[38;5;28mself\u001b[39m\u001b[38;5;241m.\u001b[39mnetwork_address \u001b[38;5;241m=\u001b[39m IPv4Address(packed \u001b[38;5;241m&\u001b[39m\n\u001b[1;32m   1509\u001b[0m                                            \u001b[38;5;28mint\u001b[39m(\u001b[38;5;28mself\u001b[39m\u001b[38;5;241m.\u001b[39mnetmask))\n",
      "\u001b[0;31mValueError\u001b[0m: 192.0.2.1/24 has host bits set"
     ]
    }
   ],
   "source": [
    "ipaddress.ip_network('192.0.2.1/24')"
   ]
  },
  {
   "cell_type": "code",
   "execution_count": 61,
   "id": "be223e9b",
   "metadata": {},
   "outputs": [
    {
     "data": {
      "text/plain": [
       "IPv4Network('192.0.2.0/24')"
      ]
     },
     "execution_count": 61,
     "metadata": {},
     "output_type": "execute_result"
    }
   ],
   "source": [
    "ipaddress.ip_network('192.0.2.1/24', strict=False)"
   ]
  },
  {
   "cell_type": "markdown",
   "id": "18fc7661",
   "metadata": {},
   "source": [
    "While the string form offers significantly more flexibility, networks can also be defined with integers, just like host addresses. In this case, the network is considered to contain only the single address identified by the integer, so the network prefix includes the entire network address:"
   ]
  },
  {
   "cell_type": "code",
   "execution_count": 18,
   "id": "b2fe3b46",
   "metadata": {},
   "outputs": [
    {
     "data": {
      "text/plain": [
       "IPv4Network('192.0.2.0/32')"
      ]
     },
     "execution_count": 18,
     "metadata": {},
     "output_type": "execute_result"
    }
   ],
   "source": [
    "ipaddress.ip_network(3221225984)"
   ]
  },
  {
   "cell_type": "code",
   "execution_count": 19,
   "id": "ff6c4ed7",
   "metadata": {},
   "outputs": [
    {
     "data": {
      "text/plain": [
       "IPv6Network('2001:db8::/128')"
      ]
     },
     "execution_count": 19,
     "metadata": {},
     "output_type": "execute_result"
    }
   ],
   "source": [
    "ipaddress.ip_network(42540766411282592856903984951653826560)"
   ]
  },
  {
   "cell_type": "markdown",
   "id": "898d9869",
   "metadata": {},
   "source": [
    "As with addresses, creation of a particular kind of network can be forced by calling the class constructor directly instead of using the factory function.\n",
    "\n",
    "Host Interfaces\n",
    "As mentioned just above, if you need to describe an address on a particular network, neither the address nor the network classes are sufficient. Notation like 192.0.2.1/24 is commonly used by network engineers and the people who write tools for firewalls and routers as shorthand for “the host 192.0.2.1 on the network 192.0.2.0/24”, Accordingly, ipaddress provides a set of hybrid classes that associate an address with a particular network. The interface for creation is identical to that for defining network objects, except that the address portion isn’t constrained to being a network address."
   ]
  },
  {
   "cell_type": "code",
   "execution_count": 20,
   "id": "0ba209e5",
   "metadata": {},
   "outputs": [
    {
     "data": {
      "text/plain": [
       "IPv4Interface('192.0.2.1/24')"
      ]
     },
     "execution_count": 20,
     "metadata": {},
     "output_type": "execute_result"
    }
   ],
   "source": [
    "ipaddress.ip_interface('192.0.2.1/24')"
   ]
  },
  {
   "cell_type": "code",
   "execution_count": 21,
   "id": "dc044943",
   "metadata": {},
   "outputs": [
    {
     "data": {
      "text/plain": [
       "IPv6Interface('2001:db8::1/96')"
      ]
     },
     "execution_count": 21,
     "metadata": {},
     "output_type": "execute_result"
    }
   ],
   "source": [
    "ipaddress.ip_interface('2001:db8::1/96')"
   ]
  },
  {
   "cell_type": "markdown",
   "id": "d39644f5",
   "metadata": {},
   "source": [
    "Integer inputs are accepted (as with networks), and use of a particular IP version can be forced by calling the relevant constructor directly.\n",
    "\n",
    "Inspecting Address/Network/Interface Objects\n",
    "You’ve gone to the trouble of creating an IPv(4|6)(Address|Network|Interface) object, so you probably want to get information about it. ipaddress tries to make doing this easy and intuitive.\n",
    "\n",
    "Extracting the IP version:"
   ]
  },
  {
   "cell_type": "code",
   "execution_count": 22,
   "id": "1ba92d52",
   "metadata": {},
   "outputs": [],
   "source": [
    "addr4 = ipaddress.ip_address('192.0.2.1')"
   ]
  },
  {
   "cell_type": "code",
   "execution_count": 62,
   "id": "111ea0d4",
   "metadata": {},
   "outputs": [
    {
     "data": {
      "text/plain": [
       "6"
      ]
     },
     "execution_count": 62,
     "metadata": {},
     "output_type": "execute_result"
    }
   ],
   "source": [
    "addr6 = ipaddress.ip_address('2001:db8::1')\n",
    "\n",
    "addr6.version"
   ]
  },
  {
   "cell_type": "code",
   "execution_count": 26,
   "id": "7616e2d6",
   "metadata": {},
   "outputs": [
    {
     "data": {
      "text/plain": [
       "4"
      ]
     },
     "execution_count": 26,
     "metadata": {},
     "output_type": "execute_result"
    }
   ],
   "source": [
    "addr4.version"
   ]
  },
  {
   "cell_type": "markdown",
   "id": "1aac8658",
   "metadata": {},
   "source": [
    "Obtaining the network from an interface:"
   ]
  },
  {
   "cell_type": "code",
   "execution_count": 28,
   "id": "940ffb1f",
   "metadata": {},
   "outputs": [
    {
     "data": {
      "text/plain": [
       "IPv4Network('192.0.2.0/24')"
      ]
     },
     "execution_count": 28,
     "metadata": {},
     "output_type": "execute_result"
    }
   ],
   "source": [
    "host4 = ipaddress.ip_interface('192.0.2.1/24')\n",
    "host4.network"
   ]
  },
  {
   "cell_type": "code",
   "execution_count": 29,
   "id": "e60be998",
   "metadata": {},
   "outputs": [
    {
     "data": {
      "text/plain": [
       "IPv6Network('2001:db8::/96')"
      ]
     },
     "execution_count": 29,
     "metadata": {},
     "output_type": "execute_result"
    }
   ],
   "source": [
    "host6 = ipaddress.ip_interface('2001:db8::1/96')\n",
    "host6.network"
   ]
  },
  {
   "cell_type": "markdown",
   "id": "c8aa01ab",
   "metadata": {},
   "source": [
    "Finding out how many individual addresses are in a network:"
   ]
  },
  {
   "cell_type": "code",
   "execution_count": 31,
   "id": "6b0af1ca",
   "metadata": {},
   "outputs": [
    {
     "data": {
      "text/plain": [
       "256"
      ]
     },
     "execution_count": 31,
     "metadata": {},
     "output_type": "execute_result"
    }
   ],
   "source": [
    "net4 = ipaddress.ip_network('192.0.2.0/24')\n",
    "net4.num_addresses"
   ]
  },
  {
   "cell_type": "code",
   "execution_count": 30,
   "id": "47b2c6d8",
   "metadata": {},
   "outputs": [
    {
     "data": {
      "text/plain": [
       "4294967296"
      ]
     },
     "execution_count": 30,
     "metadata": {},
     "output_type": "execute_result"
    }
   ],
   "source": [
    "net6 = ipaddress.ip_network('2001:db8::0/96')\n",
    "net6.num_addresses"
   ]
  },
  {
   "cell_type": "markdown",
   "id": "800b43cc",
   "metadata": {},
   "source": [
    "Iterating through the “usable” addresses on a network:"
   ]
  },
  {
   "cell_type": "code",
   "execution_count": 32,
   "id": "c7485a1d",
   "metadata": {},
   "outputs": [
    {
     "name": "stdout",
     "output_type": "stream",
     "text": [
      "192.0.2.1\n",
      "192.0.2.2\n",
      "192.0.2.3\n",
      "192.0.2.4\n",
      "192.0.2.5\n",
      "192.0.2.6\n",
      "192.0.2.7\n",
      "192.0.2.8\n",
      "192.0.2.9\n",
      "192.0.2.10\n",
      "192.0.2.11\n",
      "192.0.2.12\n",
      "192.0.2.13\n",
      "192.0.2.14\n",
      "192.0.2.15\n",
      "192.0.2.16\n",
      "192.0.2.17\n",
      "192.0.2.18\n",
      "192.0.2.19\n",
      "192.0.2.20\n",
      "192.0.2.21\n",
      "192.0.2.22\n",
      "192.0.2.23\n",
      "192.0.2.24\n",
      "192.0.2.25\n",
      "192.0.2.26\n",
      "192.0.2.27\n",
      "192.0.2.28\n",
      "192.0.2.29\n",
      "192.0.2.30\n",
      "192.0.2.31\n",
      "192.0.2.32\n",
      "192.0.2.33\n",
      "192.0.2.34\n",
      "192.0.2.35\n",
      "192.0.2.36\n",
      "192.0.2.37\n",
      "192.0.2.38\n",
      "192.0.2.39\n",
      "192.0.2.40\n",
      "192.0.2.41\n",
      "192.0.2.42\n",
      "192.0.2.43\n",
      "192.0.2.44\n",
      "192.0.2.45\n",
      "192.0.2.46\n",
      "192.0.2.47\n",
      "192.0.2.48\n",
      "192.0.2.49\n",
      "192.0.2.50\n",
      "192.0.2.51\n",
      "192.0.2.52\n",
      "192.0.2.53\n",
      "192.0.2.54\n",
      "192.0.2.55\n",
      "192.0.2.56\n",
      "192.0.2.57\n",
      "192.0.2.58\n",
      "192.0.2.59\n",
      "192.0.2.60\n",
      "192.0.2.61\n",
      "192.0.2.62\n",
      "192.0.2.63\n",
      "192.0.2.64\n",
      "192.0.2.65\n",
      "192.0.2.66\n",
      "192.0.2.67\n",
      "192.0.2.68\n",
      "192.0.2.69\n",
      "192.0.2.70\n",
      "192.0.2.71\n",
      "192.0.2.72\n",
      "192.0.2.73\n",
      "192.0.2.74\n",
      "192.0.2.75\n",
      "192.0.2.76\n",
      "192.0.2.77\n",
      "192.0.2.78\n",
      "192.0.2.79\n",
      "192.0.2.80\n",
      "192.0.2.81\n",
      "192.0.2.82\n",
      "192.0.2.83\n",
      "192.0.2.84\n",
      "192.0.2.85\n",
      "192.0.2.86\n",
      "192.0.2.87\n",
      "192.0.2.88\n",
      "192.0.2.89\n",
      "192.0.2.90\n",
      "192.0.2.91\n",
      "192.0.2.92\n",
      "192.0.2.93\n",
      "192.0.2.94\n",
      "192.0.2.95\n",
      "192.0.2.96\n",
      "192.0.2.97\n",
      "192.0.2.98\n",
      "192.0.2.99\n",
      "192.0.2.100\n",
      "192.0.2.101\n",
      "192.0.2.102\n",
      "192.0.2.103\n",
      "192.0.2.104\n",
      "192.0.2.105\n",
      "192.0.2.106\n",
      "192.0.2.107\n",
      "192.0.2.108\n",
      "192.0.2.109\n",
      "192.0.2.110\n",
      "192.0.2.111\n",
      "192.0.2.112\n",
      "192.0.2.113\n",
      "192.0.2.114\n",
      "192.0.2.115\n",
      "192.0.2.116\n",
      "192.0.2.117\n",
      "192.0.2.118\n",
      "192.0.2.119\n",
      "192.0.2.120\n",
      "192.0.2.121\n",
      "192.0.2.122\n",
      "192.0.2.123\n",
      "192.0.2.124\n",
      "192.0.2.125\n",
      "192.0.2.126\n",
      "192.0.2.127\n",
      "192.0.2.128\n",
      "192.0.2.129\n",
      "192.0.2.130\n",
      "192.0.2.131\n",
      "192.0.2.132\n",
      "192.0.2.133\n",
      "192.0.2.134\n",
      "192.0.2.135\n",
      "192.0.2.136\n",
      "192.0.2.137\n",
      "192.0.2.138\n",
      "192.0.2.139\n",
      "192.0.2.140\n",
      "192.0.2.141\n",
      "192.0.2.142\n",
      "192.0.2.143\n",
      "192.0.2.144\n",
      "192.0.2.145\n",
      "192.0.2.146\n",
      "192.0.2.147\n",
      "192.0.2.148\n",
      "192.0.2.149\n",
      "192.0.2.150\n",
      "192.0.2.151\n",
      "192.0.2.152\n",
      "192.0.2.153\n",
      "192.0.2.154\n",
      "192.0.2.155\n",
      "192.0.2.156\n",
      "192.0.2.157\n",
      "192.0.2.158\n",
      "192.0.2.159\n",
      "192.0.2.160\n",
      "192.0.2.161\n",
      "192.0.2.162\n",
      "192.0.2.163\n",
      "192.0.2.164\n",
      "192.0.2.165\n",
      "192.0.2.166\n",
      "192.0.2.167\n",
      "192.0.2.168\n",
      "192.0.2.169\n",
      "192.0.2.170\n",
      "192.0.2.171\n",
      "192.0.2.172\n",
      "192.0.2.173\n",
      "192.0.2.174\n",
      "192.0.2.175\n",
      "192.0.2.176\n",
      "192.0.2.177\n",
      "192.0.2.178\n",
      "192.0.2.179\n",
      "192.0.2.180\n",
      "192.0.2.181\n",
      "192.0.2.182\n",
      "192.0.2.183\n",
      "192.0.2.184\n",
      "192.0.2.185\n",
      "192.0.2.186\n",
      "192.0.2.187\n",
      "192.0.2.188\n",
      "192.0.2.189\n",
      "192.0.2.190\n",
      "192.0.2.191\n",
      "192.0.2.192\n",
      "192.0.2.193\n",
      "192.0.2.194\n",
      "192.0.2.195\n",
      "192.0.2.196\n",
      "192.0.2.197\n",
      "192.0.2.198\n",
      "192.0.2.199\n",
      "192.0.2.200\n",
      "192.0.2.201\n",
      "192.0.2.202\n",
      "192.0.2.203\n",
      "192.0.2.204\n",
      "192.0.2.205\n",
      "192.0.2.206\n",
      "192.0.2.207\n",
      "192.0.2.208\n",
      "192.0.2.209\n",
      "192.0.2.210\n",
      "192.0.2.211\n",
      "192.0.2.212\n",
      "192.0.2.213\n",
      "192.0.2.214\n",
      "192.0.2.215\n",
      "192.0.2.216\n",
      "192.0.2.217\n",
      "192.0.2.218\n",
      "192.0.2.219\n",
      "192.0.2.220\n",
      "192.0.2.221\n",
      "192.0.2.222\n",
      "192.0.2.223\n",
      "192.0.2.224\n",
      "192.0.2.225\n",
      "192.0.2.226\n",
      "192.0.2.227\n",
      "192.0.2.228\n",
      "192.0.2.229\n",
      "192.0.2.230\n",
      "192.0.2.231\n",
      "192.0.2.232\n",
      "192.0.2.233\n",
      "192.0.2.234\n",
      "192.0.2.235\n",
      "192.0.2.236\n",
      "192.0.2.237\n",
      "192.0.2.238\n",
      "192.0.2.239\n",
      "192.0.2.240\n",
      "192.0.2.241\n",
      "192.0.2.242\n",
      "192.0.2.243\n",
      "192.0.2.244\n",
      "192.0.2.245\n",
      "192.0.2.246\n",
      "192.0.2.247\n",
      "192.0.2.248\n",
      "192.0.2.249\n",
      "192.0.2.250\n",
      "192.0.2.251\n",
      "192.0.2.252\n",
      "192.0.2.253\n",
      "192.0.2.254\n"
     ]
    }
   ],
   "source": [
    "net4 = ipaddress.ip_network('192.0.2.0/24')\n",
    "for x in net4.hosts():\n",
    "    print(x)  "
   ]
  },
  {
   "cell_type": "markdown",
   "id": "ee3f4de6",
   "metadata": {},
   "source": [
    "Obtaining the netmask (i.e. set bits corresponding to the network prefix) or the hostmask (any bits that are not part of the netmask):"
   ]
  },
  {
   "cell_type": "code",
   "execution_count": 33,
   "id": "dba1c3c1",
   "metadata": {},
   "outputs": [
    {
     "data": {
      "text/plain": [
       "IPv4Address('255.255.255.0')"
      ]
     },
     "execution_count": 33,
     "metadata": {},
     "output_type": "execute_result"
    }
   ],
   "source": [
    "net4 = ipaddress.ip_network('192.0.2.0/24')\n",
    "net4.netmask"
   ]
  },
  {
   "cell_type": "code",
   "execution_count": 34,
   "id": "3e7aae95",
   "metadata": {},
   "outputs": [
    {
     "data": {
      "text/plain": [
       "IPv4Address('0.0.0.255')"
      ]
     },
     "execution_count": 34,
     "metadata": {},
     "output_type": "execute_result"
    }
   ],
   "source": [
    "net4.hostmask"
   ]
  },
  {
   "cell_type": "code",
   "execution_count": 35,
   "id": "d15ec40c",
   "metadata": {},
   "outputs": [
    {
     "data": {
      "text/plain": [
       "IPv6Address('ffff:ffff:ffff:ffff:ffff:ffff::')"
      ]
     },
     "execution_count": 35,
     "metadata": {},
     "output_type": "execute_result"
    }
   ],
   "source": [
    "net6 = ipaddress.ip_network('2001:db8::0/96')\n",
    "net6.netmask"
   ]
  },
  {
   "cell_type": "code",
   "execution_count": 36,
   "id": "7f5d587e",
   "metadata": {},
   "outputs": [
    {
     "data": {
      "text/plain": [
       "IPv6Address('::ffff:ffff')"
      ]
     },
     "execution_count": 36,
     "metadata": {},
     "output_type": "execute_result"
    }
   ],
   "source": [
    "net6.hostmask"
   ]
  },
  {
   "cell_type": "markdown",
   "id": "cb9eeefb",
   "metadata": {},
   "source": [
    "Exploding or compressing the address:"
   ]
  },
  {
   "cell_type": "code",
   "execution_count": 37,
   "id": "1c80756b",
   "metadata": {},
   "outputs": [
    {
     "data": {
      "text/plain": [
       "'2001:0db8:0000:0000:0000:0000:0000:0001'"
      ]
     },
     "execution_count": 37,
     "metadata": {},
     "output_type": "execute_result"
    }
   ],
   "source": [
    "addr6.exploded"
   ]
  },
  {
   "cell_type": "code",
   "execution_count": 38,
   "id": "d4dd0af1",
   "metadata": {},
   "outputs": [
    {
     "data": {
      "text/plain": [
       "'2001:db8::1'"
      ]
     },
     "execution_count": 38,
     "metadata": {},
     "output_type": "execute_result"
    }
   ],
   "source": [
    "addr6.compressed"
   ]
  },
  {
   "cell_type": "code",
   "execution_count": 39,
   "id": "93ad853e",
   "metadata": {},
   "outputs": [
    {
     "data": {
      "text/plain": [
       "'2001:0db8:0000:0000:0000:0000:0000:0000/96'"
      ]
     },
     "execution_count": 39,
     "metadata": {},
     "output_type": "execute_result"
    }
   ],
   "source": [
    "net6.exploded"
   ]
  },
  {
   "cell_type": "code",
   "execution_count": 40,
   "id": "17481d3a",
   "metadata": {},
   "outputs": [
    {
     "data": {
      "text/plain": [
       "'2001:db8::/96'"
      ]
     },
     "execution_count": 40,
     "metadata": {},
     "output_type": "execute_result"
    }
   ],
   "source": [
    "net6.compressed"
   ]
  },
  {
   "cell_type": "markdown",
   "id": "22ad9bdd",
   "metadata": {},
   "source": [
    "While IPv4 doesn’t support explosion or compression, the associated objects still provide the relevant properties so that version neutral code can easily ensure the most concise or most verbose form is used for IPv6 addresses while still correctly handling IPv4 addresses.\n",
    "\n",
    "Networks as lists of Addresses\n",
    "It’s sometimes useful to treat networks as lists. This means it is possible to index them like this:"
   ]
  },
  {
   "cell_type": "code",
   "execution_count": 41,
   "id": "bb55ddb1",
   "metadata": {},
   "outputs": [
    {
     "data": {
      "text/plain": [
       "IPv4Address('192.0.2.1')"
      ]
     },
     "execution_count": 41,
     "metadata": {},
     "output_type": "execute_result"
    }
   ],
   "source": [
    "net4[1]"
   ]
  },
  {
   "cell_type": "code",
   "execution_count": 42,
   "id": "53dd6899",
   "metadata": {},
   "outputs": [
    {
     "data": {
      "text/plain": [
       "IPv4Address('192.0.2.255')"
      ]
     },
     "execution_count": 42,
     "metadata": {},
     "output_type": "execute_result"
    }
   ],
   "source": [
    "net4[-1]"
   ]
  },
  {
   "cell_type": "code",
   "execution_count": 43,
   "id": "a492ab9e",
   "metadata": {},
   "outputs": [
    {
     "data": {
      "text/plain": [
       "IPv6Address('2001:db8::1')"
      ]
     },
     "execution_count": 43,
     "metadata": {},
     "output_type": "execute_result"
    }
   ],
   "source": [
    "net6[1]"
   ]
  },
  {
   "cell_type": "code",
   "execution_count": 44,
   "id": "461541de",
   "metadata": {},
   "outputs": [
    {
     "data": {
      "text/plain": [
       "IPv6Address('2001:db8::ffff:ffff')"
      ]
     },
     "execution_count": 44,
     "metadata": {},
     "output_type": "execute_result"
    }
   ],
   "source": [
    "net6[-1]"
   ]
  },
  {
   "cell_type": "markdown",
   "id": "11cbc1f0",
   "metadata": {},
   "source": [
    "It also means that network objects lend themselves to using the list membership test syntax like this:"
   ]
  },
  {
   "cell_type": "code",
   "execution_count": null,
   "id": "053bfd34",
   "metadata": {},
   "outputs": [],
   "source": [
    "if address in network:\n",
    "    # do something"
   ]
  },
  {
   "cell_type": "markdown",
   "id": "fa39f279",
   "metadata": {},
   "source": [
    "Containment testing is done efficiently based on the network prefix:"
   ]
  },
  {
   "cell_type": "code",
   "execution_count": 48,
   "id": "488dff61",
   "metadata": {},
   "outputs": [],
   "source": [
    "addr4 = ipaddress.ip_address('192.0.2.1')"
   ]
  },
  {
   "cell_type": "code",
   "execution_count": 46,
   "id": "562eae86",
   "metadata": {},
   "outputs": [
    {
     "data": {
      "text/plain": [
       "True"
      ]
     },
     "execution_count": 46,
     "metadata": {},
     "output_type": "execute_result"
    }
   ],
   "source": [
    "addr4 in ipaddress.ip_network('192.0.2.0/24')"
   ]
  },
  {
   "cell_type": "code",
   "execution_count": 47,
   "id": "e9049a3d",
   "metadata": {},
   "outputs": [
    {
     "data": {
      "text/plain": [
       "False"
      ]
     },
     "execution_count": 47,
     "metadata": {},
     "output_type": "execute_result"
    }
   ],
   "source": [
    "addr4 in ipaddress.ip_network('192.0.3.0/24')"
   ]
  },
  {
   "cell_type": "markdown",
   "id": "2aba4323",
   "metadata": {},
   "source": [
    "Comparisons\n",
    "ipaddress provides some simple, hopefully intuitive ways to compare objects, where it makes sense:"
   ]
  },
  {
   "cell_type": "code",
   "execution_count": 49,
   "id": "b8217fcb",
   "metadata": {},
   "outputs": [
    {
     "data": {
      "text/plain": [
       "True"
      ]
     },
     "execution_count": 49,
     "metadata": {},
     "output_type": "execute_result"
    }
   ],
   "source": [
    "ipaddress.ip_address('192.0.2.1') < ipaddress.ip_address('192.0.2.2')"
   ]
  },
  {
   "cell_type": "markdown",
   "id": "c67396e1",
   "metadata": {},
   "source": [
    "A TypeError exception is raised if you try to compare objects of different versions or different types.\n",
    "\n",
    "Using IP Addresses with other modules\n",
    "Other modules that use IP addresses (such as socket) usually won’t accept objects from this module directly. Instead, they must be coerced to an integer or string that the other module will accept:"
   ]
  },
  {
   "cell_type": "code",
   "execution_count": 50,
   "id": "f9064b17",
   "metadata": {},
   "outputs": [
    {
     "data": {
      "text/plain": [
       "'192.0.2.1'"
      ]
     },
     "execution_count": 50,
     "metadata": {},
     "output_type": "execute_result"
    }
   ],
   "source": [
    "addr4 = ipaddress.ip_address('192.0.2.1')\n",
    "str(addr4)"
   ]
  },
  {
   "cell_type": "code",
   "execution_count": 51,
   "id": "7fdb83ad",
   "metadata": {},
   "outputs": [
    {
     "data": {
      "text/plain": [
       "3221225985"
      ]
     },
     "execution_count": 51,
     "metadata": {},
     "output_type": "execute_result"
    }
   ],
   "source": [
    "int(addr4)"
   ]
  },
  {
   "cell_type": "markdown",
   "id": "a9c64c21",
   "metadata": {},
   "source": [
    "Getting more detail when instance creation fails\n",
    "When creating address/network/interface objects using the version-agnostic factory functions, any errors will be reported as ValueError with a generic error message that simply says the passed in value was not recognized as an object of that type. The lack of a specific error is because it’s necessary to know whether the value is supposed to be IPv4 or IPv6 in order to provide more detail on why it has been rejected.\n",
    "\n",
    "To support use cases where it is useful to have access to this additional detail, the individual class constructors actually raise the ValueError subclasses ipaddress.AddressValueError and ipaddress.NetmaskValueError to indicate exactly which part of the definition failed to parse correctly.\n",
    "\n",
    "The error messages are significantly more detailed when using the class constructors directly. For example:"
   ]
  },
  {
   "cell_type": "code",
   "execution_count": 52,
   "id": "24369f36",
   "metadata": {},
   "outputs": [
    {
     "ename": "ValueError",
     "evalue": "'192.168.0.256' does not appear to be an IPv4 or IPv6 address",
     "output_type": "error",
     "traceback": [
      "\u001b[0;31m---------------------------------------------------------------------------\u001b[0m",
      "\u001b[0;31mValueError\u001b[0m                                Traceback (most recent call last)",
      "Cell \u001b[0;32mIn[52], line 1\u001b[0m\n\u001b[0;32m----> 1\u001b[0m \u001b[43mipaddress\u001b[49m\u001b[38;5;241;43m.\u001b[39;49m\u001b[43mip_address\u001b[49m\u001b[43m(\u001b[49m\u001b[38;5;124;43m\"\u001b[39;49m\u001b[38;5;124;43m192.168.0.256\u001b[39;49m\u001b[38;5;124;43m\"\u001b[39;49m\u001b[43m)\u001b[49m\n",
      "File \u001b[0;32m/opt/anaconda3/lib/python3.9/ipaddress.py:53\u001b[0m, in \u001b[0;36mip_address\u001b[0;34m(address)\u001b[0m\n\u001b[1;32m     50\u001b[0m \u001b[38;5;28;01mexcept\u001b[39;00m (AddressValueError, NetmaskValueError):\n\u001b[1;32m     51\u001b[0m     \u001b[38;5;28;01mpass\u001b[39;00m\n\u001b[0;32m---> 53\u001b[0m \u001b[38;5;28;01mraise\u001b[39;00m \u001b[38;5;167;01mValueError\u001b[39;00m(\u001b[38;5;124mf\u001b[39m\u001b[38;5;124m'\u001b[39m\u001b[38;5;132;01m{\u001b[39;00maddress\u001b[38;5;132;01m!r}\u001b[39;00m\u001b[38;5;124m does not appear to be an IPv4 or IPv6 address\u001b[39m\u001b[38;5;124m'\u001b[39m)\n",
      "\u001b[0;31mValueError\u001b[0m: '192.168.0.256' does not appear to be an IPv4 or IPv6 address"
     ]
    }
   ],
   "source": [
    "ipaddress.ip_address(\"192.168.0.256\")"
   ]
  },
  {
   "cell_type": "code",
   "execution_count": 53,
   "id": "e9f9dcb8",
   "metadata": {},
   "outputs": [
    {
     "ename": "AddressValueError",
     "evalue": "Octet 256 (> 255) not permitted in '192.168.0.256'",
     "output_type": "error",
     "traceback": [
      "\u001b[0;31m---------------------------------------------------------------------------\u001b[0m",
      "\u001b[0;31mAddressValueError\u001b[0m                         Traceback (most recent call last)",
      "Cell \u001b[0;32mIn[53], line 1\u001b[0m\n\u001b[0;32m----> 1\u001b[0m \u001b[43mipaddress\u001b[49m\u001b[38;5;241;43m.\u001b[39;49m\u001b[43mIPv4Address\u001b[49m\u001b[43m(\u001b[49m\u001b[38;5;124;43m\"\u001b[39;49m\u001b[38;5;124;43m192.168.0.256\u001b[39;49m\u001b[38;5;124;43m\"\u001b[39;49m\u001b[43m)\u001b[49m\n",
      "File \u001b[0;32m/opt/anaconda3/lib/python3.9/ipaddress.py:1304\u001b[0m, in \u001b[0;36mIPv4Address.__init__\u001b[0;34m(self, address)\u001b[0m\n\u001b[1;32m   1302\u001b[0m \u001b[38;5;28;01mif\u001b[39;00m \u001b[38;5;124m'\u001b[39m\u001b[38;5;124m/\u001b[39m\u001b[38;5;124m'\u001b[39m \u001b[38;5;129;01min\u001b[39;00m addr_str:\n\u001b[1;32m   1303\u001b[0m     \u001b[38;5;28;01mraise\u001b[39;00m AddressValueError(\u001b[38;5;124mf\u001b[39m\u001b[38;5;124m\"\u001b[39m\u001b[38;5;124mUnexpected \u001b[39m\u001b[38;5;124m'\u001b[39m\u001b[38;5;124m/\u001b[39m\u001b[38;5;124m'\u001b[39m\u001b[38;5;124m in \u001b[39m\u001b[38;5;132;01m{\u001b[39;00maddress\u001b[38;5;132;01m!r}\u001b[39;00m\u001b[38;5;124m\"\u001b[39m)\n\u001b[0;32m-> 1304\u001b[0m \u001b[38;5;28mself\u001b[39m\u001b[38;5;241m.\u001b[39m_ip \u001b[38;5;241m=\u001b[39m \u001b[38;5;28;43mself\u001b[39;49m\u001b[38;5;241;43m.\u001b[39;49m\u001b[43m_ip_int_from_string\u001b[49m\u001b[43m(\u001b[49m\u001b[43maddr_str\u001b[49m\u001b[43m)\u001b[49m\n",
      "File \u001b[0;32m/opt/anaconda3/lib/python3.9/ipaddress.py:1196\u001b[0m, in \u001b[0;36m_BaseV4._ip_int_from_string\u001b[0;34m(cls, ip_str)\u001b[0m\n\u001b[1;32m   1194\u001b[0m     \u001b[38;5;28;01mreturn\u001b[39;00m \u001b[38;5;28mint\u001b[39m\u001b[38;5;241m.\u001b[39mfrom_bytes(\u001b[38;5;28mmap\u001b[39m(\u001b[38;5;28mcls\u001b[39m\u001b[38;5;241m.\u001b[39m_parse_octet, octets), \u001b[38;5;124m'\u001b[39m\u001b[38;5;124mbig\u001b[39m\u001b[38;5;124m'\u001b[39m)\n\u001b[1;32m   1195\u001b[0m \u001b[38;5;28;01mexcept\u001b[39;00m \u001b[38;5;167;01mValueError\u001b[39;00m \u001b[38;5;28;01mas\u001b[39;00m exc:\n\u001b[0;32m-> 1196\u001b[0m     \u001b[38;5;28;01mraise\u001b[39;00m AddressValueError(\u001b[38;5;124m\"\u001b[39m\u001b[38;5;132;01m%s\u001b[39;00m\u001b[38;5;124m in \u001b[39m\u001b[38;5;132;01m%r\u001b[39;00m\u001b[38;5;124m\"\u001b[39m \u001b[38;5;241m%\u001b[39m (exc, ip_str)) \u001b[38;5;28;01mfrom\u001b[39;00m \u001b[38;5;28;01mNone\u001b[39;00m\n",
      "\u001b[0;31mAddressValueError\u001b[0m: Octet 256 (> 255) not permitted in '192.168.0.256'"
     ]
    }
   ],
   "source": [
    "ipaddress.IPv4Address(\"192.168.0.256\")"
   ]
  },
  {
   "cell_type": "code",
   "execution_count": 55,
   "id": "9fbf175c",
   "metadata": {},
   "outputs": [
    {
     "ename": "ValueError",
     "evalue": "'192.168.0.1/64' does not appear to be an IPv4 or IPv6 network",
     "output_type": "error",
     "traceback": [
      "\u001b[0;31m---------------------------------------------------------------------------\u001b[0m",
      "\u001b[0;31mValueError\u001b[0m                                Traceback (most recent call last)",
      "Cell \u001b[0;32mIn[55], line 1\u001b[0m\n\u001b[0;32m----> 1\u001b[0m \u001b[43mipaddress\u001b[49m\u001b[38;5;241;43m.\u001b[39;49m\u001b[43mip_network\u001b[49m\u001b[43m(\u001b[49m\u001b[38;5;124;43m\"\u001b[39;49m\u001b[38;5;124;43m192.168.0.1/64\u001b[39;49m\u001b[38;5;124;43m\"\u001b[39;49m\u001b[43m)\u001b[49m\n",
      "File \u001b[0;32m/opt/anaconda3/lib/python3.9/ipaddress.py:82\u001b[0m, in \u001b[0;36mip_network\u001b[0;34m(address, strict)\u001b[0m\n\u001b[1;32m     79\u001b[0m \u001b[38;5;28;01mexcept\u001b[39;00m (AddressValueError, NetmaskValueError):\n\u001b[1;32m     80\u001b[0m     \u001b[38;5;28;01mpass\u001b[39;00m\n\u001b[0;32m---> 82\u001b[0m \u001b[38;5;28;01mraise\u001b[39;00m \u001b[38;5;167;01mValueError\u001b[39;00m(\u001b[38;5;124mf\u001b[39m\u001b[38;5;124m'\u001b[39m\u001b[38;5;132;01m{\u001b[39;00maddress\u001b[38;5;132;01m!r}\u001b[39;00m\u001b[38;5;124m does not appear to be an IPv4 or IPv6 network\u001b[39m\u001b[38;5;124m'\u001b[39m)\n",
      "\u001b[0;31mValueError\u001b[0m: '192.168.0.1/64' does not appear to be an IPv4 or IPv6 network"
     ]
    }
   ],
   "source": [
    "ipaddress.ip_network(\"192.168.0.1/64\")"
   ]
  },
  {
   "cell_type": "code",
   "execution_count": 56,
   "id": "a107c8b6",
   "metadata": {},
   "outputs": [
    {
     "ename": "NetmaskValueError",
     "evalue": "'64' is not a valid netmask",
     "output_type": "error",
     "traceback": [
      "\u001b[0;31m---------------------------------------------------------------------------\u001b[0m",
      "\u001b[0;31mNetmaskValueError\u001b[0m                         Traceback (most recent call last)",
      "Cell \u001b[0;32mIn[56], line 1\u001b[0m\n\u001b[0;32m----> 1\u001b[0m \u001b[43mipaddress\u001b[49m\u001b[38;5;241;43m.\u001b[39;49m\u001b[43mIPv4Network\u001b[49m\u001b[43m(\u001b[49m\u001b[38;5;124;43m\"\u001b[39;49m\u001b[38;5;124;43m192.168.0.1/64\u001b[39;49m\u001b[38;5;124;43m\"\u001b[39;49m\u001b[43m)\u001b[49m\n",
      "File \u001b[0;32m/opt/anaconda3/lib/python3.9/ipaddress.py:1502\u001b[0m, in \u001b[0;36mIPv4Network.__init__\u001b[0;34m(self, address, strict)\u001b[0m\n\u001b[1;32m   1499\u001b[0m addr, mask \u001b[38;5;241m=\u001b[39m \u001b[38;5;28mself\u001b[39m\u001b[38;5;241m.\u001b[39m_split_addr_prefix(address)\n\u001b[1;32m   1501\u001b[0m \u001b[38;5;28mself\u001b[39m\u001b[38;5;241m.\u001b[39mnetwork_address \u001b[38;5;241m=\u001b[39m IPv4Address(addr)\n\u001b[0;32m-> 1502\u001b[0m \u001b[38;5;28mself\u001b[39m\u001b[38;5;241m.\u001b[39mnetmask, \u001b[38;5;28mself\u001b[39m\u001b[38;5;241m.\u001b[39m_prefixlen \u001b[38;5;241m=\u001b[39m \u001b[38;5;28;43mself\u001b[39;49m\u001b[38;5;241;43m.\u001b[39;49m\u001b[43m_make_netmask\u001b[49m\u001b[43m(\u001b[49m\u001b[43mmask\u001b[49m\u001b[43m)\u001b[49m\n\u001b[1;32m   1503\u001b[0m packed \u001b[38;5;241m=\u001b[39m \u001b[38;5;28mint\u001b[39m(\u001b[38;5;28mself\u001b[39m\u001b[38;5;241m.\u001b[39mnetwork_address)\n\u001b[1;32m   1504\u001b[0m \u001b[38;5;28;01mif\u001b[39;00m packed \u001b[38;5;241m&\u001b[39m \u001b[38;5;28mint\u001b[39m(\u001b[38;5;28mself\u001b[39m\u001b[38;5;241m.\u001b[39mnetmask) \u001b[38;5;241m!=\u001b[39m packed:\n",
      "File \u001b[0;32m/opt/anaconda3/lib/python3.9/ipaddress.py:1167\u001b[0m, in \u001b[0;36m_BaseV4._make_netmask\u001b[0;34m(cls, arg)\u001b[0m\n\u001b[1;32m   1163\u001b[0m         prefixlen \u001b[38;5;241m=\u001b[39m \u001b[38;5;28mcls\u001b[39m\u001b[38;5;241m.\u001b[39m_prefix_from_prefix_string(arg)\n\u001b[1;32m   1164\u001b[0m     \u001b[38;5;28;01mexcept\u001b[39;00m NetmaskValueError:\n\u001b[1;32m   1165\u001b[0m         \u001b[38;5;66;03m# Check for a netmask or hostmask in dotted-quad form.\u001b[39;00m\n\u001b[1;32m   1166\u001b[0m         \u001b[38;5;66;03m# This may raise NetmaskValueError.\u001b[39;00m\n\u001b[0;32m-> 1167\u001b[0m         prefixlen \u001b[38;5;241m=\u001b[39m \u001b[38;5;28;43mcls\u001b[39;49m\u001b[38;5;241;43m.\u001b[39;49m\u001b[43m_prefix_from_ip_string\u001b[49m\u001b[43m(\u001b[49m\u001b[43marg\u001b[49m\u001b[43m)\u001b[49m\n\u001b[1;32m   1168\u001b[0m netmask \u001b[38;5;241m=\u001b[39m IPv4Address(\u001b[38;5;28mcls\u001b[39m\u001b[38;5;241m.\u001b[39m_ip_int_from_prefix(prefixlen))\n\u001b[1;32m   1169\u001b[0m \u001b[38;5;28mcls\u001b[39m\u001b[38;5;241m.\u001b[39m_netmask_cache[arg] \u001b[38;5;241m=\u001b[39m netmask, prefixlen\n",
      "File \u001b[0;32m/opt/anaconda3/lib/python3.9/ipaddress.py:515\u001b[0m, in \u001b[0;36m_IPAddressBase._prefix_from_ip_string\u001b[0;34m(cls, ip_str)\u001b[0m\n\u001b[1;32m    513\u001b[0m     ip_int \u001b[38;5;241m=\u001b[39m \u001b[38;5;28mcls\u001b[39m\u001b[38;5;241m.\u001b[39m_ip_int_from_string(ip_str)\n\u001b[1;32m    514\u001b[0m \u001b[38;5;28;01mexcept\u001b[39;00m AddressValueError:\n\u001b[0;32m--> 515\u001b[0m     \u001b[38;5;28;43mcls\u001b[39;49m\u001b[38;5;241;43m.\u001b[39;49m\u001b[43m_report_invalid_netmask\u001b[49m\u001b[43m(\u001b[49m\u001b[43mip_str\u001b[49m\u001b[43m)\u001b[49m\n\u001b[1;32m    517\u001b[0m \u001b[38;5;66;03m# Try matching a netmask (this would be /1*0*/ as a bitwise regexp).\u001b[39;00m\n\u001b[1;32m    518\u001b[0m \u001b[38;5;66;03m# Note that the two ambiguous cases (all-ones and all-zeroes) are\u001b[39;00m\n\u001b[1;32m    519\u001b[0m \u001b[38;5;66;03m# treated as netmasks.\u001b[39;00m\n\u001b[1;32m    520\u001b[0m \u001b[38;5;28;01mtry\u001b[39;00m:\n",
      "File \u001b[0;32m/opt/anaconda3/lib/python3.9/ipaddress.py:471\u001b[0m, in \u001b[0;36m_IPAddressBase._report_invalid_netmask\u001b[0;34m(cls, netmask_str)\u001b[0m\n\u001b[1;32m    468\u001b[0m \u001b[38;5;129m@classmethod\u001b[39m\n\u001b[1;32m    469\u001b[0m \u001b[38;5;28;01mdef\u001b[39;00m \u001b[38;5;21m_report_invalid_netmask\u001b[39m(\u001b[38;5;28mcls\u001b[39m, netmask_str):\n\u001b[1;32m    470\u001b[0m     msg \u001b[38;5;241m=\u001b[39m \u001b[38;5;124m'\u001b[39m\u001b[38;5;132;01m%r\u001b[39;00m\u001b[38;5;124m is not a valid netmask\u001b[39m\u001b[38;5;124m'\u001b[39m \u001b[38;5;241m%\u001b[39m netmask_str\n\u001b[0;32m--> 471\u001b[0m     \u001b[38;5;28;01mraise\u001b[39;00m NetmaskValueError(msg) \u001b[38;5;28;01mfrom\u001b[39;00m \u001b[38;5;28;01mNone\u001b[39;00m\n",
      "\u001b[0;31mNetmaskValueError\u001b[0m: '64' is not a valid netmask"
     ]
    }
   ],
   "source": [
    "ipaddress.IPv4Network(\"192.168.0.1/64\")"
   ]
  },
  {
   "cell_type": "markdown",
   "id": "1e96191b",
   "metadata": {},
   "source": [
    "However, both of the module specific exceptions have ValueError as their parent class, so if you’re not concerned with the particular type of error, you can still write code like the following:"
   ]
  },
  {
   "cell_type": "code",
   "execution_count": 58,
   "id": "4397796e",
   "metadata": {},
   "outputs": [
    {
     "name": "stdout",
     "output_type": "stream",
     "text": [
      "address/netmask is invalid for IPv4: <module 'ipaddress' from '/opt/anaconda3/lib/python3.9/ipaddress.py'>\n"
     ]
    }
   ],
   "source": [
    "try:\n",
    "    network = ipaddress.IPv4Network(ipaddress)\n",
    "except ValueError:\n",
    "    print('address/netmask is invalid for IPv4:', ipaddress)"
   ]
  },
  {
   "cell_type": "code",
   "execution_count": null,
   "id": "a2a8c7d2",
   "metadata": {},
   "outputs": [],
   "source": []
  }
 ],
 "metadata": {
  "kernelspec": {
   "display_name": "Python 3 (ipykernel)",
   "language": "python",
   "name": "python3"
  },
  "language_info": {
   "codemirror_mode": {
    "name": "ipython",
    "version": 3
   },
   "file_extension": ".py",
   "mimetype": "text/x-python",
   "name": "python",
   "nbconvert_exporter": "python",
   "pygments_lexer": "ipython3",
   "version": "3.9.18"
  }
 },
 "nbformat": 4,
 "nbformat_minor": 5
}
